{
 "cells": [
  {
   "cell_type": "markdown",
   "id": "1d95f52e-711c-4945-88d5-7a5fe8812679",
   "metadata": {},
   "source": [
    "# Pandas Tutorial"
   ]
  },
  {
   "cell_type": "markdown",
   "id": "0e0afb83-9e90-4355-851c-fa357ce2c766",
   "metadata": {},
   "source": [
    "* **Pandas** is specialized for data manipulation and analysis with labeled data. It offers high-level data structures like DataFrame, designed for tabular data with columns of potentially different data types. Pandas simplifies data cleaning, preparation, and analysis tasks, integrating well with other Python libraries for visualization and machine learning.\n",
    "\n",
    "Pandas for flexible data handling, manipulation, and analysis with tabular data structures."
   ]
  },
  {
   "cell_type": "markdown",
   "id": "d3fd97ae-19c9-4bbc-bc68-28a488872b7d",
   "metadata": {},
   "source": [
    "**Why to use Pandas and not Excel**\n",
    "* using excel wont aloow us to use functions and machine learning technologies provided by python.\n",
    "* the list tuple etc in python dont provide much functionality so you can analyse data, so external library is used. And as Pandas is open siurce hence it is used.\n",
    "* As it is built on numpy, and numpy is fast so it also levrages task of data analysis.\n",
    "* Huge data can't be loaded in excel sheet and also each cell have a limit for data which can be entered."
   ]
  },
  {
   "cell_type": "code",
   "execution_count": 1,
   "id": "0f0cb008-3163-461a-aac9-adaeb9ae1c43",
   "metadata": {},
   "outputs": [],
   "source": [
    "# importing pandas library\n",
    "import pandas as pd\n",
    "import numpy as np"
   ]
  },
  {
   "cell_type": "code",
   "execution_count": 11,
   "id": "4d6d61be-9d44-4594-b862-19f7f17d6fd5",
   "metadata": {},
   "outputs": [],
   "source": [
    "from sklearn.datasets import fetch_california_housing"
   ]
  },
  {
   "cell_type": "markdown",
   "id": "94d14ea5-0bac-4dd3-a587-256a322b7c68",
   "metadata": {},
   "source": [
    "# Creating Pandas Series and DataFrame"
   ]
  },
  {
   "cell_type": "markdown",
   "id": "ec816a47-8f7a-43d2-85d1-1a2daeecbf7d",
   "metadata": {},
   "source": [
    "**Pandas Data Structures**\n",
    "* **DataFrame:-** tabular spreadsheet like structure,diffrent dtypes can be stored,2-D array,represent rows each of which cointain one or more multiple column.\n",
    "* **Series:-** stores single row or column of data in dataFrame,1-D array with indexes,capable of holding any 1 dtype. "
   ]
  },
  {
   "cell_type": "markdown",
   "id": "cb4d8352-a2f4-44e9-86d6-7c325344b321",
   "metadata": {},
   "source": [
    "### Creating Pandas series"
   ]
  },
  {
   "cell_type": "code",
   "execution_count": 12,
   "id": "a0ee5738-15be-4e2f-996d-f2dc1abbf9dc",
   "metadata": {},
   "outputs": [
    {
     "name": "stdout",
     "output_type": "stream",
     "text": [
      "0    0.679687\n",
      "1    0.535168\n",
      "2    0.509343\n",
      "3    0.894883\n",
      "4    0.559798\n",
      "5    0.448194\n",
      "6    0.252741\n",
      "dtype: float64\n"
     ]
    },
    {
     "data": {
      "text/plain": [
       "pandas.core.series.Series"
      ]
     },
     "execution_count": 12,
     "metadata": {},
     "output_type": "execute_result"
    }
   ],
   "source": [
    "# Creating pandas series\n",
    "ser = pd.Series(np.random.rand(7))\n",
    "print(ser)\n",
    "type(ser)"
   ]
  },
  {
   "cell_type": "markdown",
   "id": "1f61c55e-d0b8-4108-9f59-752f7050aa0a",
   "metadata": {},
   "source": [
    "### Creating Dataframe"
   ]
  },
  {
   "cell_type": "code",
   "execution_count": 13,
   "id": "db9211e4-b4f1-412c-9715-1c4958b999a5",
   "metadata": {},
   "outputs": [],
   "source": [
    "# loading datset to create dataframe"
   ]
  },
  {
   "cell_type": "code",
   "execution_count": 14,
   "id": "adfec820-036b-492f-b13e-41a6af635891",
   "metadata": {},
   "outputs": [
    {
     "name": "stdout",
     "output_type": "stream",
     "text": [
      "Type = <class 'sklearn.utils._bunch.Bunch'>\n"
     ]
    }
   ],
   "source": [
    "house = fetch_california_housing()\n",
    "print(f\"Type = {type(house)}\")"
   ]
  },
  {
   "cell_type": "code",
   "execution_count": 15,
   "id": "fc01d930-f7a5-455a-8b59-33c30b28b8fe",
   "metadata": {},
   "outputs": [
    {
     "name": "stdout",
     "output_type": "stream",
     "text": [
      "{'data': array([[   8.3252    ,   41.        ,    6.98412698, ...,    2.55555556,\n",
      "          37.88      , -122.23      ],\n",
      "       [   8.3014    ,   21.        ,    6.23813708, ...,    2.10984183,\n",
      "          37.86      , -122.22      ],\n",
      "       [   7.2574    ,   52.        ,    8.28813559, ...,    2.80225989,\n",
      "          37.85      , -122.24      ],\n",
      "       ...,\n",
      "       [   1.7       ,   17.        ,    5.20554273, ...,    2.3256351 ,\n",
      "          39.43      , -121.22      ],\n",
      "       [   1.8672    ,   18.        ,    5.32951289, ...,    2.12320917,\n",
      "          39.43      , -121.32      ],\n",
      "       [   2.3886    ,   16.        ,    5.25471698, ...,    2.61698113,\n",
      "          39.37      , -121.24      ]]), 'target': array([4.526, 3.585, 3.521, ..., 0.923, 0.847, 0.894]), 'frame': None, 'target_names': ['MedHouseVal'], 'feature_names': ['MedInc', 'HouseAge', 'AveRooms', 'AveBedrms', 'Population', 'AveOccup', 'Latitude', 'Longitude'], 'DESCR': '.. _california_housing_dataset:\\n\\nCalifornia Housing dataset\\n--------------------------\\n\\n**Data Set Characteristics:**\\n\\n:Number of Instances: 20640\\n\\n:Number of Attributes: 8 numeric, predictive attributes and the target\\n\\n:Attribute Information:\\n    - MedInc        median income in block group\\n    - HouseAge      median house age in block group\\n    - AveRooms      average number of rooms per household\\n    - AveBedrms     average number of bedrooms per household\\n    - Population    block group population\\n    - AveOccup      average number of household members\\n    - Latitude      block group latitude\\n    - Longitude     block group longitude\\n\\n:Missing Attribute Values: None\\n\\nThis dataset was obtained from the StatLib repository.\\nhttps://www.dcc.fc.up.pt/~ltorgo/Regression/cal_housing.html\\n\\nThe target variable is the median house value for California districts,\\nexpressed in hundreds of thousands of dollars ($100,000).\\n\\nThis dataset was derived from the 1990 U.S. census, using one row per census\\nblock group. A block group is the smallest geographical unit for which the U.S.\\nCensus Bureau publishes sample data (a block group typically has a population\\nof 600 to 3,000 people).\\n\\nA household is a group of people residing within a home. Since the average\\nnumber of rooms and bedrooms in this dataset are provided per household, these\\ncolumns may take surprisingly large values for block groups with few households\\nand many empty houses, such as vacation resorts.\\n\\nIt can be downloaded/loaded using the\\n:func:`sklearn.datasets.fetch_california_housing` function.\\n\\n.. rubric:: References\\n\\n- Pace, R. Kelley and Ronald Barry, Sparse Spatial Autoregressions,\\n  Statistics and Probability Letters, 33 (1997) 291-297\\n'}\n"
     ]
    }
   ],
   "source": [
    "print(house)"
   ]
  },
  {
   "cell_type": "code",
   "execution_count": 16,
   "id": "670d31dd-cc07-48c8-bac4-e6f2a28be520",
   "metadata": {},
   "outputs": [],
   "source": [
    "# making a dataframe\n",
    "df = pd.DataFrame(house.data, columns =house.feature_names)"
   ]
  },
  {
   "cell_type": "code",
   "execution_count": 17,
   "id": "562da05a-a472-405a-af79-a24535c4b3f1",
   "metadata": {},
   "outputs": [
    {
     "name": "stdout",
     "output_type": "stream",
     "text": [
      "   MedInc  HouseAge  AveRooms  AveBedrms  Population  AveOccup  Latitude  \\\n",
      "0  8.3252      41.0  6.984127   1.023810       322.0  2.555556     37.88   \n",
      "1  8.3014      21.0  6.238137   0.971880      2401.0  2.109842     37.86   \n",
      "2  7.2574      52.0  8.288136   1.073446       496.0  2.802260     37.85   \n",
      "\n",
      "   Longitude  \n",
      "0    -122.23  \n",
      "1    -122.22  \n",
      "2    -122.24  \n"
     ]
    }
   ],
   "source": [
    "print(df.head(3))  # printing the datset"
   ]
  },
  {
   "cell_type": "code",
   "execution_count": 18,
   "id": "bbceffb7-09b4-4060-8d09-4444bc7bb9e7",
   "metadata": {},
   "outputs": [
    {
     "name": "stdout",
     "output_type": "stream",
     "text": [
      "(20640, 8)\n"
     ]
    }
   ],
   "source": [
    "print(df.shape)"
   ]
  },
  {
   "cell_type": "code",
   "execution_count": 19,
   "id": "b728f580-c76b-461b-b270-9e2cca4f1167",
   "metadata": {},
   "outputs": [
    {
     "name": "stdout",
     "output_type": "stream",
     "text": [
      "165120\n"
     ]
    }
   ],
   "source": [
    "print(df.size)"
   ]
  },
  {
   "cell_type": "code",
   "execution_count": 20,
   "id": "e3b469c5-83fb-48f3-9a41-00f271049e9d",
   "metadata": {},
   "outputs": [
    {
     "name": "stdout",
     "output_type": "stream",
     "text": [
      "<class 'pandas.core.frame.DataFrame'>\n"
     ]
    }
   ],
   "source": [
    "print(type(df))"
   ]
  },
  {
   "cell_type": "code",
   "execution_count": 21,
   "id": "05fe388b-1fef-4600-b2ea-7bbcfb2c5d2d",
   "metadata": {},
   "outputs": [
    {
     "data": {
      "text/html": [
       "<div>\n",
       "<style scoped>\n",
       "    .dataframe tbody tr th:only-of-type {\n",
       "        vertical-align: middle;\n",
       "    }\n",
       "\n",
       "    .dataframe tbody tr th {\n",
       "        vertical-align: top;\n",
       "    }\n",
       "\n",
       "    .dataframe thead th {\n",
       "        text-align: right;\n",
       "    }\n",
       "</style>\n",
       "<table border=\"1\" class=\"dataframe\">\n",
       "  <thead>\n",
       "    <tr style=\"text-align: right;\">\n",
       "      <th></th>\n",
       "      <th>MedInc</th>\n",
       "      <th>HouseAge</th>\n",
       "      <th>AveRooms</th>\n",
       "      <th>AveBedrms</th>\n",
       "      <th>Population</th>\n",
       "      <th>AveOccup</th>\n",
       "      <th>Latitude</th>\n",
       "      <th>Longitude</th>\n",
       "    </tr>\n",
       "  </thead>\n",
       "  <tbody>\n",
       "    <tr>\n",
       "      <th>count</th>\n",
       "      <td>20640.000000</td>\n",
       "      <td>20640.000000</td>\n",
       "      <td>20640.000000</td>\n",
       "      <td>20640.000000</td>\n",
       "      <td>20640.000000</td>\n",
       "      <td>20640.000000</td>\n",
       "      <td>20640.000000</td>\n",
       "      <td>20640.000000</td>\n",
       "    </tr>\n",
       "    <tr>\n",
       "      <th>mean</th>\n",
       "      <td>3.870671</td>\n",
       "      <td>28.639486</td>\n",
       "      <td>5.429000</td>\n",
       "      <td>1.096675</td>\n",
       "      <td>1425.476744</td>\n",
       "      <td>3.070655</td>\n",
       "      <td>35.631861</td>\n",
       "      <td>-119.569704</td>\n",
       "    </tr>\n",
       "    <tr>\n",
       "      <th>std</th>\n",
       "      <td>1.899822</td>\n",
       "      <td>12.585558</td>\n",
       "      <td>2.474173</td>\n",
       "      <td>0.473911</td>\n",
       "      <td>1132.462122</td>\n",
       "      <td>10.386050</td>\n",
       "      <td>2.135952</td>\n",
       "      <td>2.003532</td>\n",
       "    </tr>\n",
       "    <tr>\n",
       "      <th>min</th>\n",
       "      <td>0.499900</td>\n",
       "      <td>1.000000</td>\n",
       "      <td>0.846154</td>\n",
       "      <td>0.333333</td>\n",
       "      <td>3.000000</td>\n",
       "      <td>0.692308</td>\n",
       "      <td>32.540000</td>\n",
       "      <td>-124.350000</td>\n",
       "    </tr>\n",
       "    <tr>\n",
       "      <th>25%</th>\n",
       "      <td>2.563400</td>\n",
       "      <td>18.000000</td>\n",
       "      <td>4.440716</td>\n",
       "      <td>1.006079</td>\n",
       "      <td>787.000000</td>\n",
       "      <td>2.429741</td>\n",
       "      <td>33.930000</td>\n",
       "      <td>-121.800000</td>\n",
       "    </tr>\n",
       "    <tr>\n",
       "      <th>50%</th>\n",
       "      <td>3.534800</td>\n",
       "      <td>29.000000</td>\n",
       "      <td>5.229129</td>\n",
       "      <td>1.048780</td>\n",
       "      <td>1166.000000</td>\n",
       "      <td>2.818116</td>\n",
       "      <td>34.260000</td>\n",
       "      <td>-118.490000</td>\n",
       "    </tr>\n",
       "    <tr>\n",
       "      <th>75%</th>\n",
       "      <td>4.743250</td>\n",
       "      <td>37.000000</td>\n",
       "      <td>6.052381</td>\n",
       "      <td>1.099526</td>\n",
       "      <td>1725.000000</td>\n",
       "      <td>3.282261</td>\n",
       "      <td>37.710000</td>\n",
       "      <td>-118.010000</td>\n",
       "    </tr>\n",
       "    <tr>\n",
       "      <th>max</th>\n",
       "      <td>15.000100</td>\n",
       "      <td>52.000000</td>\n",
       "      <td>141.909091</td>\n",
       "      <td>34.066667</td>\n",
       "      <td>35682.000000</td>\n",
       "      <td>1243.333333</td>\n",
       "      <td>41.950000</td>\n",
       "      <td>-114.310000</td>\n",
       "    </tr>\n",
       "  </tbody>\n",
       "</table>\n",
       "</div>"
      ],
      "text/plain": [
       "             MedInc      HouseAge      AveRooms     AveBedrms    Population  \\\n",
       "count  20640.000000  20640.000000  20640.000000  20640.000000  20640.000000   \n",
       "mean       3.870671     28.639486      5.429000      1.096675   1425.476744   \n",
       "std        1.899822     12.585558      2.474173      0.473911   1132.462122   \n",
       "min        0.499900      1.000000      0.846154      0.333333      3.000000   \n",
       "25%        2.563400     18.000000      4.440716      1.006079    787.000000   \n",
       "50%        3.534800     29.000000      5.229129      1.048780   1166.000000   \n",
       "75%        4.743250     37.000000      6.052381      1.099526   1725.000000   \n",
       "max       15.000100     52.000000    141.909091     34.066667  35682.000000   \n",
       "\n",
       "           AveOccup      Latitude     Longitude  \n",
       "count  20640.000000  20640.000000  20640.000000  \n",
       "mean       3.070655     35.631861   -119.569704  \n",
       "std       10.386050      2.135952      2.003532  \n",
       "min        0.692308     32.540000   -124.350000  \n",
       "25%        2.429741     33.930000   -121.800000  \n",
       "50%        2.818116     34.260000   -118.490000  \n",
       "75%        3.282261     37.710000   -118.010000  \n",
       "max     1243.333333     41.950000   -114.310000  "
      ]
     },
     "execution_count": 21,
     "metadata": {},
     "output_type": "execute_result"
    }
   ],
   "source": [
    "df.describe()"
   ]
  },
  {
   "cell_type": "code",
   "execution_count": 22,
   "id": "df51aa13-4c77-462a-ac6b-48dae58d1891",
   "metadata": {},
   "outputs": [
    {
     "data": {
      "text/plain": [
       "MedInc        float64\n",
       "HouseAge      float64\n",
       "AveRooms      float64\n",
       "AveBedrms     float64\n",
       "Population    float64\n",
       "AveOccup      float64\n",
       "Latitude      float64\n",
       "Longitude     float64\n",
       "dtype: object"
      ]
     },
     "execution_count": 22,
     "metadata": {},
     "output_type": "execute_result"
    }
   ],
   "source": [
    "df.dtypes"
   ]
  },
  {
   "cell_type": "code",
   "execution_count": 23,
   "id": "5a48d666-1aad-438b-a3e3-f4231200d066",
   "metadata": {},
   "outputs": [
    {
     "data": {
      "text/plain": [
       "RangeIndex(start=0, stop=20640, step=1)"
      ]
     },
     "execution_count": 23,
     "metadata": {},
     "output_type": "execute_result"
    }
   ],
   "source": [
    "df.index"
   ]
  },
  {
   "cell_type": "code",
   "execution_count": 24,
   "id": "5b2df001-ebfc-4ede-82b3-2bf8ad308493",
   "metadata": {},
   "outputs": [
    {
     "data": {
      "text/plain": [
       "Index(['MedInc', 'HouseAge', 'AveRooms', 'AveBedrms', 'Population', 'AveOccup',\n",
       "       'Latitude', 'Longitude'],\n",
       "      dtype='object')"
      ]
     },
     "execution_count": 24,
     "metadata": {},
     "output_type": "execute_result"
    }
   ],
   "source": [
    "df.columns"
   ]
  },
  {
   "cell_type": "markdown",
   "id": "f7074994-73b5-4863-8ee7-25a955fc0b93",
   "metadata": {},
   "source": [
    "# Importing data from a CSV File"
   ]
  },
  {
   "cell_type": "code",
   "execution_count": 25,
   "id": "0ce75da7-68a0-4e57-b69b-5dde923646e6",
   "metadata": {},
   "outputs": [],
   "source": [
    "df1 = pd.read_csv(\"Employee_Sample_Data.csv\", encoding=\"ISO-8859-1\")"
   ]
  },
  {
   "cell_type": "code",
   "execution_count": 26,
   "id": "2b80938f-0275-4374-b9c2-91f9eee2e7b8",
   "metadata": {},
   "outputs": [
    {
     "name": "stdout",
     "output_type": "stream",
     "text": [
      "<class 'pandas.core.frame.DataFrame'>\n"
     ]
    }
   ],
   "source": [
    "print(type(df1))"
   ]
  },
  {
   "cell_type": "code",
   "execution_count": 27,
   "id": "7330c5bd-c539-48fb-8629-15b833de02e3",
   "metadata": {},
   "outputs": [
    {
     "name": "stdout",
     "output_type": "stream",
     "text": [
      "Size: 14000 \n",
      "\n",
      "Shape: (1000, 14)\n",
      "\n",
      "Head:      EEID        Full Name                 Job Title Department  \\\n",
      "0  E02387      Emily Davis                Sr. Manger         IT   \n",
      "1  E04105    Theodore Dinh       Technical Architect         IT   \n",
      "2  E02572     Luna Sanders                  Director    Finance   \n",
      "3  E02832  Penelope Jordan  Computer Systems Manager         IT   \n",
      "4  E01639        Austin Vo               Sr. Analyst    Finance   \n",
      "\n",
      "            Business Unit  Gender  Ethnicity  Age   Hire Date Annual Salary  \\\n",
      "0  Research & Development  Female      Black   55    4/8/2016     $141,604    \n",
      "1           Manufacturing    Male      Asian   59  11/29/1997      $99,975    \n",
      "2     Speciality Products  Female  Caucasian   50  10/26/2006     $163,099    \n",
      "3           Manufacturing  Female  Caucasian   26   9/27/2019      $84,913    \n",
      "4           Manufacturing    Male      Asian   55  11/20/1995      $95,409    \n",
      "\n",
      "  Bonus %        Country       City   Exit Date  \n",
      "0    15%   United States    Seattle  10/16/2021  \n",
      "1     0%           China  Chongqing         NaN  \n",
      "2    20%   United States    Chicago         NaN  \n",
      "3     7%   United States    Chicago         NaN  \n",
      "4     0%   United States    Phoenix         NaN  \n"
     ]
    }
   ],
   "source": [
    "print(f\"Size: {df1.size} \\n\")\n",
    "print(f\"Shape: {df1.shape}\\n\")\n",
    "print(f\"Head: {df1.head(5)}\")"
   ]
  },
  {
   "cell_type": "markdown",
   "id": "af9b4caf-1d4e-4096-af00-842701e8e973",
   "metadata": {},
   "source": [
    "***To upload a excel file to dataframe use the method:-***\n",
    " - df2 = pd.read_excel(\"file path\")"
   ]
  },
  {
   "cell_type": "markdown",
   "id": "3df3c365-b230-46f2-824f-69d3aa89e276",
   "metadata": {},
   "source": [
    "# Exporting Dataframe to a CSV File"
   ]
  },
  {
   "cell_type": "code",
   "execution_count": 28,
   "id": "3648a12e-674e-43e7-a924-8ea54c15d655",
   "metadata": {},
   "outputs": [],
   "source": [
    "df.to_csv(\"house.csv\")"
   ]
  },
  {
   "cell_type": "markdown",
   "id": "6749843b-d15e-422f-ab42-5d80292f1640",
   "metadata": {},
   "source": [
    "***Exporting Dataframe to a Excel File:-***\n",
    "- df.to_excel(\"file name\")"
   ]
  },
  {
   "cell_type": "markdown",
   "id": "f0ed7eaa-8b2d-41a2-b4fa-32ca3af88dcc",
   "metadata": {},
   "source": [
    "# Creating dataframe with random values"
   ]
  },
  {
   "cell_type": "code",
   "execution_count": 29,
   "id": "89ce8491-e0b2-4f1a-bac1-c35724331f6b",
   "metadata": {},
   "outputs": [],
   "source": [
    "exa = pd.DataFrame(np.random.rand(7,10))"
   ]
  },
  {
   "cell_type": "code",
   "execution_count": 30,
   "id": "ffeffaf0-e274-4bd6-bc2e-646fbee64f73",
   "metadata": {},
   "outputs": [
    {
     "name": "stdout",
     "output_type": "stream",
     "text": [
      "Size: 70 \n",
      "\n",
      "Shape: (7, 10)\n",
      "\n",
      "Head:           0         1         2         3         4         5         6  \\\n",
      "0  0.301940  0.625832  0.022198  0.448423  0.618155  0.967162  0.558697   \n",
      "1  0.690828  0.341005  0.946913  0.745508  0.917080  0.854695  0.518261   \n",
      "2  0.345366  0.362038  0.267767  0.961451  0.006086  0.116984  0.596180   \n",
      "3  0.827368  0.501688  0.334005  0.599991  0.859271  0.722251  0.586115   \n",
      "4  0.653717  0.919357  0.582266  0.494642  0.960474  0.571428  0.811443   \n",
      "\n",
      "          7         8         9  \n",
      "0  0.294026  0.994228  0.656725  \n",
      "1  0.360087  0.407029  0.203389  \n",
      "2  0.593887  0.309937  0.147398  \n",
      "3  0.698134  0.397223  0.647229  \n",
      "4  0.980180  0.529988  0.346110  \n",
      "\n",
      "<class 'pandas.core.frame.DataFrame'>\n"
     ]
    }
   ],
   "source": [
    "print(f\"Size: {exa.size} \\n\")\n",
    "print(f\"Shape: {exa.shape}\\n\")\n",
    "print(f\"Head: {exa.head(5)}\\n\")\n",
    "print(type(exa))"
   ]
  },
  {
   "cell_type": "markdown",
   "id": "77271d82-4617-41fb-98c9-d2969ab02c4d",
   "metadata": {},
   "source": [
    "# Inspecting a dataframe"
   ]
  },
  {
   "cell_type": "code",
   "execution_count": 31,
   "id": "80e35f8f-a9d4-402e-a8e9-81ee50aaddb5",
   "metadata": {},
   "outputs": [
    {
     "name": "stdout",
     "output_type": "stream",
     "text": [
      "Size: 20 \n",
      "\n",
      "Shape: (4, 5)\n",
      "\n",
      "Head:\n",
      "           0         1         2         3         4\n",
      "0  0.466143  0.175473  0.688878  0.533775  0.791782\n",
      "1  0.416860  0.656924  0.682014  0.264768  0.541568\n",
      "2  0.481915  0.755184  0.848820  0.532503  0.906138\n",
      "3  0.789162  0.237942  0.721825  0.297312  0.769908\n",
      "\n",
      "Tail:\n",
      "           0         1         2         3         4\n",
      "2  0.481915  0.755184  0.848820  0.532503  0.906138\n",
      "3  0.789162  0.237942  0.721825  0.297312  0.769908\n",
      "\n",
      "Type:- <class 'pandas.core.frame.DataFrame'>\n"
     ]
    }
   ],
   "source": [
    "exa2 = pd.DataFrame(np.random.rand(4,5))\n",
    "print(f\"Size: {exa2.size} \\n\")\n",
    "print(f\"Shape: {exa2.shape}\\n\")\n",
    "print(f\"Head:\\n {exa2.head(5)}\\n\")\n",
    "print(f\"Tail:\\n {exa2.tail(2)}\\n\")\n",
    "print(f\"Type:- {type(exa2)}\")"
   ]
  },
  {
   "cell_type": "code",
   "execution_count": 32,
   "id": "d5600897-61b3-41b5-9522-eb6a6e297877",
   "metadata": {},
   "outputs": [],
   "source": [
    "#  working on df dataframe to understand better"
   ]
  },
  {
   "cell_type": "code",
   "execution_count": 33,
   "id": "9e4702f8-e1b3-4aa4-b969-fb048e0f199f",
   "metadata": {},
   "outputs": [
    {
     "name": "stdout",
     "output_type": "stream",
     "text": [
      "<class 'pandas.core.frame.DataFrame'>\n",
      "RangeIndex: 20640 entries, 0 to 20639\n",
      "Data columns (total 8 columns):\n",
      " #   Column      Non-Null Count  Dtype  \n",
      "---  ------      --------------  -----  \n",
      " 0   MedInc      20640 non-null  float64\n",
      " 1   HouseAge    20640 non-null  float64\n",
      " 2   AveRooms    20640 non-null  float64\n",
      " 3   AveBedrms   20640 non-null  float64\n",
      " 4   Population  20640 non-null  float64\n",
      " 5   AveOccup    20640 non-null  float64\n",
      " 6   Latitude    20640 non-null  float64\n",
      " 7   Longitude   20640 non-null  float64\n",
      "dtypes: float64(8)\n",
      "memory usage: 1.3 MB\n",
      "None\n"
     ]
    }
   ],
   "source": [
    "print(df.info()) # gives all info about the df"
   ]
  },
  {
   "cell_type": "code",
   "execution_count": 34,
   "id": "3f240965-60cc-4688-b948-659df255ca93",
   "metadata": {},
   "outputs": [
    {
     "name": "stdout",
     "output_type": "stream",
     "text": [
      "MedInc        0\n",
      "HouseAge      0\n",
      "AveRooms      0\n",
      "AveBedrms     0\n",
      "Population    0\n",
      "AveOccup      0\n",
      "Latitude      0\n",
      "Longitude     0\n",
      "dtype: int64\n"
     ]
    }
   ],
   "source": [
    "print(df.isnull().sum())  # tell the sum of number of null values"
   ]
  },
  {
   "cell_type": "code",
   "execution_count": 35,
   "id": "edab555a-23e0-4f44-bd3d-98ef35dc2380",
   "metadata": {},
   "outputs": [
    {
     "data": {
      "text/plain": [
       "Population\n",
       "891.0      25\n",
       "1052.0     24\n",
       "1227.0     24\n",
       "850.0      24\n",
       "761.0      24\n",
       "           ..\n",
       "21.0        1\n",
       "22.0        1\n",
       "11139.0     1\n",
       "9623.0      1\n",
       "9509.0      1\n",
       "Name: count, Length: 3888, dtype: int64"
      ]
     },
     "execution_count": 35,
     "metadata": {},
     "output_type": "execute_result"
    }
   ],
   "source": [
    "# counting number of specific values based on labels\n",
    "df.value_counts(\"Population\")"
   ]
  },
  {
   "cell_type": "code",
   "execution_count": 36,
   "id": "b786e219-7d46-4077-90cb-25750f994339",
   "metadata": {},
   "outputs": [],
   "source": [
    "#  this means that there are 25 instances of 891.0 and 24 of 1052.0 and so on\n",
    "# till last i.e 1 instance of 9509.0 \n",
    "# labels is nothing but the outcomes "
   ]
  },
  {
   "cell_type": "code",
   "execution_count": 37,
   "id": "e0fe50f0-fdff-4f2b-952b-be57c0fa4673",
   "metadata": {},
   "outputs": [
    {
     "data": {
      "text/html": [
       "<div>\n",
       "<style scoped>\n",
       "    .dataframe tbody tr th:only-of-type {\n",
       "        vertical-align: middle;\n",
       "    }\n",
       "\n",
       "    .dataframe tbody tr th {\n",
       "        vertical-align: top;\n",
       "    }\n",
       "\n",
       "    .dataframe thead th {\n",
       "        text-align: right;\n",
       "    }\n",
       "</style>\n",
       "<table border=\"1\" class=\"dataframe\">\n",
       "  <thead>\n",
       "    <tr style=\"text-align: right;\">\n",
       "      <th></th>\n",
       "      <th>MedInc</th>\n",
       "      <th>HouseAge</th>\n",
       "      <th>AveRooms</th>\n",
       "      <th>AveBedrms</th>\n",
       "      <th>AveOccup</th>\n",
       "      <th>Latitude</th>\n",
       "      <th>Longitude</th>\n",
       "    </tr>\n",
       "    <tr>\n",
       "      <th>Population</th>\n",
       "      <th></th>\n",
       "      <th></th>\n",
       "      <th></th>\n",
       "      <th></th>\n",
       "      <th></th>\n",
       "      <th></th>\n",
       "      <th></th>\n",
       "    </tr>\n",
       "  </thead>\n",
       "  <tbody>\n",
       "    <tr>\n",
       "      <th>3.0</th>\n",
       "      <td>0.53600</td>\n",
       "      <td>16.00</td>\n",
       "      <td>4.500000</td>\n",
       "      <td>1.500000</td>\n",
       "      <td>0.750000</td>\n",
       "      <td>34.0400</td>\n",
       "      <td>-118.4400</td>\n",
       "    </tr>\n",
       "    <tr>\n",
       "      <th>5.0</th>\n",
       "      <td>0.53600</td>\n",
       "      <td>26.00</td>\n",
       "      <td>6.000000</td>\n",
       "      <td>1.000000</td>\n",
       "      <td>1.666667</td>\n",
       "      <td>33.6200</td>\n",
       "      <td>-114.6200</td>\n",
       "    </tr>\n",
       "    <tr>\n",
       "      <th>6.0</th>\n",
       "      <td>2.37500</td>\n",
       "      <td>4.00</td>\n",
       "      <td>1.000000</td>\n",
       "      <td>1.000000</td>\n",
       "      <td>3.000000</td>\n",
       "      <td>35.2100</td>\n",
       "      <td>-117.7900</td>\n",
       "    </tr>\n",
       "    <tr>\n",
       "      <th>8.0</th>\n",
       "      <td>2.03125</td>\n",
       "      <td>20.75</td>\n",
       "      <td>3.958333</td>\n",
       "      <td>0.958333</td>\n",
       "      <td>2.500000</td>\n",
       "      <td>34.7825</td>\n",
       "      <td>-118.4725</td>\n",
       "    </tr>\n",
       "    <tr>\n",
       "      <th>9.0</th>\n",
       "      <td>1.08050</td>\n",
       "      <td>15.00</td>\n",
       "      <td>9.800000</td>\n",
       "      <td>2.066667</td>\n",
       "      <td>2.400000</td>\n",
       "      <td>35.9450</td>\n",
       "      <td>-118.8050</td>\n",
       "    </tr>\n",
       "    <tr>\n",
       "      <th>...</th>\n",
       "      <td>...</td>\n",
       "      <td>...</td>\n",
       "      <td>...</td>\n",
       "      <td>...</td>\n",
       "      <td>...</td>\n",
       "      <td>...</td>\n",
       "      <td>...</td>\n",
       "    </tr>\n",
       "    <tr>\n",
       "      <th>15507.0</th>\n",
       "      <td>6.01910</td>\n",
       "      <td>8.00</td>\n",
       "      <td>6.347327</td>\n",
       "      <td>1.047525</td>\n",
       "      <td>3.070693</td>\n",
       "      <td>34.0300</td>\n",
       "      <td>-117.7800</td>\n",
       "    </tr>\n",
       "    <tr>\n",
       "      <th>16122.0</th>\n",
       "      <td>7.49470</td>\n",
       "      <td>4.00</td>\n",
       "      <td>7.311043</td>\n",
       "      <td>1.054346</td>\n",
       "      <td>3.106957</td>\n",
       "      <td>33.8900</td>\n",
       "      <td>-117.7400</td>\n",
       "    </tr>\n",
       "    <tr>\n",
       "      <th>16305.0</th>\n",
       "      <td>4.95160</td>\n",
       "      <td>3.00</td>\n",
       "      <td>7.338559</td>\n",
       "      <td>1.159015</td>\n",
       "      <td>3.043113</td>\n",
       "      <td>38.4300</td>\n",
       "      <td>-121.4400</td>\n",
       "    </tr>\n",
       "    <tr>\n",
       "      <th>28566.0</th>\n",
       "      <td>2.30870</td>\n",
       "      <td>11.00</td>\n",
       "      <td>5.364518</td>\n",
       "      <td>1.059684</td>\n",
       "      <td>4.696810</td>\n",
       "      <td>36.6400</td>\n",
       "      <td>-121.7900</td>\n",
       "    </tr>\n",
       "    <tr>\n",
       "      <th>35682.0</th>\n",
       "      <td>2.57290</td>\n",
       "      <td>14.00</td>\n",
       "      <td>5.270497</td>\n",
       "      <td>1.010484</td>\n",
       "      <td>7.482072</td>\n",
       "      <td>33.3500</td>\n",
       "      <td>-117.4200</td>\n",
       "    </tr>\n",
       "  </tbody>\n",
       "</table>\n",
       "<p>3888 rows × 7 columns</p>\n",
       "</div>"
      ],
      "text/plain": [
       "             MedInc  HouseAge  AveRooms  AveBedrms  AveOccup  Latitude  \\\n",
       "Population                                                               \n",
       "3.0         0.53600     16.00  4.500000   1.500000  0.750000   34.0400   \n",
       "5.0         0.53600     26.00  6.000000   1.000000  1.666667   33.6200   \n",
       "6.0         2.37500      4.00  1.000000   1.000000  3.000000   35.2100   \n",
       "8.0         2.03125     20.75  3.958333   0.958333  2.500000   34.7825   \n",
       "9.0         1.08050     15.00  9.800000   2.066667  2.400000   35.9450   \n",
       "...             ...       ...       ...        ...       ...       ...   \n",
       "15507.0     6.01910      8.00  6.347327   1.047525  3.070693   34.0300   \n",
       "16122.0     7.49470      4.00  7.311043   1.054346  3.106957   33.8900   \n",
       "16305.0     4.95160      3.00  7.338559   1.159015  3.043113   38.4300   \n",
       "28566.0     2.30870     11.00  5.364518   1.059684  4.696810   36.6400   \n",
       "35682.0     2.57290     14.00  5.270497   1.010484  7.482072   33.3500   \n",
       "\n",
       "            Longitude  \n",
       "Population             \n",
       "3.0         -118.4400  \n",
       "5.0         -114.6200  \n",
       "6.0         -117.7900  \n",
       "8.0         -118.4725  \n",
       "9.0         -118.8050  \n",
       "...               ...  \n",
       "15507.0     -117.7800  \n",
       "16122.0     -117.7400  \n",
       "16305.0     -121.4400  \n",
       "28566.0     -121.7900  \n",
       "35682.0     -117.4200  \n",
       "\n",
       "[3888 rows x 7 columns]"
      ]
     },
     "execution_count": 37,
     "metadata": {},
     "output_type": "execute_result"
    }
   ],
   "source": [
    "#  grouping the values based on their means\n",
    "df.groupby(\"Population\").mean()"
   ]
  },
  {
   "cell_type": "code",
   "execution_count": 38,
   "id": "0a13578a-015b-4752-bf83-48a9896435db",
   "metadata": {},
   "outputs": [],
   "source": [
    "# for all the 3 person poluplation the avgerage\n",
    "# MedInc\t= 0.53600\n",
    "# HouseAge = 16.00\t\t\n",
    "# AveRooms = 4.500000\t\n",
    "# AveBedrms = 1.500000\t\t\n",
    "# AveOccup = 0.750000\t\n",
    "# Latitude = 34.0400\t\n",
    "# Longitude = -118.4400\n",
    "# and so on "
   ]
  },
  {
   "cell_type": "markdown",
   "id": "dcf13ea0-c7f0-4a51-bb45-a08ab9fffe3e",
   "metadata": {},
   "source": [
    " ***Some other methods***:-\n",
    "- *df.dropna()*:- Drop rows with at least one NaN value (default behavior: how='any')\n",
    "- *df.dropna(how='all')*:-Drop rows only if all columns are NaN (how='all')\n",
    "- *df.drop_duplicates(subset=['names'])*:- Drop duplicate rows based on the 'names' column. By default, it keeps the first occurrence and removes the rest.\n",
    "- *df.drop_duplicates(subset=['names'], keep='last')*:- Drop duplicate rows based on the 'names' column, Keeps the last occurrence instead of the first\n",
    "- *df.drop_duplicates(subset=['names'], keep=False)*:- Drop all rows that have duplicate values in the 'names' column. Keeps no duplicates at all\n",
    "- *df['city'].value_counts(dropna=False)*:- Get count of each unique value in the 'city' column.Includes NaN values in the count\n",
    "- *df.notnull()*:- Returns a DataFrame indicating True for non-null (not NaN) values\n",
    "- *df.isnull()*:- Returns a DataFrame indicating True for null (NaN) values\n"
   ]
  },
  {
   "cell_type": "markdown",
   "id": "abaa663a-cb2b-481b-b02d-10f5682314b9",
   "metadata": {},
   "source": [
    "### Statistical Measures on Data"
   ]
  },
  {
   "cell_type": "code",
   "execution_count": 39,
   "id": "ec59cb7b-1e65-45ee-b270-d94ec87e519f",
   "metadata": {},
   "outputs": [
    {
     "data": {
      "text/plain": [
       "MedInc        20640\n",
       "HouseAge      20640\n",
       "AveRooms      20640\n",
       "AveBedrms     20640\n",
       "Population    20640\n",
       "AveOccup      20640\n",
       "Latitude      20640\n",
       "Longitude     20640\n",
       "dtype: int64"
      ]
     },
     "execution_count": 39,
     "metadata": {},
     "output_type": "execute_result"
    }
   ],
   "source": [
    "# number of counts in each column\n",
    "df.count()"
   ]
  },
  {
   "cell_type": "code",
   "execution_count": 40,
   "id": "0256ab2c-be3b-4d3d-a2e2-810e1aa14c18",
   "metadata": {},
   "outputs": [
    {
     "data": {
      "text/plain": [
       "MedInc           3.870671\n",
       "HouseAge        28.639486\n",
       "AveRooms         5.429000\n",
       "AveBedrms        1.096675\n",
       "Population    1425.476744\n",
       "AveOccup         3.070655\n",
       "Latitude        35.631861\n",
       "Longitude     -119.569704\n",
       "dtype: float64"
      ]
     },
     "execution_count": 40,
     "metadata": {},
     "output_type": "execute_result"
    }
   ],
   "source": [
    "# mean - column wise\n",
    "df.mean()"
   ]
  },
  {
   "cell_type": "code",
   "execution_count": 42,
   "id": "cb856a6b-7778-4b07-b129-9508fe2613b9",
   "metadata": {},
   "outputs": [
    {
     "data": {
      "text/plain": [
       "MedInc           1.899822\n",
       "HouseAge        12.585558\n",
       "AveRooms         2.474173\n",
       "AveBedrms        0.473911\n",
       "Population    1132.462122\n",
       "AveOccup        10.386050\n",
       "Latitude         2.135952\n",
       "Longitude        2.003532\n",
       "dtype: float64"
      ]
     },
     "execution_count": 42,
     "metadata": {},
     "output_type": "execute_result"
    }
   ],
   "source": [
    "# standard deviation - column wise\n",
    "df.std()"
   ]
  },
  {
   "cell_type": "code",
   "execution_count": 42,
   "id": "e474f487-32c9-432d-bf62-271be46f8bb0",
   "metadata": {
    "scrolled": true
   },
   "outputs": [
    {
     "data": {
      "text/plain": [
       "MedInc           3.534800\n",
       "HouseAge        29.000000\n",
       "AveRooms         5.229129\n",
       "AveBedrms        1.048780\n",
       "Population    1166.000000\n",
       "AveOccup         2.818116\n",
       "Latitude        34.260000\n",
       "Longitude     -118.490000\n",
       "dtype: float64"
      ]
     },
     "execution_count": 42,
     "metadata": {},
     "output_type": "execute_result"
    }
   ],
   "source": [
    "# median value - column wise\n",
    "df.median()"
   ]
  },
  {
   "cell_type": "code",
   "execution_count": 43,
   "id": "0f061d32-cd4a-4a79-a231-14ec303c236a",
   "metadata": {},
   "outputs": [
    {
     "data": {
      "text/plain": [
       "MedInc          0.499900\n",
       "HouseAge        1.000000\n",
       "AveRooms        0.846154\n",
       "AveBedrms       0.333333\n",
       "Population      3.000000\n",
       "AveOccup        0.692308\n",
       "Latitude       32.540000\n",
       "Longitude    -124.350000\n",
       "dtype: float64"
      ]
     },
     "execution_count": 43,
     "metadata": {},
     "output_type": "execute_result"
    }
   ],
   "source": [
    "# minimum value - column wise\n",
    "df.min()"
   ]
  },
  {
   "cell_type": "code",
   "execution_count": 44,
   "id": "aa1e23dc-089d-4c81-b86a-edc08dbced01",
   "metadata": {},
   "outputs": [
    {
     "data": {
      "text/plain": [
       "MedInc           15.000100\n",
       "HouseAge         52.000000\n",
       "AveRooms        141.909091\n",
       "AveBedrms        34.066667\n",
       "Population    35682.000000\n",
       "AveOccup       1243.333333\n",
       "Latitude         41.950000\n",
       "Longitude      -114.310000\n",
       "dtype: float64"
      ]
     },
     "execution_count": 44,
     "metadata": {},
     "output_type": "execute_result"
    }
   ],
   "source": [
    "# max value - column wise\n",
    "df.max()"
   ]
  },
  {
   "cell_type": "code",
   "execution_count": 45,
   "id": "f7313eff-555c-48eb-bbdb-f0f3e49315d5",
   "metadata": {},
   "outputs": [
    {
     "data": {
      "text/html": [
       "<div>\n",
       "<style scoped>\n",
       "    .dataframe tbody tr th:only-of-type {\n",
       "        vertical-align: middle;\n",
       "    }\n",
       "\n",
       "    .dataframe tbody tr th {\n",
       "        vertical-align: top;\n",
       "    }\n",
       "\n",
       "    .dataframe thead th {\n",
       "        text-align: right;\n",
       "    }\n",
       "</style>\n",
       "<table border=\"1\" class=\"dataframe\">\n",
       "  <thead>\n",
       "    <tr style=\"text-align: right;\">\n",
       "      <th></th>\n",
       "      <th>MedInc</th>\n",
       "      <th>HouseAge</th>\n",
       "      <th>AveRooms</th>\n",
       "      <th>AveBedrms</th>\n",
       "      <th>Population</th>\n",
       "      <th>AveOccup</th>\n",
       "      <th>Latitude</th>\n",
       "      <th>Longitude</th>\n",
       "    </tr>\n",
       "  </thead>\n",
       "  <tbody>\n",
       "    <tr>\n",
       "      <th>count</th>\n",
       "      <td>20640.000000</td>\n",
       "      <td>20640.000000</td>\n",
       "      <td>20640.000000</td>\n",
       "      <td>20640.000000</td>\n",
       "      <td>20640.000000</td>\n",
       "      <td>20640.000000</td>\n",
       "      <td>20640.000000</td>\n",
       "      <td>20640.000000</td>\n",
       "    </tr>\n",
       "    <tr>\n",
       "      <th>mean</th>\n",
       "      <td>3.870671</td>\n",
       "      <td>28.639486</td>\n",
       "      <td>5.429000</td>\n",
       "      <td>1.096675</td>\n",
       "      <td>1425.476744</td>\n",
       "      <td>3.070655</td>\n",
       "      <td>35.631861</td>\n",
       "      <td>-119.569704</td>\n",
       "    </tr>\n",
       "    <tr>\n",
       "      <th>std</th>\n",
       "      <td>1.899822</td>\n",
       "      <td>12.585558</td>\n",
       "      <td>2.474173</td>\n",
       "      <td>0.473911</td>\n",
       "      <td>1132.462122</td>\n",
       "      <td>10.386050</td>\n",
       "      <td>2.135952</td>\n",
       "      <td>2.003532</td>\n",
       "    </tr>\n",
       "    <tr>\n",
       "      <th>min</th>\n",
       "      <td>0.499900</td>\n",
       "      <td>1.000000</td>\n",
       "      <td>0.846154</td>\n",
       "      <td>0.333333</td>\n",
       "      <td>3.000000</td>\n",
       "      <td>0.692308</td>\n",
       "      <td>32.540000</td>\n",
       "      <td>-124.350000</td>\n",
       "    </tr>\n",
       "    <tr>\n",
       "      <th>25%</th>\n",
       "      <td>2.563400</td>\n",
       "      <td>18.000000</td>\n",
       "      <td>4.440716</td>\n",
       "      <td>1.006079</td>\n",
       "      <td>787.000000</td>\n",
       "      <td>2.429741</td>\n",
       "      <td>33.930000</td>\n",
       "      <td>-121.800000</td>\n",
       "    </tr>\n",
       "    <tr>\n",
       "      <th>50%</th>\n",
       "      <td>3.534800</td>\n",
       "      <td>29.000000</td>\n",
       "      <td>5.229129</td>\n",
       "      <td>1.048780</td>\n",
       "      <td>1166.000000</td>\n",
       "      <td>2.818116</td>\n",
       "      <td>34.260000</td>\n",
       "      <td>-118.490000</td>\n",
       "    </tr>\n",
       "    <tr>\n",
       "      <th>75%</th>\n",
       "      <td>4.743250</td>\n",
       "      <td>37.000000</td>\n",
       "      <td>6.052381</td>\n",
       "      <td>1.099526</td>\n",
       "      <td>1725.000000</td>\n",
       "      <td>3.282261</td>\n",
       "      <td>37.710000</td>\n",
       "      <td>-118.010000</td>\n",
       "    </tr>\n",
       "    <tr>\n",
       "      <th>max</th>\n",
       "      <td>15.000100</td>\n",
       "      <td>52.000000</td>\n",
       "      <td>141.909091</td>\n",
       "      <td>34.066667</td>\n",
       "      <td>35682.000000</td>\n",
       "      <td>1243.333333</td>\n",
       "      <td>41.950000</td>\n",
       "      <td>-114.310000</td>\n",
       "    </tr>\n",
       "  </tbody>\n",
       "</table>\n",
       "</div>"
      ],
      "text/plain": [
       "             MedInc      HouseAge      AveRooms     AveBedrms    Population  \\\n",
       "count  20640.000000  20640.000000  20640.000000  20640.000000  20640.000000   \n",
       "mean       3.870671     28.639486      5.429000      1.096675   1425.476744   \n",
       "std        1.899822     12.585558      2.474173      0.473911   1132.462122   \n",
       "min        0.499900      1.000000      0.846154      0.333333      3.000000   \n",
       "25%        2.563400     18.000000      4.440716      1.006079    787.000000   \n",
       "50%        3.534800     29.000000      5.229129      1.048780   1166.000000   \n",
       "75%        4.743250     37.000000      6.052381      1.099526   1725.000000   \n",
       "max       15.000100     52.000000    141.909091     34.066667  35682.000000   \n",
       "\n",
       "           AveOccup      Latitude     Longitude  \n",
       "count  20640.000000  20640.000000  20640.000000  \n",
       "mean       3.070655     35.631861   -119.569704  \n",
       "std       10.386050      2.135952      2.003532  \n",
       "min        0.692308     32.540000   -124.350000  \n",
       "25%        2.429741     33.930000   -121.800000  \n",
       "50%        2.818116     34.260000   -118.490000  \n",
       "75%        3.282261     37.710000   -118.010000  \n",
       "max     1243.333333     41.950000   -114.310000  "
      ]
     },
     "execution_count": 45,
     "metadata": {},
     "output_type": "execute_result"
    }
   ],
   "source": [
    "# or we can get all statistical measures of the data in one go.\n",
    "df.describe()"
   ]
  },
  {
   "cell_type": "code",
   "execution_count": 46,
   "id": "95d89dde-edf6-4156-bbc7-0e194de25516",
   "metadata": {},
   "outputs": [],
   "source": [
    "# 25% = lower quartile (25% of values are below this), 50% = median \n",
    "# (middle value), 75% = upper quartile (75% of values are below this)"
   ]
  },
  {
   "cell_type": "markdown",
   "id": "9c219e21-3998-4a9e-8a45-6afb433e29b4",
   "metadata": {},
   "source": [
    "# Manipulating a datframe"
   ]
  },
  {
   "cell_type": "code",
   "execution_count": 2,
   "id": "1d58d64a-e52f-4ee3-9790-d6a052f995db",
   "metadata": {},
   "outputs": [
    {
     "name": "stdout",
     "output_type": "stream",
     "text": [
      "          0         1         2\n",
      "0  0.796698  0.594083  0.823010\n",
      "1  0.758063  0.932249  0.788491\n",
      "2  0.660017  0.609997  0.663609\n",
      "3  0.268068  0.400886  0.974631\n"
     ]
    }
   ],
   "source": [
    "# adding a column to dataframe\n",
    "adf = pd.DataFrame(np.random.rand(4,3))\n",
    "print(adf)"
   ]
  },
  {
   "cell_type": "code",
   "execution_count": 13,
   "id": "98f468af-5f3c-48a2-bdb6-2b49b5f96db6",
   "metadata": {},
   "outputs": [],
   "source": [
    "# the code of line in next cell will alter the original df in place"
   ]
  },
  {
   "cell_type": "code",
   "execution_count": 3,
   "id": "9fe4f13b-90d4-4277-bcc7-00ec5f3f0a97",
   "metadata": {},
   "outputs": [
    {
     "data": {
      "text/html": [
       "<div>\n",
       "<style scoped>\n",
       "    .dataframe tbody tr th:only-of-type {\n",
       "        vertical-align: middle;\n",
       "    }\n",
       "\n",
       "    .dataframe tbody tr th {\n",
       "        vertical-align: top;\n",
       "    }\n",
       "\n",
       "    .dataframe thead th {\n",
       "        text-align: right;\n",
       "    }\n",
       "</style>\n",
       "<table border=\"1\" class=\"dataframe\">\n",
       "  <thead>\n",
       "    <tr style=\"text-align: right;\">\n",
       "      <th></th>\n",
       "      <th>0</th>\n",
       "      <th>1</th>\n",
       "      <th>2</th>\n",
       "      <th>NEW</th>\n",
       "    </tr>\n",
       "  </thead>\n",
       "  <tbody>\n",
       "    <tr>\n",
       "      <th>0</th>\n",
       "      <td>0.796698</td>\n",
       "      <td>0.594083</td>\n",
       "      <td>0.823010</td>\n",
       "      <td>1</td>\n",
       "    </tr>\n",
       "    <tr>\n",
       "      <th>1</th>\n",
       "      <td>0.758063</td>\n",
       "      <td>0.932249</td>\n",
       "      <td>0.788491</td>\n",
       "      <td>2</td>\n",
       "    </tr>\n",
       "    <tr>\n",
       "      <th>2</th>\n",
       "      <td>0.660017</td>\n",
       "      <td>0.609997</td>\n",
       "      <td>0.663609</td>\n",
       "      <td>3</td>\n",
       "    </tr>\n",
       "    <tr>\n",
       "      <th>3</th>\n",
       "      <td>0.268068</td>\n",
       "      <td>0.400886</td>\n",
       "      <td>0.974631</td>\n",
       "      <td>4</td>\n",
       "    </tr>\n",
       "  </tbody>\n",
       "</table>\n",
       "</div>"
      ],
      "text/plain": [
       "          0         1         2  NEW\n",
       "0  0.796698  0.594083  0.823010    1\n",
       "1  0.758063  0.932249  0.788491    2\n",
       "2  0.660017  0.609997  0.663609    3\n",
       "3  0.268068  0.400886  0.974631    4"
      ]
     },
     "execution_count": 3,
     "metadata": {},
     "output_type": "execute_result"
    }
   ],
   "source": [
    "col3 = [1,2,3,4]\n",
    "adf[\"NEW\"] = col3 # remember number of rows need to be same\n",
    "adf.head()"
   ]
  },
  {
   "cell_type": "code",
   "execution_count": 10,
   "id": "2dc4182d-1ccc-4238-9cc3-f2cdbfefbf80",
   "metadata": {},
   "outputs": [],
   "source": [
    "# drop will not alter original df if you want to have the new df to be saved\n",
    "# you need to assign it to a new variable or user inplace"
   ]
  },
  {
   "cell_type": "code",
   "execution_count": 4,
   "id": "96f20225-5611-472b-a983-f24843f64a87",
   "metadata": {},
   "outputs": [
    {
     "data": {
      "text/html": [
       "<div>\n",
       "<style scoped>\n",
       "    .dataframe tbody tr th:only-of-type {\n",
       "        vertical-align: middle;\n",
       "    }\n",
       "\n",
       "    .dataframe tbody tr th {\n",
       "        vertical-align: top;\n",
       "    }\n",
       "\n",
       "    .dataframe thead th {\n",
       "        text-align: right;\n",
       "    }\n",
       "</style>\n",
       "<table border=\"1\" class=\"dataframe\">\n",
       "  <thead>\n",
       "    <tr style=\"text-align: right;\">\n",
       "      <th></th>\n",
       "      <th>0</th>\n",
       "      <th>1</th>\n",
       "      <th>2</th>\n",
       "      <th>NEW</th>\n",
       "    </tr>\n",
       "  </thead>\n",
       "  <tbody>\n",
       "    <tr>\n",
       "      <th>0</th>\n",
       "      <td>0.796698</td>\n",
       "      <td>0.594083</td>\n",
       "      <td>0.823010</td>\n",
       "      <td>1</td>\n",
       "    </tr>\n",
       "    <tr>\n",
       "      <th>2</th>\n",
       "      <td>0.660017</td>\n",
       "      <td>0.609997</td>\n",
       "      <td>0.663609</td>\n",
       "      <td>3</td>\n",
       "    </tr>\n",
       "    <tr>\n",
       "      <th>3</th>\n",
       "      <td>0.268068</td>\n",
       "      <td>0.400886</td>\n",
       "      <td>0.974631</td>\n",
       "      <td>4</td>\n",
       "    </tr>\n",
       "  </tbody>\n",
       "</table>\n",
       "</div>"
      ],
      "text/plain": [
       "          0         1         2  NEW\n",
       "0  0.796698  0.594083  0.823010    1\n",
       "2  0.660017  0.609997  0.663609    3\n",
       "3  0.268068  0.400886  0.974631    4"
      ]
     },
     "execution_count": 4,
     "metadata": {},
     "output_type": "execute_result"
    }
   ],
   "source": [
    "# removing a particular row\n",
    "adf.drop(index= 1, axis = 0)"
   ]
  },
  {
   "cell_type": "code",
   "execution_count": 7,
   "id": "d0425656-439a-4635-a9fe-4edb171d4630",
   "metadata": {},
   "outputs": [
    {
     "data": {
      "text/html": [
       "<div>\n",
       "<style scoped>\n",
       "    .dataframe tbody tr th:only-of-type {\n",
       "        vertical-align: middle;\n",
       "    }\n",
       "\n",
       "    .dataframe tbody tr th {\n",
       "        vertical-align: top;\n",
       "    }\n",
       "\n",
       "    .dataframe thead th {\n",
       "        text-align: right;\n",
       "    }\n",
       "</style>\n",
       "<table border=\"1\" class=\"dataframe\">\n",
       "  <thead>\n",
       "    <tr style=\"text-align: right;\">\n",
       "      <th></th>\n",
       "      <th>0</th>\n",
       "      <th>2</th>\n",
       "      <th>NEW</th>\n",
       "    </tr>\n",
       "  </thead>\n",
       "  <tbody>\n",
       "    <tr>\n",
       "      <th>0</th>\n",
       "      <td>0.796698</td>\n",
       "      <td>0.823010</td>\n",
       "      <td>1</td>\n",
       "    </tr>\n",
       "    <tr>\n",
       "      <th>1</th>\n",
       "      <td>0.758063</td>\n",
       "      <td>0.788491</td>\n",
       "      <td>2</td>\n",
       "    </tr>\n",
       "    <tr>\n",
       "      <th>2</th>\n",
       "      <td>0.660017</td>\n",
       "      <td>0.663609</td>\n",
       "      <td>3</td>\n",
       "    </tr>\n",
       "    <tr>\n",
       "      <th>3</th>\n",
       "      <td>0.268068</td>\n",
       "      <td>0.974631</td>\n",
       "      <td>4</td>\n",
       "    </tr>\n",
       "  </tbody>\n",
       "</table>\n",
       "</div>"
      ],
      "text/plain": [
       "          0         2  NEW\n",
       "0  0.796698  0.823010    1\n",
       "1  0.758063  0.788491    2\n",
       "2  0.660017  0.663609    3\n",
       "3  0.268068  0.974631    4"
      ]
     },
     "execution_count": 7,
     "metadata": {},
     "output_type": "execute_result"
    }
   ],
   "source": [
    "# removing or drop a column\n",
    "adf.drop(columns = 1, axis = 1)"
   ]
  },
  {
   "cell_type": "markdown",
   "id": "02e72dd4-6c0a-4a51-8178-4e8a4df94a06",
   "metadata": {},
   "source": [
    "- .iloc[], which stands for integer-location based indexing in pandas.\n",
    "- It allows you to access rows and columns by position, not labels."
   ]
  },
  {
   "cell_type": "code",
   "execution_count": 8,
   "id": "ed8460fc-761d-489d-8a67-3e3191a9538d",
   "metadata": {},
   "outputs": [
    {
     "data": {
      "text/plain": [
       "0      0.660017\n",
       "1      0.609997\n",
       "2      0.663609\n",
       "NEW    3.000000\n",
       "Name: 2, dtype: float64"
      ]
     },
     "execution_count": 8,
     "metadata": {},
     "output_type": "execute_result"
    }
   ],
   "source": [
    "# locating a row using index value\n",
    "adf.iloc[2]  # iloc is used to locate a particular row or column"
   ]
  },
  {
   "cell_type": "code",
   "execution_count": 12,
   "id": "41dd87fc-da2c-4b4d-94fb-f1c25d5f90ad",
   "metadata": {},
   "outputs": [
    {
     "name": "stdout",
     "output_type": "stream",
     "text": [
      "0    0.796698\n",
      "1    0.758063\n",
      "2    0.660017\n",
      "3    0.268068\n",
      "Name: 0, dtype: float64\n",
      "0    0.594083\n",
      "1    0.932249\n",
      "2    0.609997\n",
      "3    0.400886\n",
      "Name: 1, dtype: float64\n",
      "0    1\n",
      "1    2\n",
      "2    3\n",
      "3    4\n",
      "Name: NEW, dtype: int64\n"
     ]
    }
   ],
   "source": [
    "# locating a specific column\n",
    "print(adf.iloc[:,0])  #prints 1 column\n",
    "print(adf.iloc[:,1])  #prints 2 column\n",
    "print(adf.iloc[:,-1])  #prints last column\n",
    "# .iloc[<row_selection>, <column_selection>]\n",
    "# : → selects all rows , 0 → selects the first column"
   ]
  },
  {
   "cell_type": "markdown",
   "id": "ec617914-9c23-44dc-b526-d03efc310e74",
   "metadata": {},
   "source": [
    "### Correlation\n",
    "- Positive Correlation (directly proportional)\n",
    "- Negative Correlation (inversely proportional)\n",
    "- the columns are nothing but variable\n",
    "- correlations find how one variable affects the other"
   ]
  },
  {
   "cell_type": "code",
   "execution_count": 14,
   "id": "918d5e5b-27a5-4f80-bab1-4e48491d3659",
   "metadata": {},
   "outputs": [
    {
     "data": {
      "text/html": [
       "<div>\n",
       "<style scoped>\n",
       "    .dataframe tbody tr th:only-of-type {\n",
       "        vertical-align: middle;\n",
       "    }\n",
       "\n",
       "    .dataframe tbody tr th {\n",
       "        vertical-align: top;\n",
       "    }\n",
       "\n",
       "    .dataframe thead th {\n",
       "        text-align: right;\n",
       "    }\n",
       "</style>\n",
       "<table border=\"1\" class=\"dataframe\">\n",
       "  <thead>\n",
       "    <tr style=\"text-align: right;\">\n",
       "      <th></th>\n",
       "      <th>0</th>\n",
       "      <th>1</th>\n",
       "      <th>2</th>\n",
       "      <th>NEW</th>\n",
       "    </tr>\n",
       "  </thead>\n",
       "  <tbody>\n",
       "    <tr>\n",
       "      <th>0</th>\n",
       "      <td>1.000000</td>\n",
       "      <td>0.720529</td>\n",
       "      <td>-0.693791</td>\n",
       "      <td>-0.898207</td>\n",
       "    </tr>\n",
       "    <tr>\n",
       "      <th>1</th>\n",
       "      <td>0.720529</td>\n",
       "      <td>1.000000</td>\n",
       "      <td>-0.494409</td>\n",
       "      <td>-0.528736</td>\n",
       "    </tr>\n",
       "    <tr>\n",
       "      <th>2</th>\n",
       "      <td>-0.693791</td>\n",
       "      <td>-0.494409</td>\n",
       "      <td>1.000000</td>\n",
       "      <td>0.332847</td>\n",
       "    </tr>\n",
       "    <tr>\n",
       "      <th>NEW</th>\n",
       "      <td>-0.898207</td>\n",
       "      <td>-0.528736</td>\n",
       "      <td>0.332847</td>\n",
       "      <td>1.000000</td>\n",
       "    </tr>\n",
       "  </tbody>\n",
       "</table>\n",
       "</div>"
      ],
      "text/plain": [
       "            0         1         2       NEW\n",
       "0    1.000000  0.720529 -0.693791 -0.898207\n",
       "1    0.720529  1.000000 -0.494409 -0.528736\n",
       "2   -0.693791 -0.494409  1.000000  0.332847\n",
       "NEW -0.898207 -0.528736  0.332847  1.000000"
      ]
     },
     "execution_count": 14,
     "metadata": {},
     "output_type": "execute_result"
    }
   ],
   "source": [
    "adf.corr()"
   ]
  },
  {
   "cell_type": "code",
   "execution_count": 15,
   "id": "d94aa1c1-b13c-48e3-9bc7-47c568ad4c14",
   "metadata": {},
   "outputs": [],
   "source": [
    "# the values with - sign means a negative correlation and others are + correlation"
   ]
  },
  {
   "cell_type": "markdown",
   "id": "7aa8591a-f8df-422b-b418-6ca57f551c5c",
   "metadata": {},
   "source": [
    " # Pandas Df to Numpy arrays"
   ]
  },
  {
   "cell_type": "code",
   "execution_count": 4,
   "id": "2da4403d-9ad4-4dd4-b812-6bcaf4d8a566",
   "metadata": {},
   "outputs": [],
   "source": [
    "newdf = pd.DataFrame(np.random.rand(125,5), index= np.arange(125))"
   ]
  },
  {
   "cell_type": "code",
   "execution_count": 5,
   "id": "3f75e7fb-3f10-44e8-9f39-fc41891c59fc",
   "metadata": {},
   "outputs": [
    {
     "data": {
      "text/plain": [
       "pandas.core.frame.DataFrame"
      ]
     },
     "execution_count": 5,
     "metadata": {},
     "output_type": "execute_result"
    }
   ],
   "source": [
    "type(newdf)"
   ]
  },
  {
   "cell_type": "code",
   "execution_count": 8,
   "id": "74666417-152a-4547-b1e0-441a688c061f",
   "metadata": {},
   "outputs": [],
   "source": [
    "new1 = newdf.to_numpy()"
   ]
  },
  {
   "cell_type": "code",
   "execution_count": 9,
   "id": "0b379377-9053-4b42-b866-12fd0e0d2ba8",
   "metadata": {},
   "outputs": [
    {
     "data": {
      "text/plain": [
       "numpy.ndarray"
      ]
     },
     "execution_count": 9,
     "metadata": {},
     "output_type": "execute_result"
    }
   ],
   "source": [
    "type(new1)"
   ]
  },
  {
   "cell_type": "markdown",
   "id": "0ddf58a2-9fc5-49d8-a152-d14f9bd0b030",
   "metadata": {},
   "source": [
    "# Copy and View"
   ]
  },
  {
   "cell_type": "markdown",
   "id": "a01c319d-1cb2-45fc-a254-ebcdf7d642d7",
   "metadata": {},
   "source": [
    "* **View** is nothing but a pointer to the array (like here ex 2 ia a pointer to ex 1) any changes in ex2 will be reflected in ex1.\n",
    "* **Copy** makes acopy of the array(here ex2 is a seprate array and a copy of ex1) any changes of ex2 will not be reflected in ex1.\n",
    "* 2 ways to make a copy ex2 = ex1.copy() , \n",
    "                        ex2 = ex1[:]"
   ]
  },
  {
   "cell_type": "code",
   "execution_count": 2,
   "id": "8b2844ff-9fbb-4e65-83bd-39415d7d1ec2",
   "metadata": {},
   "outputs": [
    {
     "name": "stdout",
     "output_type": "stream",
     "text": [
      "           0         1         2         3\n",
      "0   0.990064  0.235488  0.927986  0.400230\n",
      "1   0.146168  0.615573  0.147353  0.319239\n",
      "2   0.278174  0.242746  0.363816  0.221228\n",
      "3   0.281568  0.467717  0.906010  0.106637\n",
      "4   0.083622  0.561195  0.437458  0.002727\n",
      "5   0.627565  0.706570  0.248416  0.250033\n",
      "6   0.258899  0.608505  0.738766  0.230429\n",
      "7   0.969575  0.088379  0.878639  0.592613\n",
      "8   0.158716  0.224525  0.435696  0.026124\n",
      "9   0.003136  0.760795  0.878954  0.505242\n",
      "10  0.516745  0.911464  0.401423  0.756066\n",
      "11  0.794051  0.100174  0.017438  0.112737\n"
     ]
    }
   ],
   "source": [
    "ex1 = pd.DataFrame(np.random.rand(12,4),index = np.arange(12))\n",
    "print(ex1)"
   ]
  },
  {
   "cell_type": "markdown",
   "id": "7a5f6a98-8644-42f7-a700-dd7311c5518d",
   "metadata": {},
   "source": [
    "### Creating view"
   ]
  },
  {
   "cell_type": "code",
   "execution_count": 4,
   "id": "a4e92112-a342-4dd2-a67b-6e9a8e412eb9",
   "metadata": {},
   "outputs": [
    {
     "name": "stdout",
     "output_type": "stream",
     "text": [
      "           0         1         2         3\n",
      "0   0.990064  0.235488  0.927986  0.400230\n",
      "1   0.146168  0.615573  0.147353  0.319239\n",
      "2   0.278174  0.242746  0.363816  0.221228\n",
      "3   0.281568  0.467717  0.906010  0.106637\n",
      "4   0.083622  0.561195  0.437458  0.002727\n",
      "5   0.627565  0.706570  0.248416  0.250033\n",
      "6   0.258899  0.608505  0.738766  0.230429\n",
      "7   0.969575  0.088379  0.878639  0.592613\n",
      "8   0.158716  0.224525  0.435696  0.026124\n",
      "9   0.003136  0.760795  0.878954  0.505242\n",
      "10  0.516745  0.911464  0.401423  0.756066\n",
      "11  0.794051  0.100174  0.017438  0.112737\n"
     ]
    }
   ],
   "source": [
    "ex2 = ex1  # ex2 is view of ex1\n",
    "print(ex2)"
   ]
  },
  {
   "cell_type": "code",
   "execution_count": 5,
   "id": "a522b41a-5be1-4004-be1d-d96b1c5621e7",
   "metadata": {},
   "outputs": [
    {
     "name": "stdout",
     "output_type": "stream",
     "text": [
      "            0         1         2         3\n",
      "0   12.000000  0.235488  0.927986  0.400230\n",
      "1    0.146168  0.615573  0.147353  0.319239\n",
      "2    0.278174  0.242746  0.363816  0.221228\n",
      "3    0.281568  0.467717  0.906010  0.106637\n",
      "4    0.083622  0.561195  0.437458  0.002727\n",
      "5    0.627565  0.706570  0.248416  0.250033\n",
      "6    0.258899  0.608505  0.738766  0.230429\n",
      "7    0.969575  0.088379  0.878639  0.592613\n",
      "8    0.158716  0.224525  0.435696  0.026124\n",
      "9    0.003136  0.760795  0.878954  0.505242\n",
      "10   0.516745  0.911464  0.401423  0.756066\n",
      "11   0.794051  0.100174  0.017438  0.112737\n"
     ]
    },
    {
     "name": "stderr",
     "output_type": "stream",
     "text": [
      "C:\\Users\\Toshaksha\\AppData\\Local\\Temp\\ipykernel_27256\\2196575492.py:1: FutureWarning: ChainedAssignmentError: behaviour will change in pandas 3.0!\n",
      "You are setting values through chained assignment. Currently this works in certain cases, but when using Copy-on-Write (which will become the default behaviour in pandas 3.0) this will never work to update the original DataFrame or Series, because the intermediate object on which we are setting values will behave as a copy.\n",
      "A typical example is when you are setting values in a column of a DataFrame, like:\n",
      "\n",
      "df[\"col\"][row_indexer] = value\n",
      "\n",
      "Use `df.loc[row_indexer, \"col\"] = values` instead, to perform the assignment in a single step and ensure this keeps updating the original `df`.\n",
      "\n",
      "See the caveats in the documentation: https://pandas.pydata.org/pandas-docs/stable/user_guide/indexing.html#returning-a-view-versus-a-copy\n",
      "\n",
      "  ex2[0][0]= 12  #changing a element\n"
     ]
    }
   ],
   "source": [
    "ex2[0][0]= 12  #changing a element\n",
    "print(ex1) \n",
    "# the change done in ex2 is also reflected in ex1"
   ]
  },
  {
   "cell_type": "markdown",
   "id": "1a26d315-580f-42aa-967c-cde1a1483912",
   "metadata": {},
   "source": [
    "### Creating copy"
   ]
  },
  {
   "cell_type": "code",
   "execution_count": 6,
   "id": "4086305a-88a4-469a-9b2e-cfa47eaee8e6",
   "metadata": {},
   "outputs": [
    {
     "name": "stdout",
     "output_type": "stream",
     "text": [
      "           0         1         2         3\n",
      "0   0.416390  0.201257  0.691637  0.754823\n",
      "1   0.470099  0.058370  0.666312  0.270625\n",
      "2   0.714119  0.335996  0.225020  0.623638\n",
      "3   0.313191  0.581529  0.843353  0.636329\n",
      "4   0.059376  0.699456  0.036709  0.389433\n",
      "5   0.736786  0.744943  0.570702  0.999175\n",
      "6   0.840847  0.120717  0.643096  0.260928\n",
      "7   0.493006  0.567909  0.889273  0.649149\n",
      "8   0.223472  0.409996  0.493387  0.870005\n",
      "9   0.165962  0.250480  0.464207  0.861348\n",
      "10  0.021334  0.858756  0.933440  0.344122\n",
      "11  0.674906  0.311731  0.304295  0.010971\n",
      "12  0.567743  0.101840  0.845281  0.491708\n",
      "13  0.018818  0.077684  0.648507  0.458923\n",
      "14  0.564539  0.038239  0.157934  0.584277\n",
      "15  0.101656  0.368988  0.341496  0.089118\n",
      "16  0.511402  0.376225  0.213011  0.032343\n",
      "17  0.057958  0.722585  0.098066  0.354054\n",
      "18  0.082700  0.186969  0.365167  0.796328\n",
      "19  0.565790  0.280597  0.561820  0.286061\n"
     ]
    }
   ],
   "source": [
    "new = pd.DataFrame(np.random.rand(20,4), index = np.arange(20))\n",
    "print(new)"
   ]
  },
  {
   "cell_type": "code",
   "execution_count": 7,
   "id": "53c336a3-806e-4798-9753-ea075b821592",
   "metadata": {},
   "outputs": [
    {
     "name": "stdout",
     "output_type": "stream",
     "text": [
      "            0         1         2         3\n",
      "0   34.000000  0.201257  0.691637  0.754823\n",
      "1    0.470099  0.058370  0.666312  0.270625\n",
      "2    0.714119  0.335996  0.225020  0.623638\n",
      "3    0.313191  0.581529  0.843353  0.636329\n",
      "4    0.059376  0.699456  0.036709  0.389433\n",
      "5    0.736786  0.744943  0.570702  0.999175\n",
      "6    0.840847  0.120717  0.643096  0.260928\n",
      "7    0.493006  0.567909  0.889273  0.649149\n",
      "8    0.223472  0.409996  0.493387  0.870005\n",
      "9    0.165962  0.250480  0.464207  0.861348\n",
      "10   0.021334  0.858756  0.933440  0.344122\n",
      "11   0.674906  0.311731  0.304295  0.010971\n",
      "12   0.567743  0.101840  0.845281  0.491708\n",
      "13   0.018818  0.077684  0.648507  0.458923\n",
      "14   0.564539  0.038239  0.157934  0.584277\n",
      "15   0.101656  0.368988  0.341496  0.089118\n",
      "16   0.511402  0.376225  0.213011  0.032343\n",
      "17   0.057958  0.722585  0.098066  0.354054\n",
      "18   0.082700  0.186969  0.365167  0.796328\n",
      "19   0.565790  0.280597  0.561820  0.286061\n"
     ]
    },
    {
     "name": "stderr",
     "output_type": "stream",
     "text": [
      "C:\\Users\\Toshaksha\\AppData\\Local\\Temp\\ipykernel_27256\\2339260525.py:2: FutureWarning: ChainedAssignmentError: behaviour will change in pandas 3.0!\n",
      "You are setting values through chained assignment. Currently this works in certain cases, but when using Copy-on-Write (which will become the default behaviour in pandas 3.0) this will never work to update the original DataFrame or Series, because the intermediate object on which we are setting values will behave as a copy.\n",
      "A typical example is when you are setting values in a column of a DataFrame, like:\n",
      "\n",
      "df[\"col\"][row_indexer] = value\n",
      "\n",
      "Use `df.loc[row_indexer, \"col\"] = values` instead, to perform the assignment in a single step and ensure this keeps updating the original `df`.\n",
      "\n",
      "See the caveats in the documentation: https://pandas.pydata.org/pandas-docs/stable/user_guide/indexing.html#returning-a-view-versus-a-copy\n",
      "\n",
      "  new2[0][0] = 34\n"
     ]
    }
   ],
   "source": [
    "new2 = new.copy()\n",
    "new2[0][0] = 34\n",
    "print(new2)  # changes are reflected in this df"
   ]
  },
  {
   "cell_type": "code",
   "execution_count": 8,
   "id": "20e99e21-06b4-4081-a2ed-41ff3e578587",
   "metadata": {},
   "outputs": [
    {
     "name": "stdout",
     "output_type": "stream",
     "text": [
      "           0         1         2         3\n",
      "0   0.416390  0.201257  0.691637  0.754823\n",
      "1   0.470099  0.058370  0.666312  0.270625\n",
      "2   0.714119  0.335996  0.225020  0.623638\n",
      "3   0.313191  0.581529  0.843353  0.636329\n",
      "4   0.059376  0.699456  0.036709  0.389433\n",
      "5   0.736786  0.744943  0.570702  0.999175\n",
      "6   0.840847  0.120717  0.643096  0.260928\n",
      "7   0.493006  0.567909  0.889273  0.649149\n",
      "8   0.223472  0.409996  0.493387  0.870005\n",
      "9   0.165962  0.250480  0.464207  0.861348\n",
      "10  0.021334  0.858756  0.933440  0.344122\n",
      "11  0.674906  0.311731  0.304295  0.010971\n",
      "12  0.567743  0.101840  0.845281  0.491708\n",
      "13  0.018818  0.077684  0.648507  0.458923\n",
      "14  0.564539  0.038239  0.157934  0.584277\n",
      "15  0.101656  0.368988  0.341496  0.089118\n",
      "16  0.511402  0.376225  0.213011  0.032343\n",
      "17  0.057958  0.722585  0.098066  0.354054\n",
      "18  0.082700  0.186969  0.365167  0.796328\n",
      "19  0.565790  0.280597  0.561820  0.286061\n"
     ]
    }
   ],
   "source": [
    "# but not reflected in new as new2 is copy of it not view\n",
    "print(new)"
   ]
  },
  {
   "cell_type": "markdown",
   "id": "a3e45c1e-cf06-47a8-b8a1-e9440bd8a6ee",
   "metadata": {},
   "source": [
    "# .loc[] vs .iloc[]"
   ]
  },
  {
   "cell_type": "markdown",
   "id": "b97a27b3-8ed7-4d0f-9f75-a5d359106627",
   "metadata": {},
   "source": [
    "### .loc[] → Label-based indexing\n",
    "- Access rows and columns by name/label\n",
    "- Includes both start and end in slicing\n",
    "\n",
    "### .iloc[] → Index-based (integer position) indexing\n",
    "- Access rows and columns by position (0-based index)\n",
    "- End is exclusive in slicing (like Python list slicing)"
   ]
  },
  {
   "cell_type": "code",
   "execution_count": 9,
   "id": "35ade092-7012-4db5-92c5-de70aac58643",
   "metadata": {},
   "outputs": [
    {
     "name": "stdout",
     "output_type": "stream",
     "text": [
      "Original DataFrame:\n",
      "     A   B    C\n",
      "a  10   5  100\n",
      "b  20  15  200\n",
      "c  30  25  300\n",
      "d  40  35  400\n",
      "e  50  45  500\n",
      "\n",
      ".loc['b', 'B'] → 15\n",
      "\n",
      ".loc['c'] →\n",
      " A     30\n",
      "B     25\n",
      "C    300\n",
      "Name: c, dtype: int64\n",
      "\n",
      ".loc[['a', 'c'], ['A', 'C']] →\n",
      "     A    C\n",
      "a  10  100\n",
      "c  30  300\n",
      "\n",
      ".loc['b':'d'] →\n",
      "     A   B    C\n",
      "b  20  15  200\n",
      "c  30  25  300\n",
      "d  40  35  400\n",
      "\n",
      ".loc[df['A'] > 25] →\n",
      "     A   B    C\n",
      "c  30  25  300\n",
      "d  40  35  400\n",
      "e  50  45  500\n",
      "\n",
      ".iloc[1, 1] → 15\n",
      "\n",
      ".iloc[2] →\n",
      " A     30\n",
      "B     25\n",
      "C    300\n",
      "Name: c, dtype: int64\n",
      "\n",
      ".iloc[[0, 2], [0, 2]] →\n",
      "     A    C\n",
      "a  10  100\n",
      "c  30  300\n",
      "\n",
      ".iloc[1:4] →\n",
      "     A   B    C\n",
      "b  20  15  200\n",
      "c  30  25  300\n",
      "d  40  35  400\n",
      "\n",
      "After df.loc['a', 'A'] = 99 →\n",
      "     A   B    C\n",
      "a  99   5  100\n",
      "b  20  15  200\n",
      "c  30  25  300\n",
      "d  40  35  400\n",
      "e  50  45  500\n",
      "\n",
      "After df.loc[:, ['B']] = 0 →\n",
      "     A  B    C\n",
      "a  99  0  100\n",
      "b  20  0  200\n",
      "c  30  0  300\n",
      "d  40  0  400\n",
      "e  50  0  500\n",
      "\n",
      "After reset_index(drop=True):\n",
      "     A  B    C\n",
      "0  99  0  100\n",
      "1  20  0  200\n",
      "2  30  0  300\n",
      "3  40  0  400\n",
      "4  50  0  500\n"
     ]
    }
   ],
   "source": [
    "# Sample DataFrame\n",
    "data = {\n",
    "    'A': [10, 20, 30, 40, 50],\n",
    "    'B': [5, 15, 25, 35, 45],\n",
    "    'C': [100, 200, 300, 400, 500]\n",
    "}\n",
    "\n",
    "df = pd.DataFrame(data, index=['a', 'b', 'c', 'd', 'e'])\n",
    "print(\"Original DataFrame:\\n\", df)\n",
    "\n",
    "# .loc[] — label-based indexing\n",
    "\n",
    "# Get a single value by row and column labels\n",
    "print(\"\\n.loc['b', 'B'] →\", df.loc['b', 'B'])\n",
    "\n",
    "# Get entire row by label\n",
    "print(\"\\n.loc['c'] →\\n\", df.loc['c'])\n",
    "\n",
    "# Get multiple rows and columns\n",
    "print(\"\\n.loc[['a', 'c'], ['A', 'C']] →\\n\", df.loc[['a', 'c'], ['A', 'C']])\n",
    "\n",
    "# Slice rows (inclusive)\n",
    "print(\"\\n.loc['b':'d'] →\\n\", df.loc['b':'d'])\n",
    "\n",
    "# Conditional filtering\n",
    "print(\"\\n.loc[df['A'] > 25] →\\n\", df.loc[df['A'] > 25])\n",
    "\n",
    "# .iloc[] — index-based (position) indexing\n",
    "\n",
    "# Get a single value by position\n",
    "print(\"\\n.iloc[1, 1] →\", df.iloc[1, 1])\n",
    "\n",
    "# Get entire row by index position\n",
    "print(\"\\n.iloc[2] →\\n\", df.iloc[2])\n",
    "\n",
    "# Get multiple rows and columns by position\n",
    "print(\"\\n.iloc[[0, 2], [0, 2]] →\\n\", df.iloc[[0, 2], [0, 2]])\n",
    "\n",
    "# Slice rows (exclusive of end)\n",
    "print(\"\\n.iloc[1:4] →\\n\", df.iloc[1:4])\n",
    "\n",
    "# Modifying values\n",
    "\n",
    "# Change a specific value using .loc\n",
    "df.loc['a', 'A'] = 99\n",
    "print(\"\\nAfter df.loc['a', 'A'] = 99 →\\n\", df)\n",
    "\n",
    "# Set entire column to a value\n",
    "df.loc[:, ['B']] = 0\n",
    "print(\"\\nAfter df.loc[:, ['B']] = 0 →\\n\", df)\n",
    "\n",
    "# 🧹 Reset index (remove old index column)\n",
    "df.reset_index(drop=True, inplace=True)\n",
    "print(\"\\nAfter reset_index(drop=True):\\n\", df)\n"
   ]
  }
 ],
 "metadata": {
  "kernelspec": {
   "display_name": "Python 3 (ipykernel)",
   "language": "python",
   "name": "python3"
  },
  "language_info": {
   "codemirror_mode": {
    "name": "ipython",
    "version": 3
   },
   "file_extension": ".py",
   "mimetype": "text/x-python",
   "name": "python",
   "nbconvert_exporter": "python",
   "pygments_lexer": "ipython3",
   "version": "3.12.4"
  }
 },
 "nbformat": 4,
 "nbformat_minor": 5
}
