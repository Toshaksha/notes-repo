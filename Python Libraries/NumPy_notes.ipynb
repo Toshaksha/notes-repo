{
 "cells": [
  {
   "cell_type": "markdown",
   "id": "fe045d2c-cbec-4273-8b9e-1fac3ca6fd19",
   "metadata": {},
   "source": [
    "# Introduction"
   ]
  },
  {
   "cell_type": "markdown",
   "id": "54eb0a8b-50be-454c-a1a7-d500be7ad5b7",
   "metadata": {},
   "source": [
    "***We use NumPy because:***\n",
    "\n",
    "* **NumPy** provides powerful multi-dimensional array operations and mathematical functions, optimized for numerical computing. It's efficient for handling large arrays and performing fast computations.\n",
    "\n",
    "In short, NumPy for numerical computing and efficient array operations."
   ]
  },
  {
   "cell_type": "markdown",
   "id": "9e5f9a8f-edda-45d7-ab9b-3beeec77b9b7",
   "metadata": {},
   "source": [
    "***Why to use NumPy:-***\n",
    "\n",
    "    • Fast\n",
    "\t• Provide efficient storage\n",
    "\t• Better ways of handling data for processing\n",
    "\t• Easy to learn\n",
    "\t• Use relatively less memory to store data\n"
   ]
  },
  {
   "cell_type": "code",
   "execution_count": 1,
   "id": "7c8a970d-e848-47c2-89bf-b2ceeb9f4512",
   "metadata": {},
   "outputs": [],
   "source": [
    "import numpy as np"
   ]
  },
  {
   "cell_type": "markdown",
   "id": "9bc0e7a0-cac8-4569-b171-2a5cd6238a31",
   "metadata": {},
   "source": [
    " # List v/s Numpy - Time taken"
   ]
  },
  {
   "cell_type": "markdown",
   "id": "2a4037d4-699c-4dd9-bf77-a73b3bbfb163",
   "metadata": {},
   "source": [
    "***Numpy v\\s List in Python***\n",
    "* Faster to read less bytes of memory in numpy, list use more bytes to store same\n",
    "  thing.\n",
    "* no type checking when iterating through objects in numpy while list can have\n",
    "  int, float, boolean etc etc..\n",
    "* Numpy uses contiguous memory but list don't"
   ]
  },
  {
   "cell_type": "markdown",
   "id": "6c61d035-1307-4c21-af9c-5b5ae4c94942",
   "metadata": {},
   "source": [
    "### Time Taken by List"
   ]
  },
  {
   "cell_type": "code",
   "execution_count": 12,
   "id": "9536be3f-81b2-451d-b578-e28335b09403",
   "metadata": {},
   "outputs": [],
   "source": [
    "from time import process_time"
   ]
  },
  {
   "cell_type": "code",
   "execution_count": 13,
   "id": "5ad51b8c-3452-48ba-a350-fc242633bd81",
   "metadata": {},
   "outputs": [
    {
     "name": "stdout",
     "output_type": "stream",
     "text": [
      "Time Taken by list: 0.5625\n"
     ]
    }
   ],
   "source": [
    "python_list = [i for i in range(10000000)]\n",
    "start_time = process_time()\n",
    "\n",
    "python_list = [ i+5 for i in python_list]\n",
    "end_time = process_time()\n",
    "\n",
    "print(f\"Time Taken by list: {end_time - start_time}\")"
   ]
  },
  {
   "cell_type": "code",
   "execution_count": 14,
   "id": "17fd7117-785f-4713-8ada-eb4c741f7aca",
   "metadata": {},
   "outputs": [
    {
     "name": "stdout",
     "output_type": "stream",
     "text": [
      "Time Taken by NP Array: 0.0\n"
     ]
    }
   ],
   "source": [
    "np_array = np.array(i for i in range(10000000))\n",
    "start_time = process_time()\n",
    "\n",
    "np_array = np.array( i+5 for i in python_list)\n",
    "end_time = process_time()\n",
    "\n",
    "print(f\"Time Taken by NP Array: {end_time - start_time}\")"
   ]
  },
  {
   "cell_type": "markdown",
   "id": "590561ef-98c0-4040-85a5-37757d488d96",
   "metadata": {},
   "source": [
    "# Numpy Arrays Creation"
   ]
  },
  {
   "cell_type": "code",
   "execution_count": 15,
   "id": "303ee1f8-ba75-4c45-a566-3359d0e1bd69",
   "metadata": {},
   "outputs": [],
   "source": [
    "# Array Creation Methods"
   ]
  },
  {
   "cell_type": "code",
   "execution_count": 16,
   "id": "afafa1c1-3294-4e7b-bf5c-99a2bfda9065",
   "metadata": {},
   "outputs": [
    {
     "name": "stdout",
     "output_type": "stream",
     "text": [
      "[1 2 3 4]\n",
      "<class 'numpy.ndarray'>\n"
     ]
    }
   ],
   "source": [
    "np_array = np.array([1,2,3,4])\n",
    "print(np_array)\n",
    "print(type(np_array))"
   ]
  },
  {
   "cell_type": "code",
   "execution_count": 50,
   "id": "ae2d035e-e401-4684-87db-15e656f3a394",
   "metadata": {},
   "outputs": [
    {
     "name": "stdout",
     "output_type": "stream",
     "text": [
      "[4 5 6 7 9 0 8]\n",
      "Shape:- (7,)\n",
      "Size:- 7\n",
      "Element at [1]:- 5\n",
      "Dta Type:- int64\n",
      "[ 4  5 23  7  9  0  8]\n"
     ]
    }
   ],
   "source": [
    "# creating 1-D array\n",
    "np_array = np.array([4,5,6,7,9,0,8]) \n",
    "print(np_array)                                    # printing the array\n",
    "print(f\"Shape:- {np_array.shape}\")                 # shape = row x column\n",
    "print(f\"Size:- {np_array.size}\")                   # tells the size (no of objects)\n",
    "print(f\"Element at [1]:- {np_array[1]}\")           # accessing a element at a particular index\n",
    "print(f\"Dta Type:- {np_array.dtype}\")              # prints data type\n",
    "np_array[2] = 23                                   # changing a element\n",
    "print(np_array)"
   ]
  },
  {
   "cell_type": "code",
   "execution_count": 53,
   "id": "8b6dccfe-02db-4959-9665-5769b88daff2",
   "metadata": {},
   "outputs": [
    {
     "name": "stdout",
     "output_type": "stream",
     "text": [
      "[[2 3 4 5]\n",
      " [6 7 8 9]]\n",
      "Shape:- (2, 4)\n",
      "Size:- 8\n",
      "Dta Type:- int64\n"
     ]
    }
   ],
   "source": [
    "# creating 2-D array\n",
    "td = np.array([(2,3,4,5),(6,7,8,9)])\n",
    "print(td)                                    # printing the array\n",
    "print(f\"Shape:- {td.shape}\")                 # shape = row x column\n",
    "print(f\"Size:- {td.size}\")                   # tells the size (no of objects)\n",
    "print(f\"Dta Type:- {td.dtype}\")              # prints data type"
   ]
  },
  {
   "cell_type": "code",
   "execution_count": 54,
   "id": "708e69ba-c3c2-4d55-9916-329e494ab17e",
   "metadata": {},
   "outputs": [
    {
     "name": "stdout",
     "output_type": "stream",
     "text": [
      "[[[1 2 3]\n",
      "  [4 5 6]]\n",
      "\n",
      " [[6 3 8]\n",
      "  [2 3 4]]\n",
      "\n",
      " [[9 8 7]\n",
      "  [6 9 7]]]\n",
      "Shape:- (3, 2, 3)\n",
      "Size:- 18\n",
      "Dta Type:- int32\n"
     ]
    }
   ],
   "source": [
    "# creating 3-D array\n",
    "myarr= np.array([[[1,2,3],[4,5,6]],\n",
    "        [[6,3,8],[2,3,4]],\n",
    "        [[9,8,7],[6,9,7]]], np.int32)\n",
    "print(myarr)                                    # printing the array\n",
    "print(f\"Shape:- {myarr.shape}\")                 # shape = row x column\n",
    "print(f\"Size:- {myarr.size}\")                   # tells the size (no of objects)\n",
    "print(f\"Dta Type:- {myarr.dtype}\")              # prints data type\n",
    "# *The shape in above is as:-* 3 blocks, 2 rows, 3 cloumns"
   ]
  },
  {
   "cell_type": "code",
   "execution_count": 19,
   "id": "6ecfaede-f114-45bc-9864-c4678d49ed56",
   "metadata": {},
   "outputs": [
    {
     "name": "stdout",
     "output_type": "stream",
     "text": [
      "[[2.9 3.  4.  5. ]\n",
      " [9.  8.  7.  6. ]]\n",
      "(2, 4)\n",
      "8\n"
     ]
    }
   ],
   "source": [
    "# adding float values in array\n",
    "fp = np.array([(2.9,3,4,5),(9,8,7,6)],dtype = float)\n",
    "print(fp)\n",
    "print(fp.shape)\n",
    "print(fp.size)"
   ]
  },
  {
   "cell_type": "markdown",
   "id": "4208722a-060e-4e27-a453-1c173af0a3a8",
   "metadata": {},
   "source": [
    "# Analysing np array"
   ]
  },
  {
   "cell_type": "code",
   "execution_count": 55,
   "id": "e2106d52-da1a-45b4-b4a0-d83a5f8d9bef",
   "metadata": {},
   "outputs": [],
   "source": [
    "e = np.array([4,5,6,7,9,0,8]) "
   ]
  },
  {
   "cell_type": "code",
   "execution_count": 56,
   "id": "b6e74987-9be5-4523-8638-0c1682408e31",
   "metadata": {},
   "outputs": [
    {
     "name": "stdout",
     "output_type": "stream",
     "text": [
      "(7,)\n"
     ]
    }
   ],
   "source": [
    "# check its dimensions\n",
    "print(e.shape)"
   ]
  },
  {
   "cell_type": "code",
   "execution_count": 57,
   "id": "735e8168-7345-4b3f-806a-9635d0687001",
   "metadata": {},
   "outputs": [
    {
     "name": "stdout",
     "output_type": "stream",
     "text": [
      "7\n"
     ]
    }
   ],
   "source": [
    "# number of elements\n",
    "print(e.size)"
   ]
  },
  {
   "cell_type": "code",
   "execution_count": 58,
   "id": "c85a1fb9-233b-49cb-b23b-85ab21a93f40",
   "metadata": {},
   "outputs": [
    {
     "name": "stdout",
     "output_type": "stream",
     "text": [
      "int64\n"
     ]
    }
   ],
   "source": [
    "# check it's data type\n",
    "print(e.dtype)"
   ]
  },
  {
   "cell_type": "code",
   "execution_count": 59,
   "id": "4efa91aa-159d-4158-9459-d2f240d30c70",
   "metadata": {},
   "outputs": [
    {
     "name": "stdout",
     "output_type": "stream",
     "text": [
      "1\n"
     ]
    }
   ],
   "source": [
    "# number of dimensions\n",
    "print(e.ndim)"
   ]
  },
  {
   "cell_type": "code",
   "execution_count": 63,
   "id": "7017c59a-1b68-4cfd-b671-7570723738e9",
   "metadata": {},
   "outputs": [
    {
     "data": {
      "text/plain": [
       "56"
      ]
     },
     "execution_count": 63,
     "metadata": {},
     "output_type": "execute_result"
    }
   ],
   "source": [
    "e.nbytes  #total bytes or space consumed by array"
   ]
  },
  {
   "cell_type": "markdown",
   "id": "3587a480-a9d8-4ee6-b69d-fe53007e300b",
   "metadata": {},
   "source": [
    "# Initial placeholders in numpy arrays"
   ]
  },
  {
   "cell_type": "code",
   "execution_count": 20,
   "id": "09792897-ac19-4e28-93d7-d8afb9c894d0",
   "metadata": {},
   "outputs": [],
   "source": [
    "# aka Intrinsic Numpy array creation objects \n",
    "# Creating Objects from methods defined in numpy "
   ]
  },
  {
   "cell_type": "code",
   "execution_count": 21,
   "id": "7eaab9c5-ebb1-4422-9f0e-15eda93d0a9c",
   "metadata": {},
   "outputs": [
    {
     "name": "stdout",
     "output_type": "stream",
     "text": [
      "[[0. 0. 0. 0. 0.]\n",
      " [0. 0. 0. 0. 0.]\n",
      " [0. 0. 0. 0. 0.]]\n"
     ]
    }
   ],
   "source": [
    "# array with only 0's\n",
    "z =np.zeros((3,5))\n",
    "print(z)"
   ]
  },
  {
   "cell_type": "code",
   "execution_count": 22,
   "id": "df22187f-bad5-4aa7-9087-0f1ff9b815a9",
   "metadata": {},
   "outputs": [
    {
     "name": "stdout",
     "output_type": "stream",
     "text": [
      "[[1. 1. 1.]\n",
      " [1. 1. 1.]]\n"
     ]
    }
   ],
   "source": [
    "# array with only 1's\n",
    "a = np.ones((2,3))\n",
    "print(a)"
   ]
  },
  {
   "cell_type": "code",
   "execution_count": 23,
   "id": "de626ad2-1cba-4d95-98e1-28d52e7bbea8",
   "metadata": {},
   "outputs": [
    {
     "name": "stdout",
     "output_type": "stream",
     "text": [
      "[[1. 0. 0. 0. 0.]\n",
      " [0. 1. 0. 0. 0.]\n",
      " [0. 0. 1. 0. 0.]\n",
      " [0. 0. 0. 1. 0.]\n",
      " [0. 0. 0. 0. 1.]]\n"
     ]
    }
   ],
   "source": [
    "# identity matrix\n",
    "b = np.identity((5))\n",
    "print(b)"
   ]
  },
  {
   "cell_type": "code",
   "execution_count": 24,
   "id": "455c9915-8885-40e4-b09d-f13c64a8e8cd",
   "metadata": {},
   "outputs": [
    {
     "name": "stdout",
     "output_type": "stream",
     "text": [
      "[[0.22621645 0.15498165 0.5850533  0.9668065 ]\n",
      " [0.84187931 0.75262794 0.81537307 0.00839672]\n",
      " [0.7133254  0.80024657 0.60775496 0.29681595]]\n"
     ]
    }
   ],
   "source": [
    "# array with random values between 0 and 1\n",
    "c = np.random.random((3,4))\n",
    "print(c)"
   ]
  },
  {
   "cell_type": "code",
   "execution_count": 25,
   "id": "539d78d3-0fcf-40ae-9fe0-0c2c84a53b8c",
   "metadata": {},
   "outputs": [
    {
     "name": "stdout",
     "output_type": "stream",
     "text": [
      "[[2.9 3. ]\n",
      " [4.  5. ]\n",
      " [9.  8. ]\n",
      " [7.  6. ]]\n"
     ]
    }
   ],
   "source": [
    "emp= np.empty((4,2))\n",
    "print(emp)\n",
    "# makes an empty array of given dimensions with random values which can be changed using indices and can be assigned values accordingly"
   ]
  },
  {
   "cell_type": "code",
   "execution_count": 26,
   "id": "229a31b3-d6ca-4383-b4c6-7e577afaceac",
   "metadata": {},
   "outputs": [
    {
     "name": "stdout",
     "output_type": "stream",
     "text": [
      "[[ 2 18 17  3]\n",
      " [15  8  6 13]\n",
      " [ 1  4  5  7]]\n"
     ]
    }
   ],
   "source": [
    "# array with random values specified by us\n",
    "d = np.random.randint(1,20,(3,4))\n",
    "print(d)"
   ]
  },
  {
   "cell_type": "code",
   "execution_count": 33,
   "id": "f2cdf37e-80dd-4fe1-a6d7-4b767c9dc4e3",
   "metadata": {},
   "outputs": [
    {
     "name": "stdout",
     "output_type": "stream",
     "text": [
      "[[ 4 12 17  9  2]\n",
      " [12 10  1 17 17]\n",
      " [18 15 18  5  4]]\n"
     ]
    }
   ],
   "source": [
    "e = np.random.randint(1,20,(3,5))\n",
    "print(e)"
   ]
  },
  {
   "cell_type": "code",
   "execution_count": 27,
   "id": "1100aad9-299d-4c17-b96d-41ee1af1bae4",
   "metadata": {},
   "outputs": [
    {
     "name": "stdout",
     "output_type": "stream",
     "text": [
      "[ 1.    5.75 10.5  15.25 20.  ]\n"
     ]
    }
   ],
   "source": [
    "# it will give us no of values specified by us in a range\n",
    "e = np.linspace(1,20,5) # it will give me 5 evenly spaced elements between 1 and 20 \n",
    "print(e)"
   ]
  },
  {
   "cell_type": "code",
   "execution_count": 28,
   "id": "1ab60a9d-86a3-4b6b-a34d-3a4bd5f1435e",
   "metadata": {},
   "outputs": [
    {
     "name": "stdout",
     "output_type": "stream",
     "text": [
      "[ 1.    5.75 10.5  15.25 20.  ]\n"
     ]
    }
   ],
   "source": [
    "e_like = np.empty_like((e))\n",
    "print(e)    # used for efficiency to copy an array and work on it "
   ]
  },
  {
   "cell_type": "code",
   "execution_count": 29,
   "id": "244cd1de-e04f-41ad-b71e-d55964c17d0f",
   "metadata": {},
   "outputs": [
    {
     "name": "stdout",
     "output_type": "stream",
     "text": [
      "[ 1  7 13 19]\n"
     ]
    }
   ],
   "source": [
    "# it will give us elements after specified step in a range\n",
    "f = np.arange(1,20,6) #it will give me elements at a step size of 6 i.e the diffrence between 2 elements will be 6\n",
    "print(f)"
   ]
  },
  {
   "cell_type": "code",
   "execution_count": 30,
   "id": "9de396e0-206a-462f-8620-0fd6aec30c80",
   "metadata": {},
   "outputs": [
    {
     "name": "stdout",
     "output_type": "stream",
     "text": [
      "[[12 12 12 12 12 12]\n",
      " [12 12 12 12 12 12]\n",
      " [12 12 12 12 12 12]]\n"
     ]
    }
   ],
   "source": [
    "# array of a particular value\n",
    "g = np.full((3,6),12)\n",
    "print(g)"
   ]
  },
  {
   "cell_type": "markdown",
   "id": "b4b24022-d638-4d97-bca2-e5aeb8a54773",
   "metadata": {},
   "source": [
    "# Coverting other python structures to np array"
   ]
  },
  {
   "cell_type": "code",
   "execution_count": 31,
   "id": "afadec41-a4be-489a-bcae-b2f0c9a30ba2",
   "metadata": {},
   "outputs": [
    {
     "name": "stdout",
     "output_type": "stream",
     "text": [
      "[2 4 6 8 9]\n",
      "<class 'numpy.ndarray'>\n"
     ]
    }
   ],
   "source": [
    "list = [2,4,6,8,9]\n",
    "\n",
    "q = np.asarray(list)\n",
    "print(q)\n",
    "print(type(q))"
   ]
  },
  {
   "cell_type": "code",
   "execution_count": 32,
   "id": "e1d6351a-a2b6-46f1-b762-7afe8881a027",
   "metadata": {},
   "outputs": [
    {
     "name": "stdout",
     "output_type": "stream",
     "text": [
      "[2 4 6 8 9]\n",
      "<class 'numpy.ndarray'>\n"
     ]
    }
   ],
   "source": [
    "tuple = (2,4,6,8,9)\n",
    "\n",
    "w = np.asarray(tuple)\n",
    "print(w)\n",
    "print(type(w))"
   ]
  },
  {
   "cell_type": "markdown",
   "id": "7d60e829-c33f-46c7-91c5-2af12490eb85",
   "metadata": {},
   "source": [
    "# Mathematical operations on np arrays"
   ]
  },
  {
   "cell_type": "code",
   "execution_count": 38,
   "id": "5c08cac3-0958-4306-8ff8-11324a83dd56",
   "metadata": {},
   "outputs": [
    {
     "name": "stdout",
     "output_type": "stream",
     "text": [
      "[1, 2, 3, 4, 5, 6, 7, 8, 9, 10]\n"
     ]
    }
   ],
   "source": [
    "list1 = [1,2,3,4,5]\n",
    "list2 = [6,7,8,9,10]\n",
    "print(list1 +list2) # concatinate the 2 list not adds the ements in them"
   ]
  },
  {
   "cell_type": "code",
   "execution_count": 39,
   "id": "66758145-c46c-49b2-9d4d-14dd621f10f4",
   "metadata": {},
   "outputs": [
    {
     "name": "stdout",
     "output_type": "stream",
     "text": [
      "[[8 3 6 7]\n",
      " [1 6 8 9]\n",
      " [1 7 3 7]]\n",
      "[[14 16 10 12]\n",
      " [10 11 14 16]\n",
      " [16 15 13 19]]\n"
     ]
    }
   ],
   "source": [
    "a1 = np.random.randint(1,10,(3,4))\n",
    "a2 = np.random.randint(10,20,(3,4))\n",
    "print(a1)\n",
    "print(a2)"
   ]
  },
  {
   "cell_type": "code",
   "execution_count": 40,
   "id": "98853499-98e5-490c-ae27-0e56138f097b",
   "metadata": {},
   "outputs": [],
   "source": [
    "# There are 2 ways to do mathematical functions on an np array"
   ]
  },
  {
   "cell_type": "code",
   "execution_count": 41,
   "id": "e1229973-a0cb-4bc5-9da3-47163179fdf4",
   "metadata": {},
   "outputs": [
    {
     "name": "stdout",
     "output_type": "stream",
     "text": [
      "Add: \n",
      " [[22 19 16 19]\n",
      " [11 17 22 25]\n",
      " [17 22 16 26]]\n",
      "Sub: \n",
      " [[ -6 -13  -4  -5]\n",
      " [ -9  -5  -6  -7]\n",
      " [-15  -8 -10 -12]]\n",
      "Multiply: \n",
      " [[112  48  60  84]\n",
      " [ 10  66 112 144]\n",
      " [ 16 105  39 133]]\n",
      "Divide: \n",
      " [[0.57142857 0.1875     0.6        0.58333333]\n",
      " [0.1        0.54545455 0.57142857 0.5625    ]\n",
      " [0.0625     0.46666667 0.23076923 0.36842105]]\n"
     ]
    }
   ],
   "source": [
    "# Method 1\n",
    "print(f\"Add: \\n {a1 +a2}\")\n",
    "print(f\"Sub: \\n {a1 -a2}\")\n",
    "print(f\"Multiply: \\n {a1 *a2}\")\n",
    "print(f\"Divide: \\n {a1 /a2}\")"
   ]
  },
  {
   "cell_type": "code",
   "execution_count": 42,
   "id": "f827af62-3e45-4e0f-84f4-4f2e5741c3ce",
   "metadata": {},
   "outputs": [
    {
     "name": "stdout",
     "output_type": "stream",
     "text": [
      "Add: \n",
      " [[22 19 16 19]\n",
      " [11 17 22 25]\n",
      " [17 22 16 26]]\n",
      "Sub: \n",
      " [[ -6 -13  -4  -5]\n",
      " [ -9  -5  -6  -7]\n",
      " [-15  -8 -10 -12]]\n",
      "Multiply: \n",
      " [[112  48  60  84]\n",
      " [ 10  66 112 144]\n",
      " [ 16 105  39 133]]\n",
      "Divide: \n",
      " [[0.57142857 0.1875     0.6        0.58333333]\n",
      " [0.1        0.54545455 0.57142857 0.5625    ]\n",
      " [0.0625     0.46666667 0.23076923 0.36842105]]\n"
     ]
    }
   ],
   "source": [
    "# Method 2 \n",
    "print(f\"Add: \\n {np.add(a1,a2)}\")\n",
    "print(f\"Sub: \\n {np.subtract(a1,a2)}\")\n",
    "print(f\"Multiply: \\n {np.multiply(a1,a2)}\")\n",
    "print(f\"Divide: \\n {np.divide(a1,a2)}\")"
   ]
  },
  {
   "cell_type": "markdown",
   "id": "10f9cea5-15d1-42d8-a9a2-848f456ccb8e",
   "metadata": {},
   "source": [
    "# Array manipulation"
   ]
  },
  {
   "cell_type": "markdown",
   "id": "239dccc0-7db3-4232-ac03-4884ae71e9cd",
   "metadata": {},
   "source": [
    "*Some important methods are :-*\n",
    "* **reshape**:- to change shape of a matrix from 1 to 2 d or 3 d array but the no of elements should remain same. For example suppose a 1 d array have 99 elements so we can make a 2 d array of (3,33) as product of them is also 99 or (3,3,11) as that is also 99\n",
    "* **ravel**:- it is used to convert an array back into 1 d or a straight line.\n",
    "* **transposing array**:- rows to columns and columns to rows"
   ]
  },
  {
   "cell_type": "code",
   "execution_count": 43,
   "id": "f72eb2c6-75c0-4fe3-87d5-4ff24cd667fa",
   "metadata": {},
   "outputs": [
    {
     "name": "stdout",
     "output_type": "stream",
     "text": [
      "[[9 6 7 7 5]\n",
      " [6 8 6 1 2]\n",
      " [1 5 6 8 4]\n",
      " [9 2 4 9 8]]\n",
      "Shape: (4, 5)\n"
     ]
    }
   ],
   "source": [
    "new = np.random.randint(1,10,(4,5))\n",
    "print(new)\n",
    "print(f\"Shape: {new.shape}\")"
   ]
  },
  {
   "cell_type": "code",
   "execution_count": 44,
   "id": "c780e132-39ee-483e-9f58-1de55604e469",
   "metadata": {},
   "outputs": [
    {
     "name": "stdout",
     "output_type": "stream",
     "text": [
      "[[9 6 1 9]\n",
      " [6 8 5 2]\n",
      " [7 6 6 4]\n",
      " [7 1 8 9]\n",
      " [5 2 4 8]]\n",
      "Shape: (5, 4)\n"
     ]
    }
   ],
   "source": [
    "# transposing array i.e rows to columns and columns to rows\n",
    "trans = np.transpose(new)\n",
    "print(trans)\n",
    "print(f\"Shape: {trans.shape}\")"
   ]
  },
  {
   "cell_type": "code",
   "execution_count": 45,
   "id": "9643fbdc-af78-4315-9517-790c92126a35",
   "metadata": {},
   "outputs": [
    {
     "name": "stdout",
     "output_type": "stream",
     "text": [
      "[[9 6 1 9]\n",
      " [6 8 5 2]\n",
      " [7 6 6 4]\n",
      " [7 1 8 9]\n",
      " [5 2 4 8]]\n",
      "Shape: (5, 4)\n"
     ]
    }
   ],
   "source": [
    "# Method 2\n",
    "trans2 = new.T\n",
    "print(trans2)\n",
    "print(f\"Shape: {trans2.shape}\")"
   ]
  },
  {
   "cell_type": "code",
   "execution_count": 46,
   "id": "15c50ffa-6a52-4c85-a6a8-1ce5c169f8aa",
   "metadata": {},
   "outputs": [
    {
     "name": "stdout",
     "output_type": "stream",
     "text": [
      "[[9 6 7 7 5 6 8 6 1 2]\n",
      " [1 5 6 8 4 9 2 4 9 8]]\n",
      "Shape: (2, 10)\n"
     ]
    }
   ],
   "source": [
    "# reshaping an array\n",
    "# remember the size will remain the same \n",
    "rshape = new.reshape((2,10))\n",
    "print(rshape)\n",
    "print(f\"Shape: {rshape.shape}\")"
   ]
  },
  {
   "cell_type": "code",
   "execution_count": 48,
   "id": "2327bdc0-a8d2-4fa7-95f6-7364010bc49c",
   "metadata": {},
   "outputs": [
    {
     "name": "stdout",
     "output_type": "stream",
     "text": [
      "[9 6 7 7 5 6 8 6 1 2 1 5 6 8 4 9 2 4 9 8]\n"
     ]
    }
   ],
   "source": [
    "rav= np.ravel(rshape)\n",
    "print(rav)"
   ]
  },
  {
   "cell_type": "code",
   "execution_count": 61,
   "id": "8ed7bfb1-9d6b-4081-a32a-28d0eddeb073",
   "metadata": {},
   "outputs": [
    {
     "name": "stdout",
     "output_type": "stream",
     "text": [
      "9\n",
      "6\n",
      "7\n",
      "7\n",
      "5\n",
      "6\n",
      "8\n",
      "6\n",
      "1\n",
      "2\n",
      "1\n",
      "5\n",
      "6\n",
      "8\n",
      "4\n",
      "9\n",
      "2\n",
      "4\n",
      "9\n",
      "8\n"
     ]
    }
   ],
   "source": [
    "new.flat  # gives an iterator to go through the array using for loop\n",
    "for item in new.flat:\n",
    "    print(item)"
   ]
  },
  {
   "cell_type": "code",
   "execution_count": 62,
   "id": "f31274f1-752a-499e-82d6-ba2ccbeae80d",
   "metadata": {},
   "outputs": [
    {
     "name": "stdout",
     "output_type": "stream",
     "text": [
      "\n",
      " [1 2 4 6 2 9]\n",
      "\n",
      " 5\n",
      "\n",
      " 0\n",
      "\n",
      " [1 2 2 4 6 9]\n"
     ]
    }
   ],
   "source": [
    "ex1 = np.array([1,2,4,6,2,9])\n",
    "print(\"\\n\",ex1)\n",
    "\n",
    "amax=ex1.argmax()\n",
    "print(\"\\n\",amax)    # returns index of maximum value present\n",
    "\n",
    "amin=ex1.argmin()\n",
    "print(\"\\n\",amin)     # returns index of minimum value present\n",
    "\n",
    "asort= np.sort(ex1)\n",
    "print(\"\\n\",asort)    # returns array elements in sorted manner\n"
   ]
  },
  {
   "cell_type": "markdown",
   "id": "9a155423-cd20-498f-887f-37936a0cfc31",
   "metadata": {},
   "source": [
    "# NumPy Axis"
   ]
  },
  {
   "cell_type": "markdown",
   "id": "7fdf333f-acd5-4bfa-9e71-26eaea8fc5f0",
   "metadata": {},
   "source": [
    "* 1-D arrays have 1 axis *(Axis 0)*\n",
    "* 2-D arrays have 2 axis *(Axis 0 ,Axis 1)*\n",
    "* 3-D arrays have 3 axis and so on ...\n",
    "* Now suppose you want to represent a point on 2 d plane you will need 2 axis. Similarly to represent a 2 d array we will need 2 axis.\n",
    "* **In 2 d array the Axis 0 is down the rows and Axis 1 is along the columns.**\n",
    "* You performs various operations in NumPy for which you need axis.\n",
    "* For example you may need to have sum of rows so you can sum values along Axis 0 for that."
   ]
  },
  {
   "cell_type": "code",
   "execution_count": 64,
   "id": "e5e5e34c-cb42-44bb-bcf8-eaa74083e354",
   "metadata": {},
   "outputs": [
    {
     "name": "stdout",
     "output_type": "stream",
     "text": [
      "[[1 2 3]\n",
      " [4 5 6]\n",
      " [7 8 9]]\n"
     ]
    }
   ],
   "source": [
    "ex = [[1,2,3],[4,5,6],[7,8,9]]\n",
    "myarr= np.array(ex)\n",
    "print(myarr)"
   ]
  },
  {
   "cell_type": "code",
   "execution_count": 65,
   "id": "55ccdb96-5d6b-4b6f-8b8b-6a811c4887f8",
   "metadata": {},
   "outputs": [
    {
     "data": {
      "text/plain": [
       "array([12, 15, 18])"
      ]
     },
     "execution_count": 65,
     "metadata": {},
     "output_type": "execute_result"
    }
   ],
   "source": [
    "myarr.sum(axis=0)  # 1+4+7 , 2+5+8  , 3+6+9"
   ]
  },
  {
   "cell_type": "code",
   "execution_count": 66,
   "id": "7caeb223-b578-42bd-b807-6760b6ec38df",
   "metadata": {},
   "outputs": [
    {
     "data": {
      "text/plain": [
       "array([ 6, 15, 24])"
      ]
     },
     "execution_count": 66,
     "metadata": {},
     "output_type": "execute_result"
    }
   ],
   "source": [
    "myarr.sum(axis=1)  # 1+2+3  , 4+5+6  , 7+8+9"
   ]
  }
 ],
 "metadata": {
  "kernelspec": {
   "display_name": "Python 3 (ipykernel)",
   "language": "python",
   "name": "python3"
  },
  "language_info": {
   "codemirror_mode": {
    "name": "ipython",
    "version": 3
   },
   "file_extension": ".py",
   "mimetype": "text/x-python",
   "name": "python",
   "nbconvert_exporter": "python",
   "pygments_lexer": "ipython3",
   "version": "3.12.4"
  }
 },
 "nbformat": 4,
 "nbformat_minor": 5
}
