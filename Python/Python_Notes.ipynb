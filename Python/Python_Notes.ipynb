{
 "cells": [
  {
   "cell_type": "markdown",
   "id": "73cb68f2-babb-4729-b13c-26ec596455b4",
   "metadata": {},
   "source": [
    "# Detailed Notes with Examples"
   ]
  },
  {
   "cell_type": "markdown",
   "id": "71b78b3c-30f7-4d6d-b7ed-2304a173b25c",
   "metadata": {},
   "source": [
    "#  Python Introduction\n",
    "Python is a widely-used, **high-level** programming language known for its **simplicity** and **readability**. It supports multiple programming paradigms such as **procedural**, **object-oriented**, and **functional programming**. Python’s syntax is designed to be **clear** and **concise**, making it ideal for beginners and professionals alike.\n",
    "* **FEATURES OF PYTHON**:-\n",
    "    - Easy to understand -> Less development time\n",
    "    - Free and open source\n",
    "    - High level language\n",
    "    - Portable -> Works on Linux / Windows / Mac"
   ]
  },
  {
   "cell_type": "markdown",
   "id": "9b822806-79bd-4f9a-9a80-2a0429250546",
   "metadata": {},
   "source": [
    "# Python Syntax\n",
    "Python uses **indentation** (whitespace at the beginning of a line) to define code blocks instead of braces {}. This enforces **readability** but requires consistent indentation.\n",
    "\n",
    "* Indentation is usually 4 spaces.\n",
    "* Mixing tabs and spaces can cause errors."
   ]
  },
  {
   "cell_type": "code",
   "execution_count": 1,
   "id": "2c8aa59f-c72c-4d67-bfab-f8a0e3ab51c7",
   "metadata": {},
   "outputs": [
    {
     "name": "stdout",
     "output_type": "stream",
     "text": [
      "Ten is greater than five!\n"
     ]
    }
   ],
   "source": [
    "if 10 > 5:\n",
    "    print(\"Ten is greater than five!\")  # Indented code block"
   ]
  },
  {
   "cell_type": "markdown",
   "id": "e65d53e5-84fe-4bf0-b738-62f19759b3bc",
   "metadata": {},
   "source": [
    "# Python Comments\n",
    "Comments are lines **ignored** by the Python interpreter and are used to **explain code**.\n",
    "* **Single-line** comments use #.\n",
    "* **Multi-line comments** can be done using triple quotes (''' ... ''' or \"\"\" ... \"\"\")."
   ]
  },
  {
   "cell_type": "code",
   "execution_count": 3,
   "id": "f57636d1-4425-42ea-a278-7313dc93540d",
   "metadata": {},
   "outputs": [
    {
     "name": "stdout",
     "output_type": "stream",
     "text": [
      "The lines above will not be printed as they are ignored by the Python interpreter.\n"
     ]
    }
   ],
   "source": [
    "# This is a single-line comment\n",
    "\n",
    "\"\"\"\n",
    "This \n",
    "is \n",
    "a multi-line\n",
    "comment\n",
    "\"\"\"\n",
    "\n",
    "print(\"The lines above will not be printed as they are ignored by the Python interpreter.\")"
   ]
  },
  {
   "cell_type": "markdown",
   "id": "82aaf92c-50d8-4292-aa8a-7c1cf7e4b3aa",
   "metadata": {},
   "source": [
    "```python\n",
    "''' \n",
    "multi\n",
    "line\n",
    "Comment\n",
    "'''\n",
    "```\n",
    "> Output:\n",
    "> - In regular Python scripts: No output; comments/strings not used are ignored.\n",
    "> - In Jupyter Notebook: if you put that as the last line of a cell, Jupyter evaluates and displays the value of the string, which results in:\n",
    "```python\n",
    "'\\nThis \\nis \\na multi-line\\ncomment\\n'\n",
    "```"
   ]
  },
  {
   "cell_type": "code",
   "execution_count": 5,
   "id": "64405bfe-1ffd-4d0f-bfbd-d969d0d621a6",
   "metadata": {},
   "outputs": [
    {
     "data": {
      "text/plain": [
       "'\\nThis \\nis \\na multi-line\\ncomment\\n'"
      ]
     },
     "execution_count": 5,
     "metadata": {},
     "output_type": "execute_result"
    }
   ],
   "source": [
    "# This is a single-line comment\n",
    "\n",
    "\"\"\"\n",
    "This \n",
    "is \n",
    "a multi-line\n",
    "comment\n",
    "\"\"\""
   ]
  },
  {
   "cell_type": "markdown",
   "id": "8b71f6b9-9e5a-499e-ab43-4ecafd9c50b8",
   "metadata": {},
   "source": [
    "# Python Variables\n",
    "Variables in Python are used to store data values.\n",
    "\n",
    "* Python is **dynamically typed** — no need to declare the variable type explicitly.\n",
    "* A variable name:\n",
    "\n",
    "  *  **Must** start with a **letter (a–z, A–Z)** or an **underscore (`_`)**\n",
    "  *  Can include **letters**, **digits (0–9)**, and **underscores**\n",
    "  *  **Cannot** start with a number\n",
    "  *  **Cannot contain spaces**\n",
    "  *  **Cannot use special characters** (like `@`, `#`, `$`, `%`, etc.)\n",
    "  *  **Cannot be a Python keyword** (e.g., `if`, `while`, `class`, etc.)\n",
    "\n",
    "### Valid Examples:\n",
    "\n",
    "```python\n",
    "x = 5\n",
    "_name = \"John\"\n",
    "age23 = 30\n",
    "total_amount = 100.5\n",
    "```\n",
    "\n",
    "### Invalid Examples:\n",
    "\n",
    "```python\n",
    "2cool = \"nope\"       #  Starts with a digit\n",
    "first name = \"Ali\"   #  Contains a space\n",
    "@price = 50          #  Special character used\n",
    "class = \"Physics\"    #  'class' is a keyword\n",
    "```\n",
    "\n",
    "If you try running these invalid examples, Python will throw a **SyntaxError**.\n"
   ]
  },
  {
   "cell_type": "code",
   "execution_count": 4,
   "id": "04b9affa-d22f-4d32-b269-39005a886517",
   "metadata": {
    "scrolled": true
   },
   "outputs": [
    {
     "name": "stdout",
     "output_type": "stream",
     "text": [
      "5\n",
      "Hello, Python!\n"
     ]
    }
   ],
   "source": [
    "x = 5\n",
    "y = \"Hello, Python!\"\n",
    "print(x)      \n",
    "print(y)      "
   ]
  },
  {
   "cell_type": "markdown",
   "id": "ea604bd1-1cf1-4e61-946a-e3f4b8b5c577",
   "metadata": {},
   "source": [
    "# Python Data Types\n",
    "Python supports several built-in data types that are automatically identified by the interpreter. Some of the primary data types include:\n",
    "\n",
    "* **Integer** (`int`): Whole numbers without a decimal point.\n",
    "* **Floating Point Number** (`float`): Numbers with decimal points.\n",
    "* **String** (`str`): Sequence of characters enclosed in quotes.\n",
    "* **Boolean** (`bool`): Represents `True` or `False`.\n",
    "* **List** (`list`): Ordered, mutable collection of items.\n",
    "* **Dictionary** (`dict`): Key-value pairs for storing data.\n",
    "* **NoneType** (`None`): Represents the absence of a value."
   ]
  },
  {
   "cell_type": "code",
   "execution_count": 6,
   "id": "bbc96c48-f93c-4612-81c1-f280092896e2",
   "metadata": {},
   "outputs": [
    {
     "name": "stdout",
     "output_type": "stream",
     "text": [
      "<class 'int'>\n",
      "<class 'float'>\n",
      "<class 'str'>\n",
      "<class 'bool'>\n",
      "<class 'list'>\n",
      "<class 'dict'>\n",
      "<class 'NoneType'>\n"
     ]
    }
   ],
   "source": [
    "age = 30                     # Integer\n",
    "price = 19.99                # Floating point number\n",
    "name = \"John\"                # String\n",
    "is_active = True             # Boolean\n",
    "numbers = [1, 2, 3, 4]       # List\n",
    "person = {\"name\": \"Alice\", \"age\": 25}  # Dictionary\n",
    "nothing = None               # NoneType\n",
    "\n",
    "# Print the type of each variable\n",
    "print(type(age))      \n",
    "print(type(price))      \n",
    "print(type(name))     \n",
    "print(type(is_active)) \n",
    "print(type(numbers))    \n",
    "print(type(person))     \n",
    "print(type(nothing))    "
   ]
  },
  {
   "cell_type": "markdown",
   "id": "dbdbac76-4784-4d4b-b061-c720f78c1a7f",
   "metadata": {},
   "source": [
    "# Python Numbers and Arithmetic Operators\n",
    "Python supports standard arithmetic operations:\n",
    "\n",
    "| Operator | Description           | Example   | Result |\n",
    "|----------|-----------------------|-----------|--------|\n",
    "| +        | Addition              | 5 + 2     | 7      |\n",
    "| -        | Subtraction           | 5 - 2     | 3      |\n",
    "| *        | Multiplication        | 5 * 2     | 10     |\n",
    "| /        | Division (float)      | 5 / 2     | 2.5    |\n",
    "| //       | Floor division        | 5 // 2    | 2      |\n",
    "| %        | Modulus (remainder)   | 5 % 2     | 1      |\n",
    "| **       | Exponentiation        | 5 ** 2    | 25     |\n"
   ]
  },
  {
   "cell_type": "code",
   "execution_count": 2,
   "id": "f3afe48f-bbb2-409c-a8d1-a264e6a980e9",
   "metadata": {},
   "outputs": [
    {
     "name": "stdout",
     "output_type": "stream",
     "text": [
      "10\n",
      "2.3333333333333335\n",
      "2\n",
      "1\n",
      "343\n"
     ]
    }
   ],
   "source": [
    "a = 7\n",
    "b = 3\n",
    "print(a + b)  \n",
    "print(a / b)   \n",
    "print(a // b)  \n",
    "print(a % b)   \n",
    "print(a ** b) "
   ]
  },
  {
   "cell_type": "markdown",
   "id": "fb5a911b-62d6-4fe4-a7b8-0a234270e251",
   "metadata": {},
   "source": [
    "# Python Casting\n",
    "* Casting means converting **one data** type into **another**.\n",
    "* Use built-in functions: `int()`, `float()`, `str()`, `bool()`.\n",
    "* Useful when you want to ensure the correct data type for operations."
   ]
  },
  {
   "cell_type": "code",
   "execution_count": 7,
   "id": "b584fe92-4f3c-4b11-adf1-9b335a676d6d",
   "metadata": {},
   "outputs": [
    {
     "name": "stdout",
     "output_type": "stream",
     "text": [
      "128\n",
      "10 apples\n"
     ]
    }
   ],
   "source": [
    "x = \"123\"\n",
    "print(int(x) + 5)      # string '123' converted to int before addition\n",
    "\n",
    "y = 10\n",
    "print(str(y) + \" apples\")  # integer 10 converted to string before concatenation"
   ]
  },
  {
   "cell_type": "markdown",
   "id": "090c4e7c-fc6a-46a5-bad2-98b80feb7975",
   "metadata": {},
   "source": [
    "# Python Strings\n",
    "* Strings are sequences of Unicode characters.\n",
    "* Can be defined using **single** (`'...'`) or **double** (`\"...\"`) quotes.\n",
    "* Supports **indexing** (starting at 0),**negative indexing** (starting from -1) and **slicing**.\n",
    "* Strings are **immutable** (cannot be changed after creation).\n",
    "* Common string methods:\n",
    "\n",
    "| Method     | Description                | Example                       |\n",
    "|------------|----------------------------|------------------------------|\n",
    "| `.lower()` | Converts to lowercase       | `\"Hello\".lower()` → `\"hello\"` |\n",
    "| `.upper()` | Converts to uppercase       | `\"Hello\".upper()` → `\"HELLO\"` |\n",
    "| `.strip()` | Removes whitespace from ends| `\" hi \".strip()` → `\"hi\"`     |\n",
    "| `.replace()`| Replaces substring         | `\"hi\".replace('i', 'o')` → `\"ho\"` |\n",
    "| `.split()` | Splits string into list     | `\"a,b,c\".split(',')` → `['a','b','c']` |\n"
   ]
  },
  {
   "cell_type": "code",
   "execution_count": 7,
   "id": "86ca84f1-74c4-4eee-b6c2-ab93724aef1f",
   "metadata": {},
   "outputs": [
    {
     "name": "stdout",
     "output_type": "stream",
     "text": [
      "W\n",
      "Hello\n",
      "hello, world!\n",
      "Jello, World!\n"
     ]
    }
   ],
   "source": [
    "txt = \"Hello, World!\"\n",
    "print(txt[7])          \n",
    "print(txt[0:5])        \n",
    "print(txt.lower())     \n",
    "print(txt.replace(\"H\", \"J\"))  "
   ]
  },
  {
   "cell_type": "markdown",
   "id": "69e8a1b8-cefa-47e0-b9df-c4f549b6309c",
   "metadata": {},
   "source": [
    "# Python Booleans\n",
    "* Boolean values are either **True** or **False**.\n",
    "* Often result from **comparison operators** (==, !=, <, >, etc.)\n",
    "* Used for **conditional statements**."
   ]
  },
  {
   "cell_type": "code",
   "execution_count": 8,
   "id": "0cdc4e34-a0b5-4532-9a6f-5c3ef805f914",
   "metadata": {},
   "outputs": [
    {
     "name": "stdout",
     "output_type": "stream",
     "text": [
      "True\n",
      "False\n",
      "False\n",
      "True\n"
     ]
    }
   ],
   "source": [
    "print(10 > 9)    \n",
    "print(10 == 9)   \n",
    "print(bool(\"\"))  \n",
    "print(bool(\"Hi\"))"
   ]
  },
  {
   "cell_type": "markdown",
   "id": "162044b2-8cfe-459f-9bb9-7f73d37530d9",
   "metadata": {},
   "source": [
    "# Python Operators\n",
    "\n",
    "#### 1. Arithmetic Operators\n",
    "\n",
    "Used for basic mathematical operations:\n",
    "\n",
    "| Operator | Description         | Example  | Result |\n",
    "| -------- | ------------------- | -------- | ------ |\n",
    "| `+`      | Addition            | `5 + 2`  | `7`    |\n",
    "| `-`      | Subtraction         | `5 - 2`  | `3`    |\n",
    "| `*`      | Multiplication      | `5 * 2`  | `10`   |\n",
    "| `/`      | Division (float)    | `5 / 2`  | `2.5`  |\n",
    "| `//`     | Floor Division      | `5 // 2` | `2`    |\n",
    "| `%`      | Modulus (Remainder) | `5 % 2`  | `1`    |\n",
    "| `**`     | Exponentiation      | `5 ** 2` | `25`   |\n",
    "\n",
    "\n",
    "#### 2. Assignment Operators\n",
    "\n",
    "Used to assign values to variables:\n",
    "| Operator | Meaning             | Example  |\n",
    "| -------- | ------------------- | -------- |\n",
    "| `=`      | Assign              | `x = 5`  |\n",
    "| `+=`     | Add and assign      | `x += 3` |\n",
    "| `-=`     | Subtract and assign | `x -= 2` |\n",
    "| `*=`     | Multiply and assign | `x *= 4` |\n",
    "| `/=`     | Divide and assign   | `x /= 2` |\n",
    "\n",
    "\n",
    "#### 3. Comparison Operators\n",
    "\n",
    "Used to compare values:\n",
    "| Operator | Description              | Example  | Result  |\n",
    "| -------- | ------------------------ | -------- | ------- |\n",
    "| `==`     | Equal to                 | `5 == 5` | `True`  |\n",
    "| `!=`     | Not equal to             | `5 != 3` | `True`  |\n",
    "| `>`      | Greater than             | `5 > 3`  | `True`  |\n",
    "| `<`      | Less than                | `5 < 3`  | `False` |\n",
    "| `>=`     | Greater than or equal to | `5 >= 5` | `True`  |\n",
    "| `<=`     | Less than or equal to    | `3 <= 5` | `True`  |\n",
    "\n",
    "\n",
    "#### 4. Logical Operators\n",
    "\n",
    "Used to combine conditional statements:\n",
    "\n",
    "| Operator | Description                            | Example         | Result  |\n",
    "| -------- | -------------------------------------- | --------------- | ------- |\n",
    "| `and`    | True if both conditions are True       | `True and True` | `True`  |\n",
    "| `or`     | True if at least one condition is True | `True or False` | `True`  |\n",
    "| `not`    | Reverses the result                    | `not True`      | `False` |\n",
    "\n",
    "\n",
    "#### 5. Membership Operators\n",
    "\n",
    "Used to test if a sequence contains a value:\n",
    "\n",
    "| Operator | Description                                      | Example              | Result |\n",
    "| -------- | ------------------------------------------------ | -------------------- | ------ |\n",
    "| `in`     | Returns `True` if value is found in a sequence   | `'a' in 'apple'`     | `True` |\n",
    "| `not in` | Returns `True` if value is **not** in a sequence | `'z' not in 'apple'` | `True` |\n",
    "\n",
    "\n",
    "#### 6. Identity Operators\n",
    "\n",
    "Used to compare memory locations of two objects:\n",
    "\n",
    "| Operator | Description                                                | Example                   | Result  |\n",
    "| -------- | ---------------------------------------------------------- | ------------------------- | ------- |\n",
    "| `is`     | Returns `True` if both variables point to the same object  | `x is y` (if `x = y = 5`) | `True`  |\n",
    "| `is not` | Returns `True` if variables point to **different** objects | `x is not y`              | `False` |\n"
   ]
  },
  {
   "cell_type": "code",
   "execution_count": 9,
   "id": "14789cff-1572-438c-b907-212eb78f3286",
   "metadata": {},
   "outputs": [
    {
     "name": "stdout",
     "output_type": "stream",
     "text": [
      "False\n",
      "True\n",
      "True\n",
      "True\n",
      "False\n"
     ]
    }
   ],
   "source": [
    "a = 10\n",
    "b = 5\n",
    "print(a == b)          \n",
    "print(a != b)          \n",
    "print(a > b and b > 0) \n",
    "print('a' in 'cat')    \n",
    "print(a is b)          "
   ]
  },
  {
   "cell_type": "markdown",
   "id": "ed55bd30-d3b3-43b3-8f94-a6b0a3daeff6",
   "metadata": {},
   "source": [
    "# `type()` Function and Typecasting in Python\n",
    "\n",
    "#### `type()` Function\n",
    "\n",
    "* The `type()` function is used to find the **data type** of a variable in Python.\n",
    "\n",
    "#### Typecasting\n",
    "\n",
    "* Typecasting is the process of **converting one data type to another**.\n",
    "* Python provides built-in functions for typecasting:\n",
    "\n",
    "| Function  | Description                       | Example     | Result  |\n",
    "| --------- | --------------------------------- | ----------- | ------- |\n",
    "| `int()`   | Converts to integer               | `int(\"10\")` | `10`    |\n",
    "| `float()` | Converts to floating-point number | `float(5)`  | `5.0`   |\n",
    "| `str()`   | Converts to string                | `str(123)`  | `\"123\"` |\n",
    "| `bool()`  | Converts to boolean               | `bool(0)`   | `False` |\n"
   ]
  },
  {
   "cell_type": "code",
   "execution_count": 8,
   "id": "df68cf58-a27d-4d80-af59-41a991f9875f",
   "metadata": {},
   "outputs": [
    {
     "name": "stdout",
     "output_type": "stream",
     "text": [
      "<class 'int'>\n",
      "<class 'str'>\n"
     ]
    }
   ],
   "source": [
    "# Example Usage of type function\n",
    "a = 31\n",
    "print(type(a))\n",
    "b = \"31\"\n",
    "print(type (b))"
   ]
  },
  {
   "cell_type": "code",
   "execution_count": 9,
   "id": "df89817d-a2ea-43c0-94c5-ad5636e2390f",
   "metadata": {},
   "outputs": [
    {
     "name": "stdout",
     "output_type": "stream",
     "text": [
      "<class 'str'>\n",
      "<class 'int'>\n",
      "<class 'float'>\n"
     ]
    }
   ],
   "source": [
    "# Typecasting\n",
    "a = str(31)        \t# integer to string conversion\n",
    "print(type(a))\n",
    "b = int(\"32\")           # string to integer conversion\n",
    "print(type(b))\n",
    "c = float(32)           # integer to float conversion\n",
    "print(type(c))"
   ]
  },
  {
   "cell_type": "markdown",
   "id": "d9920b4d-092b-4125-982f-d79bcefb2588",
   "metadata": {},
   "source": [
    "## Python Lists\n",
    "\n",
    "* **Lists** are **ordered**, **mutable** (changeable) collections that **allow duplicate** values.\n",
    "* Created using **square brackets**: `[]`\n",
    "* Lists support:\n",
    "\n",
    "  * **Indexing** (positive and negative)\n",
    "  * **Slicing**\n",
    "  * **Iteration**\n",
    "\n",
    "### Example:\n",
    "\n",
    "```python\n",
    "my_list = [1, 8, 7, 2, 21, 15]\n",
    "```\n",
    "\n",
    "### Common List Methods\n",
    "\n",
    "| Method         | Description                                  | Example           | Result / Effect            |\n",
    "| -------------- | -------------------------------------------- | ----------------- | -------------------------- |\n",
    "| `sort()`       | Sorts the list in ascending order (in-place) | `l1.sort()`       | `[1, 2, 7, 8, 15, 21]`     |\n",
    "| `reverse()`    | Reverses the list (in-place)                 | `l1.reverse()`    | `[15, 21, 2, 7, 8, 1]`     |\n",
    "| `append(x)`    | Adds element `x` at the **end** of the list  | `l1.append(8)`    | `[..., 8]`                 |\n",
    "| `insert(i, x)` | Inserts element `x` at index `i`             | `l1.insert(3, 8)` | `8` inserted at index `3`  |\n",
    "| `pop(i)`       | Removes and returns element at index `i`     | `l1.pop(2)`       | Removes value at index `2` |\n",
    "| `remove(x)`    | Removes **first occurrence** of element `x`  | `l1.remove(21)`   | Removes value `21`         |"
   ]
  },
  {
   "cell_type": "code",
   "execution_count": 10,
   "id": "ec5b8e6a-72e1-4e64-8f8c-039ee6a147eb",
   "metadata": {},
   "outputs": [
    {
     "name": "stdout",
     "output_type": "stream",
     "text": [
      "[1, 2, 7, 8, 15, 21]\n",
      "[21, 15, 8, 7, 2, 1]\n",
      "[21, 15, 8, 7, 2, 1, 8]\n",
      "[21, 15, 8, 8, 7, 2, 1, 8]\n",
      "[21, 15, 8, 7, 2, 1, 8]\n",
      "[15, 8, 7, 2, 1, 8]\n"
     ]
    }
   ],
   "source": [
    "l1 = [1, 8, 7, 2, 21, 15]\n",
    "\n",
    "l1.sort()\n",
    "print(l1)\n",
    "\n",
    "l1.reverse()\n",
    "print(l1)\n",
    "\n",
    "l1.append(8)\n",
    "print(l1)  \n",
    "\n",
    "l1.insert(3, 8)\n",
    "print(l1)  \n",
    "\n",
    "l1.pop(2)\n",
    "print(l1)  # Removes the 3rd element (index 2)\n",
    "\n",
    "l1.remove(21)\n",
    "print(l1)  # Removes first occurrence of 21\n"
   ]
  },
  {
   "cell_type": "markdown",
   "id": "60689e6b-a96b-4313-8c17-20710b627e1a",
   "metadata": {},
   "source": [
    "# Python Tuples\n",
    "\n",
    "* Tuples are **ordered**, **immutable** sequences.\n",
    "* Created using **parentheses**: `()`\n",
    "* **Faster** than lists because they cannot be changed after creation.\n",
    "* Ideal for **fixed collections** of data that shouldn't be modified.\n",
    "\n",
    "#### Example:\n",
    "\n",
    "```python\n",
    "my_tuple = (1, 7, 2)\n",
    "```\n",
    "\n",
    "#### Key Properties:\n",
    "\n",
    "* **Immutable**: Cannot be modified after creation.\n",
    "* **Ordered**: Maintains the order of elements.\n",
    "* **Allows duplicates**.\n",
    "* Supports **indexing** and **slicing**.\n",
    "\n",
    "#### Tuple Methods\n",
    "\n",
    "| Method     | Description                                          | Example      | Output |\n",
    "| ---------- | ---------------------------------------------------- | ------------ | ------ |\n",
    "| `count(x)` | Returns the number of times `x` appears in the tuple | `a.count(1)` | `1`    |\n",
    "| `index(x)` | Returns the index of the **first occurrence** of `x` | `a.index(1)` | `0`    |"
   ]
  },
  {
   "cell_type": "code",
   "execution_count": 11,
   "id": "f1a46412-2545-4113-b78a-0a974bacb7a9",
   "metadata": {},
   "outputs": [
    {
     "name": "stdout",
     "output_type": "stream",
     "text": [
      "1\n",
      "0\n"
     ]
    }
   ],
   "source": [
    "a = (1, 7, 2)\n",
    "\n",
    "print(a.count(1))   \n",
    "print(a.index(1))  \n",
    "\n",
    "# Tuples are immutable, the following will cause an error:\n",
    "# a[0] = 10   --> TypeError"
   ]
  },
  {
   "cell_type": "markdown",
   "id": "e6a6922a-b03c-4211-a553-3690de555321",
   "metadata": {},
   "source": [
    "# Python Sets\n",
    "\n",
    "* **Sets** are unordered collections of **unique** elements.\n",
    "* Created using **curly braces** `{}` or the **`set()`** constructor.\n",
    "* **Mutable**, but items themselves must be **immutable** (e.g., no lists as elements).\n",
    "* **Unordered**: Items may appear in any order.\n",
    "* **Unindexed**: No indexing or slicing like lists or tuples.\n",
    "\n",
    "####  Key Features:\n",
    "\n",
    "* No duplicate values allowed.\n",
    "* Useful for:\n",
    "\n",
    "  * **Membership testing**\n",
    "  * **Removing duplicates**\n",
    "  * **Mathematical set operations**\n",
    "\n",
    "#### Creating a Set\n",
    "\n",
    "```python\n",
    "s = {1, 8, 2, 3}\n",
    "t = set([2, 4, 6])\n",
    "```\n",
    "\n",
    "####  Common Set Methods\n",
    "\n",
    "| Method              | Description                                    | Example                   | Output             |\n",
    "| ------------------- | ---------------------------------------------- | ------------------------- | ------------------ |\n",
    "| `len(s)`            | Returns the number of elements in the set      | `len(s)`                  | `4`                |\n",
    "| `s.remove(x)`       | Removes element `x`; raises error if not found | `s.remove(8)`             | Updates set        |\n",
    "| `s.pop()`           | Removes and returns a **random** element       | `s.pop()`                 | Arbitrary value    |\n",
    "| `s.clear()`         | Empties the set                                | `s.clear()`               | `set()`            |\n",
    "| `s.union(t)`        | Returns a new set with elements from both sets | `s.union({8, 11})`        | `{1, 2, 3, 8, 11}` |\n",
    "| `s.intersection(t)` | Returns elements common to both sets           | `s.intersection({8, 11})` | `{8}`              |"
   ]
  },
  {
   "cell_type": "code",
   "execution_count": 12,
   "id": "04392502-aa2c-406b-9906-98dfbed3ae35",
   "metadata": {},
   "outputs": [
    {
     "name": "stdout",
     "output_type": "stream",
     "text": [
      "4\n",
      "{1, 2, 3}\n",
      "1\n",
      "{8, 11, 2, 3}\n",
      "set()\n",
      "set()\n"
     ]
    }
   ],
   "source": [
    "s = {1, 8, 2, 3}\n",
    "\n",
    "print(len(s))                 \n",
    "s.remove(8)\n",
    "print(s)                      \n",
    "print(s.pop())                # Removes random element\n",
    "print(s.union({8, 11}))       \n",
    "print(s.intersection({8, 11}))\n",
    "s.clear()\n",
    "print(s)                      "
   ]
  },
  {
   "cell_type": "markdown",
   "id": "16bdce80-3de0-4892-8d4e-305fc37b99e9",
   "metadata": {},
   "source": [
    "# Python Dictionaries\n",
    "\n",
    "* **Dictionaries** store data in **key-value pairs**.\n",
    "* Created using **curly braces `{}`** and **colon `:`** syntax.\n",
    "* **Keys** must be **immutable** (e.g., strings, numbers, tuples).\n",
    "* **Values** can be of **any data type**.\n",
    "\n",
    "#### Example Dictionary\n",
    "\n",
    "```python\n",
    "a = {\n",
    "    \"name\": \"Tom\",\n",
    "    \"from\": \"India\",\n",
    "    \"marks\": [92, 98, 96]\n",
    "}\n",
    "```\n",
    "\n",
    "#### Common Dictionary Methods\n",
    "\n",
    "| Method            | Description                                     | Example                        | Output                                 |\n",
    "| ----------------- | ----------------------------------------------- | ------------------------------ | -------------------------------------- |\n",
    "| `a.items()`       | Returns all key-value pairs as tuples           | `a.items()`                    | `dict_items([...])`                    |\n",
    "| `a.keys()`        | Returns a view of all keys                      | `a.keys()`                     | `dict_keys(['name', 'from', 'marks'])` |\n",
    "| `a.values()`      | Returns a view of all values                    | `a.values()`                   | `dict_values([...])`                   |\n",
    "| `a.update({...})` | Adds or updates key-value pairs                 | `a.update({\"friends\": \"Alice\"})` | Adds `friends` key                     |\n",
    "| `a.get(\"name\")`   | Returns value for a key if present, else `None` | `a.get(\"name\")`                | `\"harry\"`                              |\n",
    "| `a.get(\"age\")`    | Key not present, returns `None`                 | `a.get(\"age\")`                 | `None`                                 |\n",
    "\n",
    "\n",
    "#### Difference Between `a[\"name\"]` and `a.get(\"name\")`\n",
    "\n",
    "* `a[\"name\"]` → Raises `KeyError` if key not found.\n",
    "* `a.get(\"name\")` → Returns `None` if key not found."
   ]
  },
  {
   "cell_type": "code",
   "execution_count": 13,
   "id": "ca6ad044-b615-4539-af34-682e33712960",
   "metadata": {},
   "outputs": [
    {
     "name": "stdout",
     "output_type": "stream",
     "text": [
      "dict_items([('name', 'Tom'), ('from', 'India'), ('marks', [92, 98, 96])])\n",
      "dict_keys(['name', 'from', 'marks'])\n",
      "dict_values(['Tom', 'India', [92, 98, 96]])\n",
      "{'name': 'Tom', 'from': 'India', 'marks': [92, 98, 96], 'friends': 'Alice'}\n",
      "Tom\n",
      "None\n"
     ]
    }
   ],
   "source": [
    "a = {\n",
    "    \"name\": \"Tom\",\n",
    "    \"from\": \"India\",\n",
    "    \"marks\": [92, 98, 96]\n",
    "}\n",
    "\n",
    "print(a.items())                \n",
    "print(a.keys())                \n",
    "print(a.values())               \n",
    "a.update({\"friends\": \"Alice\"})\n",
    "print(a)                        \n",
    "print(a.get(\"name\"))            \n",
    "print(a.get(\"age\"))            \n"
   ]
  },
  {
   "cell_type": "markdown",
   "id": "ceeb19ea-f4d6-4faa-8443-843665d594c6",
   "metadata": {},
   "source": [
    "# Python `if...elif...else` Statements\n",
    "\n",
    "Conditional statements are used to control the **flow of execution** based on **Boolean conditions**.\n",
    "\n",
    "* The `if` statement checks a condition.\n",
    "* The `elif` (short for **else if**) checks **other conditions** if the first fails.\n",
    "* The `else` block runs only if **none of the above conditions are true**.\n",
    "\n",
    "#### Syntax\n",
    "\n",
    "```python\n",
    "if condition1:\n",
    "    # Block of code if condition1 is True\n",
    "elif condition2:\n",
    "    # Block of code if condition2 is True\n",
    "elif condition3:\n",
    "    # More elifs as needed\n",
    "else:\n",
    "    # Block of code if all conditions are False\n",
    "```\n",
    "\n",
    "#### Notes\n",
    "\n",
    "* Indentation is mandatory (usually 4 spaces).\n",
    "* You can have **multiple `elif` blocks**, but only **one `if`** and **one optional `else`**.\n",
    "* Python evaluates conditions **top-down** and runs the first one that’s true."
   ]
  },
  {
   "cell_type": "code",
   "execution_count": 14,
   "id": "1ac85b81-607e-41b3-abe4-3d50b08df953",
   "metadata": {},
   "outputs": [
    {
     "name": "stdout",
     "output_type": "stream",
     "text": [
      "b is greater than a\n"
     ]
    }
   ],
   "source": [
    "a = 33\n",
    "b = 200\n",
    "if b > a:\n",
    "    print(\"b is greater than a\")\n",
    "elif a == b:\n",
    "    print(\"a and b are equal\")\n",
    "else:\n",
    "    print(\"a is greater than b\")"
   ]
  },
  {
   "cell_type": "markdown",
   "id": "1e33ae46-64f1-4b7d-b679-afda6934f5db",
   "metadata": {},
   "source": [
    "# Loops in Python\n",
    "Sometimes we want to **repeat a set of statements** in our program. For example: printing numbers from 1 to 1000.\n",
    "\n",
    "Loops make it easy to tell the computer **which instructions to repeat and how**!\n",
    "\n",
    "####  Types of Loops in Python:\n",
    "\n",
    "* **while loops**\n",
    "* **for loops**"
   ]
  },
  {
   "cell_type": "markdown",
   "id": "d96ba764-c9ac-440c-85fa-51a41c134365",
   "metadata": {},
   "source": [
    "## Python While Loops\n",
    "\n",
    "**Syntax:**\n",
    "\n",
    "```python\n",
    "while condition:\n",
    "    # Body of the loop\n",
    "```\n",
    "\n",
    "* The condition is checked first.\n",
    "* If `True`, the loop body executes.\n",
    "* The process continues: check condition → execute body → repeat until condition is `False`."
   ]
  },
  {
   "cell_type": "code",
   "execution_count": 15,
   "id": "5d3f95ca-f169-4f47-901f-b6f720b91e90",
   "metadata": {},
   "outputs": [
    {
     "name": "stdout",
     "output_type": "stream",
     "text": [
      "1\n",
      "2\n",
      "3\n",
      "4\n",
      "5\n"
     ]
    }
   ],
   "source": [
    "i = 1\n",
    "while i < 6:\n",
    "    print(i)\n",
    "    i += 1"
   ]
  },
  {
   "cell_type": "markdown",
   "id": "734234fc-4955-490b-80d0-73742987d0d9",
   "metadata": {},
   "source": [
    "## Python For Loops\n",
    "\n",
    "* Used to **iterate over sequences** like lists, strings, or ranges.\n",
    "\n",
    "**Syntax:**\n",
    "\n",
    "```python\n",
    "for variable in sequence:\n",
    "    # Body of the loop\n",
    "```"
   ]
  },
  {
   "cell_type": "code",
   "execution_count": 16,
   "id": "23ec67f5-fbe2-4a13-95c0-fdd2b142ef94",
   "metadata": {},
   "outputs": [
    {
     "name": "stdout",
     "output_type": "stream",
     "text": [
      "apple\n",
      "banana\n",
      "cherry\n",
      "0\n",
      "1\n",
      "2\n",
      "3\n",
      "4\n"
     ]
    }
   ],
   "source": [
    "fruits = [\"apple\", \"banana\", \"cherry\"]\n",
    "for fruit in fruits:\n",
    "    print(fruit)\n",
    "    \n",
    "for i in range(5):\n",
    "    print(i) "
   ]
  },
  {
   "cell_type": "markdown",
   "id": "104fd103-74ce-46eb-9be6-c2288654afa0",
   "metadata": {},
   "source": [
    "### For loop with `else`\n",
    "\n",
    "* The optional `else` block executes **only when the loop completes normally**, i.e., no `break` occurs."
   ]
  },
  {
   "cell_type": "code",
   "execution_count": 3,
   "id": "adcb8f06-d9e9-4d74-822f-235dd07b0b8c",
   "metadata": {},
   "outputs": [
    {
     "name": "stdout",
     "output_type": "stream",
     "text": [
      "1\n",
      "7\n",
      "8\n",
      "done\n"
     ]
    }
   ],
   "source": [
    "l= [1,7,8]\n",
    "for item in l:\n",
    "    print(item)\n",
    "else:\n",
    "    print(\"done\") "
   ]
  },
  {
   "cell_type": "markdown",
   "id": "daed4fef-2c46-4c53-8302-64e7404c40a7",
   "metadata": {},
   "source": [
    "# The `range()` Function\n",
    "\n",
    "* Generates a sequence of numbers.\n",
    "* Can specify **start**, **stop**, and **step size**:\n",
    "\n",
    "```python\n",
    "range(stop)\n",
    "range(start, stop)\n",
    "range(start, stop, step)\n",
    "```"
   ]
  },
  {
   "cell_type": "code",
   "execution_count": 15,
   "id": "ffabff77-1dc9-4d4e-a49c-533a7756cb80",
   "metadata": {},
   "outputs": [
    {
     "name": "stdout",
     "output_type": "stream",
     "text": [
      "0\n",
      "2\n",
      "4\n",
      "6\n"
     ]
    }
   ],
   "source": [
    "for i in range(0,7,2): \n",
    "    print(i) "
   ]
  },
  {
   "cell_type": "markdown",
   "id": "c7265939-067b-4c31-8482-abf956294c22",
   "metadata": {},
   "source": [
    "# The `break` Statement\n",
    "\n",
    "* Terminates the loop immediately when executed."
   ]
  },
  {
   "cell_type": "code",
   "execution_count": 7,
   "id": "a16276f1-53e3-40d0-ab3d-c3f2d3814361",
   "metadata": {},
   "outputs": [
    {
     "name": "stdout",
     "output_type": "stream",
     "text": [
      "0\n",
      "1\n",
      "2\n",
      "3\n"
     ]
    }
   ],
   "source": [
    "for i in range (0,80):\n",
    "    print(i) # this will print 0,1,2 and 3\n",
    "    if i==3:\n",
    "        break"
   ]
  },
  {
   "cell_type": "markdown",
   "id": "aa88bff9-0def-4524-b1df-2d33e59bc617",
   "metadata": {},
   "source": [
    "# The Continue Statement\n",
    "- **continue** is used to stop the **current iteration** of the loop and continue with the **next one**. It instructs the Program to **skip this iteration**."
   ]
  },
  {
   "cell_type": "code",
   "execution_count": 11,
   "id": "145f588b-fc9f-45d1-9a43-8720fa96f570",
   "metadata": {},
   "outputs": [
    {
     "name": "stdout",
     "output_type": "stream",
     "text": [
      "0\n",
      "1\n",
      "3\n"
     ]
    }
   ],
   "source": [
    "for i in range(4):\n",
    "    if i == 2: # if i is 2, the iteration is skipped\n",
    "        continue\n",
    "    print(i)"
   ]
  },
  {
   "cell_type": "markdown",
   "id": "0e44fd73-b708-4a3c-a7ee-d1a645204a1a",
   "metadata": {},
   "source": [
    "# The `pass` Statement\n",
    "\n",
    "* A **null statement** that does nothing.\n",
    "* Used as a placeholder when code is syntactically required but you don’t want to execute anything yet."
   ]
  },
  {
   "cell_type": "code",
   "execution_count": 12,
   "id": "7ae5d639-cc9a-4ee8-9f49-e2b8f6e5368d",
   "metadata": {},
   "outputs": [],
   "source": [
    "for item in l:\n",
    "    pass # without pass, the program will throw an error"
   ]
  },
  {
   "cell_type": "markdown",
   "id": "2f096644-2711-4648-8423-f21e9e55cd19",
   "metadata": {},
   "source": [
    "# Python Functions\n",
    "A **function** is a reusable block of code designed to perform a specific task.\n",
    "\n",
    "* Helps organize complex code and improve readability.\n",
    "* Reduces repetition.\n",
    "* Makes code modular and easier to maintain."
   ]
  },
  {
   "cell_type": "code",
   "execution_count": null,
   "id": "d88fa262-0542-4ebe-9d1d-dd938cd3d524",
   "metadata": {},
   "outputs": [],
   "source": [
    "# Function Syntax\n",
    "def func_name():\n",
    "    # function body\n",
    "\n",
    "# Call a function using: func_name()"
   ]
  },
  {
   "cell_type": "code",
   "execution_count": 2,
   "id": "72dd5882-f113-492f-b156-97a09a163d76",
   "metadata": {},
   "outputs": [
    {
     "name": "stdout",
     "output_type": "stream",
     "text": [
      "Hello!\n"
     ]
    }
   ],
   "source": [
    "def greet():\n",
    "    print(\"Hello!\")\n",
    "    \n",
    "greet()  # Calls the function"
   ]
  },
  {
   "cell_type": "markdown",
   "id": "b7dc1ceb-f161-4b3f-8e00-70bb1bf0eda3",
   "metadata": {},
   "source": [
    "## Function Definition vs Function Call\n",
    "\n",
    "* **Definition:** Writing the function logic using the `def` keyword.\n",
    "* **Call:** Executing the function by using its name followed by parentheses `()`.\n",
    "\n",
    "## Types of Functions\n",
    "\n",
    "* **Built-in functions:** Predefined in Python (e.g., `print()`, `len()`, `range()`).\n",
    "* **User-defined functions:** Created by the programmer using `def`.\n",
    "\n",
    "## Functions with Parameters (Arguments)\n",
    "\n",
    "- Functions can accept **input values** called parameters (or arguments).\n",
    "- Example:"
   ]
  },
  {
   "cell_type": "code",
   "execution_count": 4,
   "id": "db4dd572-0111-4eee-9ccd-eea34c22530d",
   "metadata": {},
   "outputs": [
    {
     "name": "stdout",
     "output_type": "stream",
     "text": [
      "Hello Tom\n"
     ]
    }
   ],
   "source": [
    "def greet(name):\n",
    "    return \"Hello \" + name\n",
    "\n",
    "print(greet(\"Tom\"))"
   ]
  },
  {
   "cell_type": "markdown",
   "id": "8314bbc8-43c1-4b04-b4be-2169d5b0f5fa",
   "metadata": {},
   "source": [
    "## Default Parameter Values\n",
    "\n",
    "You can set **default values** for parameters to avoid errors when arguments are omitted."
   ]
  },
  {
   "cell_type": "code",
   "execution_count": 5,
   "id": "c6dad042-b50b-4c93-a36f-5fad0983a948",
   "metadata": {},
   "outputs": [
    {
     "name": "stdout",
     "output_type": "stream",
     "text": [
      "Hello Stranger\n",
      "Hello Tom\n"
     ]
    }
   ],
   "source": [
    "def greet(name=\"Stranger\"):\n",
    "    print(f\"Hello {name}\")\n",
    "\n",
    "greet()         \n",
    "greet(\"Tom\")  \n"
   ]
  },
  {
   "cell_type": "markdown",
   "id": "ea846533-ec1d-443f-bb36-0066df9635da",
   "metadata": {},
   "source": [
    "## Recursion – Function Calling Itself\n",
    "\n",
    "* A function calls itself to solve smaller instances of a problem.\n",
    "* Commonly used in mathematical patterns like factorials and Fibonacci sequences.\n",
    "* **Must have a base condition** to stop recursion and avoid infinite loops.\n",
    "* Use recursion carefully — ensure base case exists to stop further calls.\n",
    "\n",
    "**Example: Factorial using Recursion**"
   ]
  },
  {
   "cell_type": "code",
   "execution_count": 7,
   "id": "1828e0f3-035b-4902-8da8-f566696e77f3",
   "metadata": {},
   "outputs": [
    {
     "data": {
      "text/plain": [
       "6"
      ]
     },
     "execution_count": 7,
     "metadata": {},
     "output_type": "execute_result"
    }
   ],
   "source": [
    "def factorial(n):\n",
    "    if n == 0 or n == 1:\n",
    "        return 1  # base case\n",
    "    return n * factorial(n - 1)\n",
    "\n",
    "factorial(3)"
   ]
  },
  {
   "cell_type": "markdown",
   "id": "fd0309fe-876a-43ef-a25e-e540036d459d",
   "metadata": {},
   "source": [
    "# File I/O in Python\n",
    "\n",
    "* **Data in RAM** is temporary (volatile) and lost when the program ends.\n",
    "* **Files** allow storing data permanently on disk.\n",
    "* A **file** is a named location on storage that stores data.\n",
    "* Python provides built-in functions to **read from** and **write to** files.\n",
    "\n",
    "## Types of Files\n",
    "\n",
    "| File Type    | Examples               |\n",
    "| ------------ | ---------------------- |\n",
    "| Text Files   | `.txt`, `.py`, `.c`    |\n",
    "| Binary Files | `.jpg`, `.dat`, `.exe` |\n",
    "\n",
    "## Opening a File\n",
    "\n",
    "Use the `open()` function:\n",
    "\n",
    "```python\n",
    "f = open(\"filename\", \"mode\")\n",
    "```\n",
    "**Example**"
   ]
  },
  {
   "cell_type": "code",
   "execution_count": null,
   "id": "e16ed36d-aee6-4b3b-8af6-95c25957a7d7",
   "metadata": {},
   "outputs": [],
   "source": [
    "f = open(\"data.txt\", \"r\")"
   ]
  },
  {
   "cell_type": "markdown",
   "id": "82262212-43a5-4723-90cf-ffc634600bb3",
   "metadata": {},
   "source": [
    "### Reading From a File"
   ]
  },
  {
   "cell_type": "code",
   "execution_count": null,
   "id": "65e214cc-29ef-41e5-889c-53122e4a47c5",
   "metadata": {},
   "outputs": [],
   "source": [
    "f = open(\"data.txt\", \"r\")  # Open in read mode\n",
    "text = f.read()            # Read full content\n",
    "print(text)\n",
    "f.close()                  # Close the file"
   ]
  },
  {
   "cell_type": "markdown",
   "id": "40e2767c-0e27-4b49-bcab-9c77905b60c3",
   "metadata": {},
   "source": [
    "#### Reading Line-by-Line"
   ]
  },
  {
   "cell_type": "code",
   "execution_count": null,
   "id": "c46e3202-349a-4135-acc9-e159bb765024",
   "metadata": {},
   "outputs": [],
   "source": [
    "f = open(\"data.txt\", \"r\")\n",
    "line = f.readline()        # Reads one line at a time\n",
    "print(line)\n",
    "f.close()"
   ]
  },
  {
   "cell_type": "markdown",
   "id": "f9a35ae2-1ee4-431f-b666-9152168b55ed",
   "metadata": {},
   "source": [
    "### Writing to a File"
   ]
  },
  {
   "cell_type": "code",
   "execution_count": null,
   "id": "a2286066-494c-4e86-acfa-ed0e89ae0bd3",
   "metadata": {},
   "outputs": [],
   "source": [
    "f = open(\"this.txt\", \"w\")   # Opens file for writing\n",
    "f.write(\"This is nice\")     # Overwrites content\n",
    "f.close()"
   ]
  },
  {
   "cell_type": "markdown",
   "id": "e76fa90f-4438-46e9-a9a5-1840d0c5305f",
   "metadata": {},
   "source": [
    "## File Modes in Python\n",
    "\n",
    "| Mode | Purpose                 |\n",
    "| ---- | ----------------------- |\n",
    "| `r`  | Read (default mode)     |\n",
    "| `w`  | Write (overwrites file) |\n",
    "| `a`  | Append to end of file   |\n",
    "| `r+` | Read and write          |\n",
    "| `rb` | Read binary             |\n",
    "| `rt` | Read text (default)     |\n",
    "\n",
    "\n",
    "## The `with` Statement (Best Practice)\n",
    "\n",
    "* Automatically closes the file after use.\n",
    "* Cleaner and safer to use."
   ]
  },
  {
   "cell_type": "code",
   "execution_count": null,
   "id": "e409355d-b77a-4cb9-9186-22963dc9f985",
   "metadata": {},
   "outputs": [],
   "source": [
    "with open(\"this.txt\", \"r\") as f:\n",
    "    text = f.read()\n",
    "    print(text)"
   ]
  },
  {
   "cell_type": "markdown",
   "id": "5ec2dcda-b781-4ca3-af3a-5cab991d92b2",
   "metadata": {},
   "source": [
    "# Python Classes and Objects\n",
    "\n",
    "Python supports Object-Oriented Programming (OOP) principles.\n",
    "\n",
    "## What is OOP?\n",
    "\n",
    "* **OOP**: Programming paradigm based on **objects** and **classes**.\n",
    "* Promotes **code reusability**, **abstraction**, and **encapsulation**.\n",
    "* Key concepts: Classes, Objects, Inheritance, Encapsulation, Abstraction.\n",
    "\n",
    "## Classes and Objects\n",
    "\n",
    "* **Class**: Blueprint/template for creating objects.\n",
    "* **Object**: Instance of a class."
   ]
  },
  {
   "cell_type": "code",
   "execution_count": 16,
   "id": "4180f1b9-2632-4b1c-ba03-68810b82b3d8",
   "metadata": {},
   "outputs": [
    {
     "name": "stdout",
     "output_type": "stream",
     "text": [
      "Hi, I am Bob and I am 30 years old.\n"
     ]
    }
   ],
   "source": [
    "class Person:  # Creating class Person\n",
    "    def __init__(self, name, age):\n",
    "        self.name = name\n",
    "        self.age = age\n",
    "\n",
    "    def greet(self):\n",
    "        print(f\"Hi, I am {self.name} and I am {self.age} years old.\")\n",
    "\n",
    "p1 = Person(\"Bob\", 30)  # Creating an object of the class\n",
    "p1.greet()  # Output: Hi, I am Bob and I am 30 years old."
   ]
  },
  {
   "cell_type": "markdown",
   "id": "1e726ed4-90bc-443c-98e0-9495a37c4be4",
   "metadata": {},
   "source": [
    "## Instance vs Class Attributes\n",
    "\n",
    "| Attribute Type      | Description             | Example               |\n",
    "| ------------------- | ----------------------- | --------------------- |\n",
    "| Instance attributes | Unique to each object   | `self.name = \"Alice\"` |\n",
    "| Class attributes    | Shared by all instances | `company = \"Google\"`  |\n",
    "\n",
    "> If the same attribute exists in both class and instance, the instance attribute overrides it."
   ]
  },
  {
   "cell_type": "code",
   "execution_count": null,
   "id": "2d020705-39a2-4a15-83e1-b6b5bfb1ac47",
   "metadata": {},
   "outputs": [],
   "source": [
    "class Employee:\n",
    "    company = \"Google\"  # Class attribute\n",
    "\n",
    "e1 = Employee()\n",
    "e1.name = \"Alice\"       # Instance attribute"
   ]
  },
  {
   "cell_type": "markdown",
   "id": "ee4a1c1f-5bb5-42eb-8884-d1bc89fc8093",
   "metadata": {},
   "source": [
    "## The `self` Parameter\n",
    "\n",
    "* Represents the current instance/object.\n",
    "* Automatically passed when calling instance methods."
   ]
  },
  {
   "cell_type": "code",
   "execution_count": null,
   "id": "8831f78b-2696-4760-a71f-c5fbdc63c132",
   "metadata": {},
   "outputs": [],
   "source": [
    "class Example:\n",
    "    def show(self):\n",
    "        print(\"Inside show\")\n",
    "\n",
    "obj = Example()\n",
    "obj.show()  # Equivalent to Example.show(obj)"
   ]
  },
  {
   "cell_type": "markdown",
   "id": "df3734a8-af9b-4c01-95ac-6faf73f9c66f",
   "metadata": {},
   "source": [
    "## Constructor – `__init__()`\n",
    "\n",
    "* Special method called automatically when an object is created.\n",
    "* Used to initialize object attributes."
   ]
  },
  {
   "cell_type": "code",
   "execution_count": null,
   "id": "31e9688d-c955-4fb1-b4ec-ce14a195b010",
   "metadata": {},
   "outputs": [],
   "source": [
    "class Student:\n",
    "    def __init__(self, name):\n",
    "        self.name = name"
   ]
  },
  {
   "cell_type": "markdown",
   "id": "e978275f-2813-4ff2-85de-5064d738b24a",
   "metadata": {},
   "source": [
    "## Static Methods\n",
    "\n",
    "* Do **not** depend on instance (`self`).\n",
    "* Defined with `@staticmethod` decorator."
   ]
  },
  {
   "cell_type": "code",
   "execution_count": 17,
   "id": "fef21974-cf02-4da8-9a86-3a33623c17c7",
   "metadata": {},
   "outputs": [],
   "source": [
    "class Tools:\n",
    "    @staticmethod\n",
    "    def greet():\n",
    "        print(\"Hello!\")"
   ]
  },
  {
   "cell_type": "markdown",
   "id": "84de2cee-2ac4-4c51-b943-f42bdbb77942",
   "metadata": {},
   "source": [
    "## Inheritance\n",
    "\n",
    "* A child class inherits attributes and methods from a parent class.\n",
    "* Promotes **code reuse**."
   ]
  },
  {
   "cell_type": "code",
   "execution_count": null,
   "id": "80b73d78-92cb-4f16-9cc8-d8c8f58e6469",
   "metadata": {},
   "outputs": [],
   "source": [
    "class Animal:\n",
    "    def sound(self):\n",
    "        print(\"Animal sound\")\n",
    "\n",
    "class Dog(Animal):  # Inherits from Animal\n",
    "    def bark(self):\n",
    "        print(\"Bark!\")"
   ]
  },
  {
   "cell_type": "markdown",
   "id": "09eb8a09-f5c5-4257-b41d-126295d3f94b",
   "metadata": {},
   "source": [
    "### Types of Inheritance\n",
    "\n",
    "| Type       | Description                                              |\n",
    "| ---------- | -------------------------------------------------------- |\n",
    "| Single     | One child class inherits one parent                      |\n",
    "| Multiple   | Child inherits multiple parents                          |\n",
    "| Multilevel | Chain of inheritance (class inherits from derived class) |\n",
    "\n",
    "\n",
    "## The `super()` Method\n",
    "\n",
    "* Calls methods or constructors of the parent class."
   ]
  },
  {
   "cell_type": "code",
   "execution_count": null,
   "id": "105967dc-8536-48f1-80d4-fb40a3cb4b0e",
   "metadata": {},
   "outputs": [],
   "source": [
    "class Parent:\n",
    "    def __init__(self):\n",
    "        print(\"Parent init\")\n",
    "\n",
    "class Child(Parent):\n",
    "    def __init__(self):\n",
    "        super().__init__()  # Calls Parent __init__()\n",
    "        print(\"Child init\")"
   ]
  },
  {
   "cell_type": "markdown",
   "id": "9ffd8ef6-5e1a-46ac-b1d3-e7f2fb151c63",
   "metadata": {},
   "source": [
    "## Class Methods\n",
    "\n",
    "* Work on the class level, not on instance level.\n",
    "* Defined with `@classmethod` decorator."
   ]
  },
  {
   "cell_type": "code",
   "execution_count": null,
   "id": "d543e60b-17e3-492f-94ab-d167b876c792",
   "metadata": {},
   "outputs": [],
   "source": [
    "class MyClass:\n",
    "    count = 0\n",
    "\n",
    "    @classmethod\n",
    "    def show_count(cls):\n",
    "        print(cls.count)"
   ]
  },
  {
   "cell_type": "markdown",
   "id": "f58bbc7e-0c09-49f4-88ed-b59a75113a6c",
   "metadata": {},
   "source": [
    "## Encapsulation\n",
    "\n",
    "* Wrapping data (attributes) and methods into a single unit.\n",
    "* Restricts direct access to some components (private attributes).\n",
    "* Uses **private variables** and **getter/setter** methods.\n",
    "> Helps in data hiding and prevents misuse."
   ]
  },
  {
   "cell_type": "code",
   "execution_count": null,
   "id": "2e13d20e-71ec-4d0b-9757-4a902d40182e",
   "metadata": {},
   "outputs": [],
   "source": [
    "class BankAccount:\n",
    "    def __init__(self, balance):\n",
    "        self.__balance = balance  # private attribute\n",
    "\n",
    "    def deposit(self, amount):\n",
    "        self.__balance += amount\n",
    "\n",
    "    def get_balance(self):\n",
    "        return self.__balance\n",
    "\n",
    "account = BankAccount(1000)\n",
    "account.deposit(500)\n",
    "print(account.get_balance())  #  1500\n",
    "print(account.__balance)      #  AttributeError (encapsulated)"
   ]
  },
  {
   "cell_type": "markdown",
   "id": "2e7c12fd-f22e-4b6c-b56f-5415f28d3be0",
   "metadata": {},
   "source": [
    "## Abstraction\n",
    "\n",
    "* Hides complex internal logic, shows only necessary features.\n",
    "* Implemented with **abstract classes** using `abc` module.\n",
    "* Forces derived classes to implement abstract methods."
   ]
  },
  {
   "cell_type": "code",
   "execution_count": null,
   "id": "f1c31a97-02cd-4c37-b0fd-d6416d633ae9",
   "metadata": {},
   "outputs": [],
   "source": [
    "from abc import ABC, abstractmethod\n",
    "\n",
    "class Animal(ABC):\n",
    "    @abstractmethod\n",
    "    def make_sound(self):\n",
    "        pass\n",
    "\n",
    "class Dog(Animal):\n",
    "    def make_sound(self):\n",
    "        print(\"Bark!\")\n",
    "\n",
    "d = Dog()\n",
    "d.make_sound()  # Bark!"
   ]
  },
  {
   "cell_type": "markdown",
   "id": "a2b394ca-fef2-46e5-8fa4-cf4011fa6bce",
   "metadata": {},
   "source": [
    "## Summary Table\n",
    "\n",
    "| Concept       | Purpose                           | Implementation                            |\n",
    "| ------------- | --------------------------------- | ----------------------------------------- |\n",
    "| Encapsulation | Hide internal state               | Private attributes + getter/setter        |\n",
    "| Abstraction   | Hide internal complexity          | Abstract classes and methods (abc module) |\n",
    "| Inheritance   | Reuse code across related classes | `class Child(Parent):` syntax             |\n"
   ]
  },
  {
   "cell_type": "markdown",
   "id": "61ac229d-2d88-492d-8c2a-a16a7c083481",
   "metadata": {},
   "source": [
    "# Python Modules & Packages\n",
    "\n",
    "## What is a Module?\n",
    "\n",
    "* A **module** is a `.py` file containing functions, classes, and variables.\n",
    "* Helps organize code and promotes **reusability**.\n",
    "* Python includes many **built-in modules** and also allows you to create your **own modules**.\n",
    "\n",
    "## Importing Modules"
   ]
  },
  {
   "cell_type": "code",
   "execution_count": 18,
   "id": "d3e203f4-48d2-4851-bfd1-6b7c13a2e762",
   "metadata": {},
   "outputs": [
    {
     "name": "stdout",
     "output_type": "stream",
     "text": [
      "4.0\n"
     ]
    }
   ],
   "source": [
    "import math\n",
    "print(math.sqrt(16))"
   ]
  },
  {
   "cell_type": "markdown",
   "id": "9188342f-017a-424f-b1af-168cb1be92f6",
   "metadata": {},
   "source": [
    "### Import Specific Items"
   ]
  },
  {
   "cell_type": "code",
   "execution_count": 19,
   "id": "7f58508b-81a4-40dc-a8a3-722ed7af4beb",
   "metadata": {},
   "outputs": [
    {
     "name": "stdout",
     "output_type": "stream",
     "text": [
      "3.141592653589793\n",
      "-1.0\n"
     ]
    }
   ],
   "source": [
    "from math import pi, cos\n",
    "print(pi)         \n",
    "print(cos(pi))       "
   ]
  },
  {
   "cell_type": "markdown",
   "id": "7e47eaea-e7d0-406d-8a3a-a9c3a8bab153",
   "metadata": {},
   "source": [
    "### Import with Alias"
   ]
  },
  {
   "cell_type": "code",
   "execution_count": 20,
   "id": "63a34e83-1314-44a7-a773-4dc7fa4a9cd3",
   "metadata": {},
   "outputs": [
    {
     "name": "stdout",
     "output_type": "stream",
     "text": [
      "[1 2 3]\n"
     ]
    }
   ],
   "source": [
    "import numpy as np\n",
    "print(np.array([1, 2, 3]))"
   ]
  },
  {
   "cell_type": "markdown",
   "id": "a670f4e5-e690-43e6-8057-0b77de81503e",
   "metadata": {},
   "source": [
    "## Creating Your Own Module\n",
    "\n",
    "1. Create a file: `mymodule.py`\n",
    "\n",
    "```python\n",
    "# mymodule.py\n",
    "def greet(name):\n",
    "    return f\"Hello, {name}!\"\n",
    "```\n",
    "\n",
    "2. Use it in another file:\n",
    "\n",
    "```python\n",
    "# main.py\n",
    "import mymodule\n",
    "print(mymodule.greet(\"Alice\"))  # Hello, Alice!\n",
    "```\n",
    "\n",
    "## Python Standard Library\n",
    "\n",
    "Python provides many powerful built-in modules:\n",
    "\n",
    "| Module        | Purpose                              |\n",
    "| ------------- | ------------------------------------ |\n",
    "| `math`        | Mathematical operations              |\n",
    "| `random`      | Random number generation             |\n",
    "| `datetime`    | Date and time operations             |\n",
    "| `os`          | Interact with operating system       |\n",
    "| `sys`         | System-specific parameters and paths |\n",
    "| `json`        | JSON encoding and decoding           |\n",
    "| `re`          | Regular expressions                  |\n",
    "| `collections` | Specialized container datatypes      |\n",
    "\n",
    "## Useful Built-in Module Examples\n",
    "\n",
    "### `math` Module"
   ]
  },
  {
   "cell_type": "code",
   "execution_count": 21,
   "id": "ef9d5e3c-4040-4a9c-b0fe-167b7c8e7428",
   "metadata": {},
   "outputs": [
    {
     "name": "stdout",
     "output_type": "stream",
     "text": [
      "120\n",
      "5\n",
      "3.141592653589793\n"
     ]
    }
   ],
   "source": [
    "import math\n",
    "print(math.factorial(5))   \n",
    "print(math.ceil(4.2))      \n",
    "print(math.pi)      "
   ]
  },
  {
   "cell_type": "markdown",
   "id": "cbbe9b9b-349e-4e45-a8cd-d91adf90c79a",
   "metadata": {},
   "source": [
    "### `random` Module"
   ]
  },
  {
   "cell_type": "code",
   "execution_count": 22,
   "id": "399ca266-7f87-4a89-be46-ff81f904905a",
   "metadata": {},
   "outputs": [
    {
     "name": "stdout",
     "output_type": "stream",
     "text": [
      "banana\n",
      "[4, 1, 2, 3]\n"
     ]
    }
   ],
   "source": [
    "import random\n",
    "print(random.choice(['apple', 'banana', 'cherry']))  # Random choice\n",
    "\n",
    "lst = [1, 2, 3, 4]\n",
    "random.shuffle(lst)\n",
    "print(lst)  # List shuffled in-place"
   ]
  },
  {
   "cell_type": "markdown",
   "id": "782288d2-c0a8-4926-a5c1-98fc50a72f60",
   "metadata": {},
   "source": [
    "### `datetime` Module"
   ]
  },
  {
   "cell_type": "code",
   "execution_count": 23,
   "id": "0d8238e2-3dbc-4a6b-9986-2611066d511b",
   "metadata": {},
   "outputs": [
    {
     "name": "stdout",
     "output_type": "stream",
     "text": [
      "2025-08-15 21:20:51\n"
     ]
    }
   ],
   "source": [
    "import datetime\n",
    "now = datetime.datetime.now()\n",
    "print(now.strftime(\"%Y-%m-%d %H:%M:%S\"))"
   ]
  },
  {
   "cell_type": "markdown",
   "id": "806741c0-4790-4934-9b4b-69c9a7741cd1",
   "metadata": {},
   "source": [
    "### `os` Module"
   ]
  },
  {
   "cell_type": "code",
   "execution_count": null,
   "id": "7a14ae82-1e67-4d72-aa53-1c1e83109e36",
   "metadata": {},
   "outputs": [],
   "source": [
    "import os\n",
    "print(os.getcwd())        # Current working directory\n",
    "os.mkdir(\"test_folder\")   # Create new folder"
   ]
  },
  {
   "cell_type": "markdown",
   "id": "95980384-d2d0-447d-94e1-046da4b88772",
   "metadata": {},
   "source": [
    "### `sys` Module"
   ]
  },
  {
   "cell_type": "code",
   "execution_count": null,
   "id": "efec2ef5-13f8-48f2-97a2-7434c873de96",
   "metadata": {},
   "outputs": [],
   "source": [
    "import sys\n",
    "print(sys.version)        # Python version\n",
    "print(sys.path)           # List of paths Python searches for modules"
   ]
  },
  {
   "cell_type": "markdown",
   "id": "bead20f3-761b-42b4-bf3f-72006e9d9153",
   "metadata": {},
   "source": [
    "## The `__name__` Variable\n",
    "\n",
    "* Every module has a special built-in variable `__name__`.\n",
    "* It is set to `\"__main__\"` when the file is run directly.\n",
    "* Useful for running test code only when the script is executed directly."
   ]
  },
  {
   "cell_type": "code",
   "execution_count": null,
   "id": "2d259d09-ff6c-4605-8ecd-ea87c9286388",
   "metadata": {},
   "outputs": [],
   "source": [
    "def main():\n",
    "    print(\"Running as script\")\n",
    "\n",
    "if __name__ == \"__main__\":\n",
    "    main()"
   ]
  },
  {
   "cell_type": "markdown",
   "id": "ce5bfdf6-7900-4384-b7f4-ff66d117d34e",
   "metadata": {},
   "source": [
    "##  Python Packages\n",
    "\n",
    "* A **package** is a collection of Python modules.\n",
    "* A directory with an `__init__.py` file is treated as a package.\n",
    "\n",
    "### Example Structure:\n",
    "\n",
    "```\n",
    "mypackage/\n",
    "│\n",
    "├── __init__.py\n",
    "├── module1.py\n",
    "└── module2.py\n",
    "```\n",
    "\n",
    "### Importing from Package:"
   ]
  },
  {
   "cell_type": "code",
   "execution_count": null,
   "id": "ea241c6f-3332-4f69-b832-8a3b74abf5e5",
   "metadata": {},
   "outputs": [],
   "source": [
    "from mypackage import module1\n",
    "module1.some_function()"
   ]
  },
  {
   "cell_type": "markdown",
   "id": "7cbb49f9-9764-4ec4-a9c8-ac79de0e8c1c",
   "metadata": {},
   "source": [
    "##  Third-Party Modules\n",
    "\n",
    "* Python allows installation of external libraries using **pip**:\n",
    "\n",
    "```bash\n",
    "pip install requests\n",
    "```\n",
    "\n",
    "* Example usage:"
   ]
  },
  {
   "cell_type": "code",
   "execution_count": null,
   "id": "2eef62f2-b257-4559-8ad3-f50b4f33851e",
   "metadata": {},
   "outputs": [],
   "source": [
    "import requests\n",
    "response = requests.get(\"https://example.com\")\n",
    "print(response.status_code)"
   ]
  }
 ],
 "metadata": {
  "kernelspec": {
   "display_name": "Python 3 (ipykernel)",
   "language": "python",
   "name": "python3"
  },
  "language_info": {
   "codemirror_mode": {
    "name": "ipython",
    "version": 3
   },
   "file_extension": ".py",
   "mimetype": "text/x-python",
   "name": "python",
   "nbconvert_exporter": "python",
   "pygments_lexer": "ipython3",
   "version": "3.12.4"
  }
 },
 "nbformat": 4,
 "nbformat_minor": 5
}
