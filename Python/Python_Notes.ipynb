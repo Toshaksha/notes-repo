{
 "cells": [
  {
   "cell_type": "markdown",
   "id": "73cb68f2-babb-4729-b13c-26ec596455b4",
   "metadata": {},
   "source": [
    "# Detailed Notes with Examples"
   ]
  },
  {
   "cell_type": "markdown",
   "id": "71b78b3c-30f7-4d6d-b7ed-2304a173b25c",
   "metadata": {},
   "source": [
    "#  Python Introduction\n",
    "Python is a widely-used, high-level programming language known for its simplicity and readability. It supports multiple programming paradigms such as procedural, object-oriented, and functional programming. Python’s syntax is designed to be clear and concise, making it ideal for beginners and professionals alike.\n",
    "* FEATURES OF PYTHON:-\n",
    "    - Easy to understand = Less development time\n",
    "    - Free and open source\n",
    "    - High level language\n",
    "    - Portable: Works on Linux / Windows / Mac"
   ]
  },
  {
   "cell_type": "markdown",
   "id": "9b822806-79bd-4f9a-9a80-2a0429250546",
   "metadata": {},
   "source": [
    "# Python Syntax\n",
    "Python uses indentation (whitespace at the beginning of a line) to define code blocks instead of braces {}. This enforces readability but requires consistent indentation.\n",
    "\n",
    "* Indentation is usually 4 spaces.\n",
    "* Mixing tabs and spaces can cause errors."
   ]
  },
  {
   "cell_type": "code",
   "execution_count": 1,
   "id": "2c8aa59f-c72c-4d67-bfab-f8a0e3ab51c7",
   "metadata": {},
   "outputs": [
    {
     "name": "stdout",
     "output_type": "stream",
     "text": [
      "Ten is greater than five!\n"
     ]
    }
   ],
   "source": [
    "if 10 > 5:\n",
    "    print(\"Ten is greater than five!\")  # Indented code block"
   ]
  },
  {
   "cell_type": "markdown",
   "id": "e65d53e5-84fe-4bf0-b738-62f19759b3bc",
   "metadata": {},
   "source": [
    "# Python Comments\n",
    "Comments are lines ignored by the Python interpreter, used to explain code.\n",
    "* Single-line comments use #.\n",
    "* Multi-line comments can be done using triple quotes (''' ... ''' or \"\"\" ... \"\"\")."
   ]
  },
  {
   "cell_type": "code",
   "execution_count": 1,
   "id": "f57636d1-4425-42ea-a278-7313dc93540d",
   "metadata": {},
   "outputs": [
    {
     "data": {
      "text/plain": [
       "'\\nThis \\nis \\na multi- line\\ncomment\\n'"
      ]
     },
     "execution_count": 1,
     "metadata": {},
     "output_type": "execute_result"
    }
   ],
   "source": [
    "# This is a single-line comment\n",
    "\n",
    "\"\"\"\n",
    "This \n",
    "is \n",
    "a multi- line\n",
    "comment\n",
    "\"\"\"\n"
   ]
  },
  {
   "cell_type": "markdown",
   "id": "8b71f6b9-9e5a-499e-ab43-4ecafd9c50b8",
   "metadata": {},
   "source": [
    "# Python Variables\n",
    "* Variables in Python are used to store data values.\n",
    "* Python is dynamically typed — no need to declare variable type explicitly.\n",
    "* Variable names should start with a letter or underscore and can contain letters, numbers, and underscores.\n",
    "* No while space is allowed to be used inside a variable name."
   ]
  },
  {
   "cell_type": "code",
   "execution_count": 1,
   "id": "04b9affa-d22f-4d32-b269-39005a886517",
   "metadata": {
    "scrolled": true
   },
   "outputs": [
    {
     "name": "stdout",
     "output_type": "stream",
     "text": [
      "5\n",
      "Hello, Python!\n"
     ]
    }
   ],
   "source": [
    "x = 5\n",
    "y = \"Hello, Python!\"\n",
    "print(x)      \n",
    "print(y)      "
   ]
  },
  {
   "cell_type": "markdown",
   "id": "ea604bd1-1cf1-4e61-946a-e3f4b8b5c577",
   "metadata": {},
   "source": [
    "# Python Data Types\n",
    "Primarily these are the following data types in Python:\n",
    "1. Integers\n",
    "2. Floating point numbers\n",
    "3. Strings\n",
    "4. Booleans\n",
    "5. None\n",
    "- Python is a fantastic language that automatically identifies the type of data for us."
   ]
  },
  {
   "cell_type": "code",
   "execution_count": 4,
   "id": "bbc96c48-f93c-4612-81c1-f280092896e2",
   "metadata": {},
   "outputs": [],
   "source": [
    "age = 30                   \n",
    "price = 19.99              \n",
    "name = \"John\"              \n",
    "is_active = True           \n",
    "numbers = [1, 2, 3, 4]   \n",
    "person = {\"name\": \"Alice\", \"age\": 25} "
   ]
  },
  {
   "cell_type": "markdown",
   "id": "dbdbac76-4784-4d4b-b061-c720f78c1a7f",
   "metadata": {},
   "source": [
    "# Python Numbers and Arithmetic Operators\n",
    "Python supports standard arithmetic operations:\n",
    "\n",
    "| Operator | Description           | Example   | Result |\n",
    "|----------|-----------------------|-----------|--------|\n",
    "| +        | Addition              | 5 + 2     | 7      |\n",
    "| -        | Subtraction           | 5 - 2     | 3      |\n",
    "| *        | Multiplication        | 5 * 2     | 10     |\n",
    "| /        | Division (float)      | 5 / 2     | 2.5    |\n",
    "| //       | Floor division        | 5 // 2    | 2      |\n",
    "| %        | Modulus (remainder)   | 5 % 2     | 1      |\n",
    "| **       | Exponentiation        | 5 ** 2    | 25     |\n"
   ]
  },
  {
   "cell_type": "code",
   "execution_count": 2,
   "id": "f3afe48f-bbb2-409c-a8d1-a264e6a980e9",
   "metadata": {},
   "outputs": [
    {
     "name": "stdout",
     "output_type": "stream",
     "text": [
      "10\n",
      "2.3333333333333335\n",
      "2\n",
      "1\n",
      "343\n"
     ]
    }
   ],
   "source": [
    "a = 7\n",
    "b = 3\n",
    "print(a + b)  \n",
    "print(a / b)   \n",
    "print(a // b)  \n",
    "print(a % b)   \n",
    "print(a ** b) "
   ]
  },
  {
   "cell_type": "markdown",
   "id": "fb5a911b-62d6-4fe4-a7b8-0a234270e251",
   "metadata": {},
   "source": [
    "# Python Casting\n",
    "* Casting means converting one data type into another.\n",
    "* Use built-in functions: int(), float(), str(), bool().\n",
    "* Useful when you want to ensure the correct data type for operations."
   ]
  },
  {
   "cell_type": "code",
   "execution_count": 6,
   "id": "b584fe92-4f3c-4b11-adf1-9b335a676d6d",
   "metadata": {},
   "outputs": [
    {
     "name": "stdout",
     "output_type": "stream",
     "text": [
      "128\n",
      "10 apples\n"
     ]
    }
   ],
   "source": [
    "x = \"123\"\n",
    "print(int(x) + 5)    \n",
    "\n",
    "y = 10\n",
    "print(str(y) + \" apples\")  "
   ]
  },
  {
   "cell_type": "markdown",
   "id": "090c4e7c-fc6a-46a5-bad2-98b80feb7975",
   "metadata": {},
   "source": [
    "# Python Strings\n",
    "* Strings are sequences of Unicode characters.\n",
    "* Can be defined using single ('...') or double (\"...\") quotes.\n",
    "* Supports indexing (starting at 0),negative indexing (starting from -1) and slicing.\n",
    "* Strings are immutable (cannot be changed after creation).\n",
    "* Common string methods:\n",
    "\n",
    "| Method     | Description                | Example                       |\n",
    "|------------|----------------------------|------------------------------|\n",
    "| `.lower()` | Converts to lowercase       | `\"Hello\".lower()` → `\"hello\"` |\n",
    "| `.upper()` | Converts to uppercase       | `\"Hello\".upper()` → `\"HELLO\"` |\n",
    "| `.strip()` | Removes whitespace from ends| `\" hi \".strip()` → `\"hi\"`     |\n",
    "| `.replace()`| Replaces substring         | `\"hi\".replace('i', 'o')` → `\"ho\"` |\n",
    "| `.split()` | Splits string into list     | `\"a,b,c\".split(',')` → `['a','b','c']` |\n"
   ]
  },
  {
   "cell_type": "code",
   "execution_count": 7,
   "id": "86ca84f1-74c4-4eee-b6c2-ab93724aef1f",
   "metadata": {},
   "outputs": [
    {
     "name": "stdout",
     "output_type": "stream",
     "text": [
      "W\n",
      "Hello\n",
      "hello, world!\n",
      "Jello, World!\n"
     ]
    }
   ],
   "source": [
    "txt = \"Hello, World!\"\n",
    "print(txt[7])          \n",
    "print(txt[0:5])        \n",
    "print(txt.lower())     \n",
    "print(txt.replace(\"H\", \"J\"))  "
   ]
  },
  {
   "cell_type": "markdown",
   "id": "69e8a1b8-cefa-47e0-b9df-c4f549b6309c",
   "metadata": {},
   "source": [
    "# Python Booleans\n",
    "* Boolean values are either True or False.\n",
    "* Often result from comparison operators (==, !=, <, >, etc.)\n",
    "* Used for conditional statements."
   ]
  },
  {
   "cell_type": "code",
   "execution_count": 8,
   "id": "0cdc4e34-a0b5-4532-9a6f-5c3ef805f914",
   "metadata": {},
   "outputs": [
    {
     "name": "stdout",
     "output_type": "stream",
     "text": [
      "True\n",
      "False\n",
      "False\n",
      "True\n"
     ]
    }
   ],
   "source": [
    "print(10 > 9)    \n",
    "print(10 == 9)   \n",
    "print(bool(\"\"))  \n",
    "print(bool(\"Hi\"))"
   ]
  },
  {
   "cell_type": "markdown",
   "id": "162044b2-8cfe-459f-9bb9-7f73d37530d9",
   "metadata": {},
   "source": [
    "# Python Operators\n",
    "* Python supports several types of operators:\n",
    "\n",
    "1. Arithmetic Operators:- <br>\n",
    "+, -, *, /, //, %, ** \n",
    "\n",
    "2. Assignment Operators\n",
    "    | Operator | Meaning            | Example  |\n",
    "    |----------|--------------------|----------|\n",
    "    | =        | Assign             | x = 5    |\n",
    "    | +=       | Add and assign     | x += 3   |\n",
    "    | -=       | Subtract and assign| x -= 2   |\n",
    "\n",
    "3. Comparison Operators:- <br> \n",
    "==, !=, >, <, >=, <=\n",
    "\n",
    "4. Logical Operators:- <br>\n",
    "and, or, not\n",
    "\n",
    "5. Membership Operators:- <br>\n",
    "in, not in\n",
    "\n",
    "6. Identity Operators:- <br>\n",
    "is, is not"
   ]
  },
  {
   "cell_type": "code",
   "execution_count": 9,
   "id": "14789cff-1572-438c-b907-212eb78f3286",
   "metadata": {},
   "outputs": [
    {
     "name": "stdout",
     "output_type": "stream",
     "text": [
      "False\n",
      "True\n",
      "True\n",
      "True\n",
      "False\n"
     ]
    }
   ],
   "source": [
    "a = 10\n",
    "b = 5\n",
    "print(a == b)          \n",
    "print(a != b)          \n",
    "print(a > b and b > 0) \n",
    "print('a' in 'cat')    \n",
    "print(a is b)          "
   ]
  },
  {
   "cell_type": "markdown",
   "id": "ed55bd30-d3b3-43b3-8f94-a6b0a3daeff6",
   "metadata": {},
   "source": [
    "# TYPE() Function AND TYPECASTING\n",
    "- type() function is used to find the data type of a given variable in python.\n",
    "- There are many functions to convert one data type into another known as typecasting.\n"
   ]
  },
  {
   "cell_type": "code",
   "execution_count": 4,
   "id": "df68cf58-a27d-4d80-af59-41a991f9875f",
   "metadata": {},
   "outputs": [
    {
     "name": "stdout",
     "output_type": "stream",
     "text": [
      "<class 'int'>\n",
      "<class 'str'>\n"
     ]
    }
   ],
   "source": [
    "a = 31\n",
    "print(type(a))\n",
    "b = \"31\"\n",
    "print(type (b))"
   ]
  },
  {
   "cell_type": "code",
   "execution_count": 7,
   "id": "df89817d-a2ea-43c0-94c5-ad5636e2390f",
   "metadata": {},
   "outputs": [
    {
     "name": "stdout",
     "output_type": "stream",
     "text": [
      "<class 'str'>\n",
      "<class 'int'>\n",
      "<class 'float'>\n"
     ]
    }
   ],
   "source": [
    " a = str(31)        \t# integer to string conversion\n",
    "print(type(a))\n",
    "b = int(\"32\")           # string to integer conversion\n",
    "print(type(b))\n",
    "c = float(32)           # integer to float conversion\n",
    "print(type(c))"
   ]
  },
  {
   "cell_type": "markdown",
   "id": "d9920b4d-092b-4125-982f-d79bcefb2588",
   "metadata": {},
   "source": [
    "# Python Lists\n",
    "* Lists are ordered, mutable collections allowing duplicates.\n",
    "* Created with square brackets [].\n",
    "* Support indexing, slicing.\n",
    "* LIST METHODS:- \n",
    "- Consider the following list:\n",
    "- l1 = [1,8,7,2,21,15]\n",
    "    - `l1.sort()`: updates the list to [1,2,7,8,15,21]\n",
    "    - `l1.reverse()`: updates the list to [15,21,2,7,8,1]\n",
    "    - `l1.append(8)`: adds 8 at the end of the list\n",
    "    - `l1.insert(3,8)`: This will add 8 at 3 index\n",
    "    - `l1.pop(2)`: Will delete element at index 2 and return its value.\n",
    "    - `l1.remove(21)`: Will remove 21 from the list. "
   ]
  },
  {
   "cell_type": "code",
   "execution_count": 10,
   "id": "ec5b8e6a-72e1-4e64-8f8c-039ee6a147eb",
   "metadata": {},
   "outputs": [
    {
     "name": "stdout",
     "output_type": "stream",
     "text": [
      "banana\n",
      "['apple', 'cherry', 'orange']\n"
     ]
    }
   ],
   "source": [
    "fruits = [\"apple\", \"banana\", \"cherry\"]\n",
    "fruits.append(\"orange\")          \n",
    "print(fruits[1])                 \n",
    "fruits.remove(\"banana\")          \n",
    "fruits.sort()                  \n",
    "print(fruits)                 "
   ]
  },
  {
   "cell_type": "markdown",
   "id": "60689e6b-a96b-4313-8c17-20710b627e1a",
   "metadata": {},
   "source": [
    "# Python Tuples\n",
    "* Tuples are ordered, immutable sequences.\n",
    "* Created with parentheses ().\n",
    "* Faster than lists due to immutability.\n",
    "* Good for fixed collections.\n",
    "* TUPLE METHODS\n",
    "- Consider the following tuple.\n",
    "- a = (1, 7, 2)\n",
    "    - `a.count (1)`: a count (1) will return number of times 1 occurs in a.\n",
    "    - `a.index (1)`: will return the index of first occurrence of 1 in a."
   ]
  },
  {
   "cell_type": "code",
   "execution_count": 11,
   "id": "f1a46412-2545-4113-b78a-0a974bacb7a9",
   "metadata": {},
   "outputs": [
    {
     "name": "stdout",
     "output_type": "stream",
     "text": [
      "10\n"
     ]
    }
   ],
   "source": [
    "coordinates = (10, 20)\n",
    "print(coordinates[0])  \n",
    "# coordinates[0] = 15  # Error: tuples are immutable"
   ]
  },
  {
   "cell_type": "markdown",
   "id": "e6a6922a-b03c-4211-a553-3690de555321",
   "metadata": {},
   "source": [
    "# Python Sets\n",
    "* Created with curly braces {} or set() function.\n",
    "* Useful for membership testing, removing duplicates.\n",
    "1. Sets are unordered => Element’s order doesn’t matter\n",
    "2. Sets are unindexed => Cannot access elements by index\n",
    "3. There is no way to change items in sets.\n",
    "4. Sets cannot contain duplicate values.\n",
    "- OPERATIONS ON SETS\n",
    "- Consider the following set: s = {1,8,2,3}\n",
    "    - `len(s)`: Returns 4, the length of the set\n",
    "    - `s.remove(8)`: Updates the set s and removes 8 from s.\n",
    "    - `s.pop()`: Removes an arbitrary(random) element from the set and return the element removed.\n",
    "    - `s.clear()`:empties the set s.\n",
    "    - `s.union({8,11})`: Returns a new set with all items from both sets. {1,8,2,3,11}.\n",
    "    - `s.intersection({8,11}`): Return a set which contains only item in both sets {8}."
   ]
  },
  {
   "cell_type": "code",
   "execution_count": 12,
   "id": "04392502-aa2c-406b-9906-98dfbed3ae35",
   "metadata": {},
   "outputs": [
    {
     "name": "stdout",
     "output_type": "stream",
     "text": [
      "{'apple', 'banana', 'orange', 'cherry'}\n"
     ]
    }
   ],
   "source": [
    "myset = {\"apple\", \"banana\", \"cherry\"}\n",
    "myset.add(\"orange\")\n",
    "print(myset)  # Order is not guaranteed"
   ]
  },
  {
   "cell_type": "markdown",
   "id": "16bdce80-3de0-4892-8d4e-305fc37b99e9",
   "metadata": {},
   "source": [
    "# Python Dictionaries\n",
    "* Dictionaries store key-value pairs.\n",
    "* Keys must be immutable and unique.\n",
    "* Values can be any data type.\n",
    "* Created with curly braces {} and colon : syntax.\n",
    "* DICTIONARY METHODS\n",
    "- Consider the following dictionary.\n",
    "- a={\"name\":\"harry\" , \"from\":\"india\" , marks\":[92,98,96]}\n",
    "    - `a.items()`: Returns a list of (key,value)tuples.\n",
    "    - `a.keys()`: Returns a list containing dictionary's keys.\n",
    "    - `a.values()`: Returns a list containing dictionary's va;ues.\n",
    "    - `a.update({\"friends\": \"Tom\"})`: Updates the dictionary with supplied key-value pairs and if the key is not present it adds the key value pair.\n",
    "    - `a.get(\"name\")`: Returns the value of the specified keys (and value is returned eg.\"harry\" is returned here and None in case the key is not present).\n"
   ]
  },
  {
   "cell_type": "code",
   "execution_count": 13,
   "id": "ca6ad044-b615-4539-af34-682e33712960",
   "metadata": {},
   "outputs": [
    {
     "name": "stdout",
     "output_type": "stream",
     "text": [
      "Alice\n"
     ]
    }
   ],
   "source": [
    "person = {\"name\": \"Alice\", \"age\": 25}\n",
    "print(person[\"name\"])    \n",
    "person[\"age\"] = 26      # Update value\n",
    "person[\"city\"] = \"NY\"   # Add new key-value pair"
   ]
  },
  {
   "cell_type": "markdown",
   "id": "ceeb19ea-f4d6-4faa-8443-843665d594c6",
   "metadata": {},
   "source": [
    "# Python If...Else Statements\n",
    "* Control flow based on conditions.\n",
    "* If else and elif statements are a multiway decision taken by our program due to certain conditions in our code.\n",
    "* There can be any number of elif statements.\n",
    "* Last else is executed only if all the conditions inside elifs fail.\n"
   ]
  },
  {
   "cell_type": "code",
   "execution_count": 14,
   "id": "1ac85b81-607e-41b3-abe4-3d50b08df953",
   "metadata": {},
   "outputs": [
    {
     "name": "stdout",
     "output_type": "stream",
     "text": [
      "b is greater than a\n"
     ]
    }
   ],
   "source": [
    "a = 33\n",
    "b = 200\n",
    "if b > a:\n",
    "    print(\"b is greater than a\")\n",
    "elif a == b:\n",
    "    print(\"a and b are equal\")\n",
    "else:\n",
    "    print(\"a is greater than b\")"
   ]
  },
  {
   "cell_type": "markdown",
   "id": "1e33ae46-64f1-4b7d-b679-afda6934f5db",
   "metadata": {},
   "source": [
    "# Loops in Python\n",
    "* Sometimes we want to repeat a set of statements in our program. For instance: Print 1 to 1000.\n",
    "* Loops make it easy for a programmer to tell the computer which set of instructions to repeat and how!\n",
    "* TYPES OF LOOPS IN PYTHON:-\n",
    "    - while loops\n",
    "    - for loops"
   ]
  },
  {
   "cell_type": "markdown",
   "id": "d96ba764-c9ac-440c-85fa-51a41c134365",
   "metadata": {},
   "source": [
    "# Python While Loops\n",
    "- Syntax:\n",
    "  \n",
    "  ```\n",
    "    while (condition): # The block keeps executing until the condition is true\n",
    "    #Body of the loop\n",
    "  ```\n",
    "  \n",
    "- In while loops, the condition is checked first. If it evaluates to true, the body of the loop is executed otherwise not!\n",
    "- If the loop is entered, the process of [condition check & execution] is continued until the condition becomes False.\n"
   ]
  },
  {
   "cell_type": "code",
   "execution_count": 15,
   "id": "5d3f95ca-f169-4f47-901f-b6f720b91e90",
   "metadata": {},
   "outputs": [
    {
     "name": "stdout",
     "output_type": "stream",
     "text": [
      "1\n",
      "2\n",
      "3\n",
      "4\n",
      "5\n"
     ]
    }
   ],
   "source": [
    "i = 1\n",
    "while i < 6:\n",
    "    print(i)\n",
    "    i += 1"
   ]
  },
  {
   "cell_type": "markdown",
   "id": "734234fc-4955-490b-80d0-73742987d0d9",
   "metadata": {},
   "source": [
    "# Python For Loops\n",
    "* Iterate over sequences like lists, strings, or ranges."
   ]
  },
  {
   "cell_type": "code",
   "execution_count": 16,
   "id": "23ec67f5-fbe2-4a13-95c0-fdd2b142ef94",
   "metadata": {},
   "outputs": [
    {
     "name": "stdout",
     "output_type": "stream",
     "text": [
      "apple\n",
      "banana\n",
      "cherry\n",
      "0\n",
      "1\n",
      "2\n",
      "3\n",
      "4\n"
     ]
    }
   ],
   "source": [
    "fruits = [\"apple\", \"banana\", \"cherry\"]\n",
    "for fruit in fruits:\n",
    "    print(fruit)\n",
    "    \n",
    "for i in range(5):\n",
    "    print(i) "
   ]
  },
  {
   "cell_type": "markdown",
   "id": "7d073bcb-2141-403d-9c11-c9268b971b33",
   "metadata": {},
   "source": [
    "# For loop with Else\n",
    "An optional else can be used with a for loop if the code is to be executed when the loops exhausts."
   ]
  },
  {
   "cell_type": "code",
   "execution_count": 3,
   "id": "adcb8f06-d9e9-4d74-822f-235dd07b0b8c",
   "metadata": {},
   "outputs": [
    {
     "name": "stdout",
     "output_type": "stream",
     "text": [
      "1\n",
      "7\n",
      "8\n",
      "done\n"
     ]
    }
   ],
   "source": [
    "l= [1,7,8]\n",
    "for item in l:\n",
    "    print(item)\n",
    "else:\n",
    "    print(\"done\") "
   ]
  },
  {
   "cell_type": "markdown",
   "id": "daed4fef-2c46-4c53-8302-64e7404c40a7",
   "metadata": {},
   "source": [
    "# Range function in python\n",
    "- The range() function in python is used to generate a sequence of number.\n",
    "- We can also specify the start, stop and step-size as follows:\n",
    "    range(start, stop, step_size)"
   ]
  },
  {
   "cell_type": "code",
   "execution_count": 5,
   "id": "ffabff77-1dc9-4d4e-a49c-533a7756cb80",
   "metadata": {},
   "outputs": [
    {
     "name": "stdout",
     "output_type": "stream",
     "text": [
      "0\n",
      "1\n",
      "2\n",
      "3\n",
      "4\n",
      "5\n",
      "6\n"
     ]
    }
   ],
   "source": [
    "for i in range(0,7): # range(7) can also be used.\n",
    "    print(i) # prints 0 to 6"
   ]
  },
  {
   "cell_type": "markdown",
   "id": "c7265939-067b-4c31-8482-abf956294c22",
   "metadata": {},
   "source": [
    "# The Break Statement\n",
    "- ‘break’ is used to come out of the loop when encountered. It instructs the program to exit the loop now.\n"
   ]
  },
  {
   "cell_type": "code",
   "execution_count": 7,
   "id": "a16276f1-53e3-40d0-ab3d-c3f2d3814361",
   "metadata": {},
   "outputs": [
    {
     "name": "stdout",
     "output_type": "stream",
     "text": [
      "0\n",
      "1\n",
      "2\n",
      "3\n"
     ]
    }
   ],
   "source": [
    "for i in range (0,80):\n",
    "    print(i) # this will print 0,1,2 and 3\n",
    "    if i==3:\n",
    "        break"
   ]
  },
  {
   "cell_type": "markdown",
   "id": "aa88bff9-0def-4524-b1df-2d33e59bc617",
   "metadata": {},
   "source": [
    "# The Continue Statement\n",
    "- ‘continue’ is used to stop the current iteration of the loop and continue with the next one. It instructs the Program to “skip this iteration”."
   ]
  },
  {
   "cell_type": "code",
   "execution_count": 11,
   "id": "145f588b-fc9f-45d1-9a43-8720fa96f570",
   "metadata": {},
   "outputs": [
    {
     "name": "stdout",
     "output_type": "stream",
     "text": [
      "0\n",
      "1\n",
      "3\n"
     ]
    }
   ],
   "source": [
    "for i in range(4):\n",
    "    if i == 2: # if i is 2, the iteration is skipped\n",
    "        continue\n",
    "    print(i)"
   ]
  },
  {
   "cell_type": "markdown",
   "id": "0e44fd73-b708-4a3c-a7ee-d1a645204a1a",
   "metadata": {},
   "source": [
    "# Pass Statement\n",
    "- pass is a null statement in python.It instructs to “do nothing”."
   ]
  },
  {
   "cell_type": "code",
   "execution_count": 12,
   "id": "7ae5d639-cc9a-4ee8-9f49-e2b8f6e5368d",
   "metadata": {},
   "outputs": [],
   "source": [
    "for item in l:\n",
    "    pass # without pass, the program will throw an error"
   ]
  },
  {
   "cell_type": "markdown",
   "id": "2f096644-2711-4648-8423-f21e9e55cd19",
   "metadata": {},
   "source": [
    "# Python Functions\n",
    "- A function is a reusable block of code designed to perform a specific task.\n",
    "- Helps in organizing complex code and improving readability.\n",
    "- Functions reduce repetition and make code modular."
   ]
  },
  {
   "cell_type": "code",
   "execution_count": null,
   "id": "d88fa262-0542-4ebe-9d1d-dd938cd3d524",
   "metadata": {},
   "outputs": [],
   "source": [
    "# Function Syntax\n",
    "def func_name():\n",
    "    # function body\n",
    "\n",
    "# Call a function using: func_name()"
   ]
  },
  {
   "cell_type": "code",
   "execution_count": 2,
   "id": "72dd5882-f113-492f-b156-97a09a163d76",
   "metadata": {},
   "outputs": [
    {
     "name": "stdout",
     "output_type": "stream",
     "text": [
      "Hello!\n"
     ]
    }
   ],
   "source": [
    "def greet():\n",
    "    print(\"Hello!\")\n",
    "    \n",
    "greet()  # Calls the function"
   ]
  },
  {
   "cell_type": "markdown",
   "id": "b7dc1ceb-f161-4b3f-8e00-70bb1bf0eda3",
   "metadata": {},
   "source": [
    "### Function Definition vs Call\n",
    "- Definition: Writing the function logic (with def keyword).\n",
    "- Call: Executing the function using its name and ().\n",
    "\n",
    "### Types of Functions\n",
    "- Built-in functions:- Predefined in Python (e.g., print(), len(), range())\n",
    "- User-defined functions:- Created by the programmer using def\n",
    "\n",
    "### Functions with Parameters (Arguments)\n",
    "- Functions can accept input values called arguments.\n",
    "- Example:"
   ]
  },
  {
   "cell_type": "code",
   "execution_count": 4,
   "id": "db4dd572-0111-4eee-9ccd-eea34c22530d",
   "metadata": {},
   "outputs": [
    {
     "name": "stdout",
     "output_type": "stream",
     "text": [
      "Hello Tom\n"
     ]
    }
   ],
   "source": [
    "def greet(name):\n",
    "    return \"Hello \" + name\n",
    "\n",
    "print(greet(\"Tom\"))"
   ]
  },
  {
   "cell_type": "markdown",
   "id": "8314bbc8-43c1-4b04-b4be-2169d5b0f5fa",
   "metadata": {},
   "source": [
    "### Default Parameter Values\n",
    "- Use default arguments to avoid errors when a parameter is not passed."
   ]
  },
  {
   "cell_type": "code",
   "execution_count": 5,
   "id": "c6dad042-b50b-4c93-a36f-5fad0983a948",
   "metadata": {},
   "outputs": [
    {
     "name": "stdout",
     "output_type": "stream",
     "text": [
      "Hello Stranger\n",
      "Hello Tom\n"
     ]
    }
   ],
   "source": [
    "def greet(name=\"Stranger\"):\n",
    "    print(f\"Hello {name}\")\n",
    "\n",
    "greet()         \n",
    "greet(\"Tom\")  \n"
   ]
  },
  {
   "cell_type": "markdown",
   "id": "ea846533-ec1d-443f-bb36-0066df9635da",
   "metadata": {},
   "source": [
    "# Recursion – Function Calling Itself\n",
    "- Recursion is when a function calls itself to solve smaller instances of a problem.\n",
    "- Used often for mathematical patterns like factorials, Fibonacci, etc.\n",
    "- Must always have a base condition to avoid infinite loops.\n",
    "- Use recursion carefully — ensure base case exists to stop further calls.\n",
    "- Example: Factorial using Recursion"
   ]
  },
  {
   "cell_type": "code",
   "execution_count": 7,
   "id": "1828e0f3-035b-4902-8da8-f566696e77f3",
   "metadata": {},
   "outputs": [
    {
     "data": {
      "text/plain": [
       "6"
      ]
     },
     "execution_count": 7,
     "metadata": {},
     "output_type": "execute_result"
    }
   ],
   "source": [
    "def factorial(n):\n",
    "    if n == 0 or n == 1:\n",
    "        return 1  # base case\n",
    "    return n * factorial(n - 1)\n",
    "\n",
    "factorial(3)"
   ]
  },
  {
   "cell_type": "markdown",
   "id": "fd0309fe-876a-43ef-a25e-e540036d459d",
   "metadata": {},
   "source": [
    "# File I/O\n",
    "\n",
    "* Data in RAM is temporary (volatile) and lost when the program ends.\n",
    "* Files allow us to store data permanently on disk.\n",
    "* A file is a named location on storage that stores data.\n",
    "* Python lets us read from and write to files using built-in functions.\n",
    "\n",
    "### Types of Files\n",
    "\n",
    "1. Text Files – `.txt`, `.py`, `.c`, etc.\n",
    "2. Binary Files – `.jpg`, `.dat`, `.exe`, etc.\n",
    "\n",
    "### Opening a File\n",
    "\n",
    "* Use the open() function: open(\"filename\", \"mode\")\n",
    "* Example:"
   ]
  },
  {
   "cell_type": "code",
   "execution_count": null,
   "id": "e16ed36d-aee6-4b3b-8af6-95c25957a7d7",
   "metadata": {},
   "outputs": [],
   "source": [
    "f = open(\"data.txt\", \"r\")"
   ]
  },
  {
   "cell_type": "markdown",
   "id": "82262212-43a5-4723-90cf-ffc634600bb3",
   "metadata": {},
   "source": [
    "### Reading From a File"
   ]
  },
  {
   "cell_type": "code",
   "execution_count": null,
   "id": "65e214cc-29ef-41e5-889c-53122e4a47c5",
   "metadata": {},
   "outputs": [],
   "source": [
    "f = open(\"data.txt\", \"r\")  # Open in read mode\n",
    "text = f.read()            # Read full content\n",
    "print(text)\n",
    "f.close()                  # Close the file"
   ]
  },
  {
   "cell_type": "markdown",
   "id": "40e2767c-0e27-4b49-bcab-9c77905b60c3",
   "metadata": {},
   "source": [
    "#### Reading Line-by-Line"
   ]
  },
  {
   "cell_type": "code",
   "execution_count": null,
   "id": "c46e3202-349a-4135-acc9-e159bb765024",
   "metadata": {},
   "outputs": [],
   "source": [
    "line = f.readline()  # Reads one line at a time"
   ]
  },
  {
   "cell_type": "markdown",
   "id": "f9a35ae2-1ee4-431f-b666-9152168b55ed",
   "metadata": {},
   "source": [
    "### Writing to a File"
   ]
  },
  {
   "cell_type": "code",
   "execution_count": null,
   "id": "a2286066-494c-4e86-acfa-ed0e89ae0bd3",
   "metadata": {},
   "outputs": [],
   "source": [
    "f = open(\"this.txt\", \"w\")   # Opens file for writing\n",
    "f.write(\"This is nice\")     # Overwrites content\n",
    "f.close()"
   ]
  },
  {
   "cell_type": "markdown",
   "id": "e76fa90f-4438-46e9-a9a5-1840d0c5305f",
   "metadata": {},
   "source": [
    "### File Modes in Python\n",
    "\n",
    "| Mode | Purpose                 |\n",
    "| ---- | ----------------------- |\n",
    "| `r`  | Read (default mode)     |\n",
    "| `w`  | Write (overwrites file) |\n",
    "| `a`  | Append to end of file   |\n",
    "| `r+` | Read and write          |\n",
    "| `rb` | Read binary             |\n",
    "| `rt` | Read text (default)     |\n",
    "\n",
    "\n",
    "### The with Statement (Best Practice)\n",
    "\n",
    "* Automatically **closes the file** after use.\n",
    "* Cleaner and safer to use."
   ]
  },
  {
   "cell_type": "code",
   "execution_count": null,
   "id": "e409355d-b77a-4cb9-9186-22963dc9f985",
   "metadata": {},
   "outputs": [],
   "source": [
    "with open(\"this.txt\", \"r\") as f:\n",
    "    text = f.read()\n",
    "    print(text)"
   ]
  },
  {
   "cell_type": "markdown",
   "id": "5ec2dcda-b781-4ca3-af3a-5cab991d92b2",
   "metadata": {},
   "source": [
    "# Python Classes and Objects\n",
    "* Python supports OOP principles.\n",
    "* A class is a blueprint for creating objects.\n",
    "* An object is an instance of a class."
   ]
  },
  {
   "cell_type": "markdown",
   "id": "b5c5eb6c-eaf2-4da7-8bc4-bb7cee89c138",
   "metadata": {},
   "source": [
    "# Python OOP: Classes, Objects\n",
    "\n",
    "### Object-Oriented Programming (OOP)\n",
    "\n",
    "* A programming paradigm based on objects and classes.\n",
    "* Promotes code reusability (DRY principle), abstraction, and encapsulation.\n",
    "\n",
    "### Classes and Objects\n",
    "\n",
    "* Class: A blueprint/template for creating objects.\n",
    "* Object: An instance of a class."
   ]
  },
  {
   "cell_type": "code",
   "execution_count": 10,
   "id": "4180f1b9-2632-4b1c-ba03-68810b82b3d8",
   "metadata": {},
   "outputs": [
    {
     "name": "stdout",
     "output_type": "stream",
     "text": [
      "Hi, I am Bob and I am 30 years old.\n"
     ]
    }
   ],
   "source": [
    "class Person:                                # creating classs Person\n",
    "    def __init__(self, name, age):\n",
    "        self.name = name\n",
    "        self.age = age\n",
    "\n",
    "    def greet(self):\n",
    "        print(f\"Hi, I am {self.name} and I am {self.age} years old.\")\n",
    "\n",
    "p1 = Person(\"Bob\", 30)                  # object of class \n",
    "p1.greet()"
   ]
  },
  {
   "cell_type": "markdown",
   "id": "1e726ed4-90bc-443c-98e0-9495a37c4be4",
   "metadata": {},
   "source": [
    "### Instance vs Class Attributes\n",
    "\n",
    "* Instance attributes: Unique to each object.\n",
    "* Class attributes: Shared among all instances.\n",
    "\n",
    "> If the same attribute exists in both class and instance, the instance attribute overrides it."
   ]
  },
  {
   "cell_type": "code",
   "execution_count": null,
   "id": "2d020705-39a2-4a15-83e1-b6b5bfb1ac47",
   "metadata": {},
   "outputs": [],
   "source": [
    "class Employee:\n",
    "    company = \"Google\"  # Class attribute\n",
    "\n",
    "e1 = Employee()\n",
    "e1.name = \"Alice\"       # Instance attribute"
   ]
  },
  {
   "cell_type": "markdown",
   "id": "ee4a1c1f-5bb5-42eb-8884-d1bc89fc8093",
   "metadata": {},
   "source": [
    "### self Parameter\n",
    "\n",
    "* self represents the current object.\n",
    "* Automatically passed when calling a method from an object."
   ]
  },
  {
   "cell_type": "code",
   "execution_count": null,
   "id": "8831f78b-2696-4760-a71f-c5fbdc63c132",
   "metadata": {},
   "outputs": [],
   "source": [
    "class Example:\n",
    "    def show(self):\n",
    "        print(\"Inside show\")\n",
    "\n",
    "obj = Example()\n",
    "obj.show()  # Equivalent to Example.show(obj)"
   ]
  },
  {
   "cell_type": "markdown",
   "id": "df3734a8-af9b-4c01-95ac-6faf73f9c66f",
   "metadata": {},
   "source": [
    "### Constructors – `__init__()`\n",
    "\n",
    "* Special method called automatically when an object is created.\n",
    "* Used to initialize attributes."
   ]
  },
  {
   "cell_type": "code",
   "execution_count": null,
   "id": "31e9688d-c955-4fb1-b4ec-ce14a195b010",
   "metadata": {},
   "outputs": [],
   "source": [
    "class Student:\n",
    "    def __init__(self, name):\n",
    "        self.name = name"
   ]
  },
  {
   "cell_type": "markdown",
   "id": "e978275f-2813-4ff2-85de-5064d738b24a",
   "metadata": {},
   "source": [
    "### Static Methods\n",
    "\n",
    "* Do not depend on instance (self).\n",
    "* Use @staticmethod decorator."
   ]
  },
  {
   "cell_type": "code",
   "execution_count": null,
   "id": "fef21974-cf02-4da8-9a86-3a33623c17c7",
   "metadata": {},
   "outputs": [],
   "source": [
    "class Tools:\n",
    "    @staticmethod\n",
    "    def greet():\n",
    "        print(\"Hello!\")"
   ]
  },
  {
   "cell_type": "markdown",
   "id": "84de2cee-2ac4-4c51-b943-f42bdbb77942",
   "metadata": {},
   "source": [
    "# Inheritance \n",
    "\n",
    "* Inheritance lets a class (child) inherit from another class (parent).\n",
    "* Promotes code reuse."
   ]
  },
  {
   "cell_type": "code",
   "execution_count": null,
   "id": "80b73d78-92cb-4f16-9cc8-d8c8f58e6469",
   "metadata": {},
   "outputs": [],
   "source": [
    "class Animal:\n",
    "    def sound(self):\n",
    "        print(\"Animal sound\")\n",
    "\n",
    "class Dog(Animal):  # Inherits from Animal\n",
    "    def bark(self):\n",
    "        print(\"Bark!\")"
   ]
  },
  {
   "cell_type": "markdown",
   "id": "09eb8a09-f5c5-4257-b41d-126295d3f94b",
   "metadata": {},
   "source": [
    "### Types of Inheritance\n",
    "\n",
    "| Type       | Description                                     |\n",
    "| ---------- | ----------------------------------------------- |\n",
    "| Single     | One child class inherits from one parent class  |\n",
    "| Multiple   | Child inherits from multiple parent classes     |\n",
    "| Multilevel | A class inherits from a derived class (chain)   |\n",
    "\n",
    "\n",
    "### super() Method\n",
    "\n",
    "* Used to call the parent class’s methods/constructor from child class."
   ]
  },
  {
   "cell_type": "code",
   "execution_count": null,
   "id": "105967dc-8536-48f1-80d4-fb40a3cb4b0e",
   "metadata": {},
   "outputs": [],
   "source": [
    "class Parent:\n",
    "    def __init__(self):\n",
    "        print(\"Parent init\")\n",
    "\n",
    "class Child(Parent):\n",
    "    def __init__(self):\n",
    "        super().__init__()  # Calls Parent __init__()\n",
    "        print(\"Child init\")"
   ]
  },
  {
   "cell_type": "markdown",
   "id": "9ffd8ef6-5e1a-46ac-b1d3-e7f2fb151c63",
   "metadata": {},
   "source": [
    "### Class Methods\n",
    "\n",
    "* Work on class level, not instance level.\n",
    "* Defined using @classmethod."
   ]
  },
  {
   "cell_type": "code",
   "execution_count": null,
   "id": "d543e60b-17e3-492f-94ab-d167b876c792",
   "metadata": {},
   "outputs": [],
   "source": [
    "class MyClass:\n",
    "    count = 0\n",
    "\n",
    "    @classmethod\n",
    "    def show_count(cls):\n",
    "        print(cls.count)"
   ]
  },
  {
   "cell_type": "markdown",
   "id": "f58bbc7e-0c09-49f4-88ed-b59a75113a6c",
   "metadata": {},
   "source": [
    "# Encapsulation\n",
    "\n",
    "> Wrapping data (attributes) and methods into a single unit (class) and restricting direct access to some components.\n",
    "\n",
    "* Protects internal object state.\n",
    "* Achieved by using private variables and getter/setter methods.\n",
    "\n",
    "> Helps in data hiding and prevents misuse."
   ]
  },
  {
   "cell_type": "code",
   "execution_count": null,
   "id": "2e13d20e-71ec-4d0b-9757-4a902d40182e",
   "metadata": {},
   "outputs": [],
   "source": [
    "class BankAccount:\n",
    "    def __init__(self, balance):\n",
    "        self.__balance = balance  # private attribute\n",
    "\n",
    "    def deposit(self, amount):\n",
    "        self.__balance += amount\n",
    "\n",
    "    def get_balance(self):\n",
    "        return self.__balance\n",
    "\n",
    "account = BankAccount(1000)\n",
    "account.deposit(500)\n",
    "print(account.get_balance())  #  1500\n",
    "print(account.__balance)      #  AttributeError (encapsulated)"
   ]
  },
  {
   "cell_type": "markdown",
   "id": "2e7c12fd-f22e-4b6c-b56f-5415f28d3be0",
   "metadata": {},
   "source": [
    "# Abstraction\n",
    "\n",
    "> Hiding complex internal logic and showing only the necessary features to the user.\n",
    "\n",
    "* Implemented using abstract classes (via `abc` module).\n",
    "* Forces derived classes to implement specific methods.\n",
    "\n",
    "> Useful when you want to enforce structure across multiple classes."
   ]
  },
  {
   "cell_type": "code",
   "execution_count": null,
   "id": "f1c31a97-02cd-4c37-b0fd-d6416d633ae9",
   "metadata": {},
   "outputs": [],
   "source": [
    "from abc import ABC, abstractmethod\n",
    "\n",
    "class Animal(ABC):\n",
    "    @abstractmethod\n",
    "    def make_sound(self):\n",
    "        pass\n",
    "\n",
    "class Dog(Animal):\n",
    "    def make_sound(self):\n",
    "        print(\"Bark!\")\n",
    "\n",
    "d = Dog()\n",
    "d.make_sound()  # Bark!"
   ]
  },
  {
   "cell_type": "markdown",
   "id": "a2b394ca-fef2-46e5-8fa4-cf4011fa6bce",
   "metadata": {},
   "source": [
    "### Comparison\n",
    "\n",
    "| Concept       | Purpose                           | Implementation                                           |\n",
    "| ------------- | --------------------------------- | -------------------------------------------------------- |\n",
    "| Encapsulation | Hide internal state               | Use `__private` attributes + getters/setters             |\n",
    "| Abstraction   | Hide internal logic/complexity    | Use abstract classes and methods (`abc` module)          |\n",
    "| Inheritance   | Reuse code across related classes | Define a child class using `class Child(Parent):` syntax |\n",
    "\n"
   ]
  },
  {
   "cell_type": "markdown",
   "id": "61ac229d-2d88-492d-8c2a-a16a7c083481",
   "metadata": {},
   "source": [
    "## Python Modules \n",
    "* A module in Python is a file containing Python definitions and statements (functions, variables, classes) that can be reused across different programs by importing it.\n",
    "* Helps organize code logically.\n",
    "* Promotes code reuse.\n",
    "* Python provides many built-in modules.\n",
    "* You can also create your own modules.\n",
    "\n",
    "### Importing Modules\n",
    "* Use the import statement to include modules in your script."
   ]
  },
  {
   "cell_type": "code",
   "execution_count": 19,
   "id": "d3e203f4-48d2-4851-bfd1-6b7c13a2e762",
   "metadata": {},
   "outputs": [
    {
     "name": "stdout",
     "output_type": "stream",
     "text": [
      "4.0\n"
     ]
    }
   ],
   "source": [
    "import math\n",
    "print(math.sqrt(16))  "
   ]
  },
  {
   "cell_type": "code",
   "execution_count": 20,
   "id": "7f58508b-81a4-40dc-a8a3-722ed7af4beb",
   "metadata": {},
   "outputs": [
    {
     "name": "stdout",
     "output_type": "stream",
     "text": [
      "3.141592653589793\n",
      "-1.0\n"
     ]
    }
   ],
   "source": [
    "# You can also import specific attributes/functions:\n",
    "\n",
    "from math import pi, cos\n",
    "print(pi)             \n",
    "print(cos(pi))       "
   ]
  },
  {
   "cell_type": "code",
   "execution_count": 21,
   "id": "63a34e83-1314-44a7-a773-4dc7fa4a9cd3",
   "metadata": {},
   "outputs": [
    {
     "name": "stdout",
     "output_type": "stream",
     "text": [
      "[1 2 3]\n"
     ]
    }
   ],
   "source": [
    "# Or import with an alias:\n",
    "\n",
    "import numpy as np\n",
    "print(np.array([1, 2, 3]))"
   ]
  },
  {
   "cell_type": "markdown",
   "id": "a670f4e5-e690-43e6-8057-0b77de81503e",
   "metadata": {},
   "source": [
    "### Creating Your Own Module\n",
    "* Create a .py file with functions, classes, or variables.\n",
    "* Import it in another script."
   ]
  },
  {
   "cell_type": "code",
   "execution_count": null,
   "id": "6018e495-160c-437d-888a-fbedc39d6998",
   "metadata": {},
   "outputs": [],
   "source": [
    "# Example:\n",
    "\n",
    "mymodule.py\n",
    "def greet(name):\n",
    "    return f\"Hello, {name}!\"\n",
    "main.py\n",
    "\n",
    "import mymodule\n",
    "print(mymodule.greet(\"Alice\"))  # Hello, Alice!"
   ]
  },
  {
   "cell_type": "markdown",
   "id": "1b87c1fc-3532-4faa-9df3-4f5374bfdb1e",
   "metadata": {},
   "source": [
    "### Python Standard Library\n",
    "* Python comes with a large collection of standard modules for various tasks:\n",
    "\n",
    "| Module       | Description                                 |\n",
    "|--------------|---------------------------------------------|\n",
    "| `math`       | Mathematical functions                      |\n",
    "| `random`     | Generate random numbers                     |\n",
    "| `datetime`   | Date and time manipulation                  |\n",
    "| `os`         | Operating system dependent functionality    |\n",
    "| `sys`        | System-specific parameters and functions    |\n",
    "| `json`       | JSON encoding and decoding                  |\n",
    "| `re`         | Regular expressions                         |\n",
    "| `collections`| Container datatypes like `deque`, `namedtuple` |\n"
   ]
  },
  {
   "cell_type": "code",
   "execution_count": 22,
   "id": "74065d27-8f89-4931-9d3c-0f634e874a0f",
   "metadata": {},
   "outputs": [
    {
     "name": "stdout",
     "output_type": "stream",
     "text": [
      "3\n"
     ]
    }
   ],
   "source": [
    "import random\n",
    "print(random.randint(1, 10)) "
   ]
  },
  {
   "cell_type": "markdown",
   "id": "ce5bfdf6-7900-4384-b7f4-ff66d117d34e",
   "metadata": {},
   "source": [
    "### Packages\n",
    "* A package is a way of structuring Python’s module namespace by using dotted module names.\n",
    "* A package is a folder containing a special __init__.py file and other modules or sub-packages."
   ]
  },
  {
   "cell_type": "code",
   "execution_count": null,
   "id": "ea241c6f-3332-4f69-b832-8a3b74abf5e5",
   "metadata": {},
   "outputs": [],
   "source": [
    "# Example folder structure:\n",
    "\n",
    "mypackage/\n",
    "    __init__.py\n",
    "    module1.py\n",
    "    module2.py\n",
    "Import from package:\n",
    "\n",
    "from mypackage import module1\n",
    "module1.some_function()"
   ]
  },
  {
   "cell_type": "markdown",
   "id": "1843389b-bb18-4928-a3a9-50a068f5b1e7",
   "metadata": {},
   "source": [
    "### Useful Built-in Modules with Examples\n",
    "1. math Module\n",
    "* Provides math functions."
   ]
  },
  {
   "cell_type": "code",
   "execution_count": 23,
   "id": "ef9d5e3c-4040-4a9c-b0fe-167b7c8e7428",
   "metadata": {},
   "outputs": [
    {
     "name": "stdout",
     "output_type": "stream",
     "text": [
      "120\n",
      "5\n",
      "3.141592653589793\n"
     ]
    }
   ],
   "source": [
    "import math\n",
    "print(math.factorial(5))  \n",
    "print(math.ceil(4.2))     \n",
    "print(math.pi)            "
   ]
  },
  {
   "cell_type": "markdown",
   "id": "395f26f5-d492-4ca4-b394-4f44ad1acfd6",
   "metadata": {},
   "source": [
    "2. random Module\n",
    "* Random number generators."
   ]
  },
  {
   "cell_type": "code",
   "execution_count": 24,
   "id": "44c22d9a-423e-4743-8bd2-635b0ef954b3",
   "metadata": {},
   "outputs": [
    {
     "name": "stdout",
     "output_type": "stream",
     "text": [
      "apple\n",
      "None\n"
     ]
    }
   ],
   "source": [
    "import random\n",
    "print(random.choice(['apple', 'banana', 'cherry']))  \n",
    "print(random.shuffle([1, 2, 3, 4]))  # Shuffles list in place"
   ]
  },
  {
   "cell_type": "markdown",
   "id": "cf4cfbd1-8b64-407e-b5f2-8e393be8fad5",
   "metadata": {},
   "source": [
    "3. datetime Module\n",
    "* Work with dates and times."
   ]
  },
  {
   "cell_type": "code",
   "execution_count": 25,
   "id": "0eccf8d5-84bb-4165-8614-bff4b663860f",
   "metadata": {},
   "outputs": [
    {
     "name": "stdout",
     "output_type": "stream",
     "text": [
      "2025-06-27 21:55:07\n"
     ]
    }
   ],
   "source": [
    "import datetime\n",
    "now = datetime.datetime.now()\n",
    "print(now.strftime(\"%Y-%m-%d %H:%M:%S\"))  # Format date and time"
   ]
  },
  {
   "cell_type": "markdown",
   "id": "d3565162-5803-43c4-933e-f773cf2221c4",
   "metadata": {},
   "source": [
    "4. os Module\n",
    "* Interact with the operating system."
   ]
  },
  {
   "cell_type": "code",
   "execution_count": null,
   "id": "5b3a09b0-3e80-47a2-a764-1218c728038a",
   "metadata": {},
   "outputs": [],
   "source": [
    "import os\n",
    "print(os.getcwd())  # Current working directory\n",
    "os.mkdir(\"test_folder\")  # Create directory"
   ]
  },
  {
   "cell_type": "markdown",
   "id": "0a433ce4-d198-44a4-9bbf-618a55ac2dab",
   "metadata": {},
   "source": [
    "5. sys Module\n",
    "* System-specific parameters and functions."
   ]
  },
  {
   "cell_type": "code",
   "execution_count": null,
   "id": "cd8ead7d-2ada-473c-8092-94a927728241",
   "metadata": {},
   "outputs": [],
   "source": [
    "import sys\n",
    "print(sys.version)  # Python version\n",
    "print(sys.path)     # Module search paths"
   ]
  },
  {
   "cell_type": "markdown",
   "id": "8f2d640f-e89a-48b3-a4d9-fd8087bda4ad",
   "metadata": {},
   "source": [
    "###  The __name__ Variable\n",
    "* Every Python module has a special built-in variable called __name__.\n",
    "* When the module is run directly, __name__ is \"__main__\".\n",
    "* When imported, it is the module’s name.\n",
    "* Useful for making code run only when the module is executed directly, not when imported."
   ]
  },
  {
   "cell_type": "code",
   "execution_count": null,
   "id": "2444c8da-fa03-4b01-95ee-5ae6c043f0c1",
   "metadata": {},
   "outputs": [],
   "source": [
    "def main():\n",
    "    print(\"Running as script\")\n",
    "\n",
    "if __name__ == \"__main__\":\n",
    "    main()"
   ]
  },
  {
   "cell_type": "markdown",
   "id": "59a72954-dbfe-49d3-b6fb-99371979fcb8",
   "metadata": {},
   "source": [
    "### Third-Party Modules\n",
    "* Python supports external libraries (modules) not included in the standard library.\n",
    "* Installed via package manager pip.\n",
    "* Example:\n",
    "    - pip install requests"
   ]
  }
 ],
 "metadata": {
  "kernelspec": {
   "display_name": "Python 3 (ipykernel)",
   "language": "python",
   "name": "python3"
  },
  "language_info": {
   "codemirror_mode": {
    "name": "ipython",
    "version": 3
   },
   "file_extension": ".py",
   "mimetype": "text/x-python",
   "name": "python",
   "nbconvert_exporter": "python",
   "pygments_lexer": "ipython3",
   "version": "3.12.4"
  }
 },
 "nbformat": 4,
 "nbformat_minor": 5
}
